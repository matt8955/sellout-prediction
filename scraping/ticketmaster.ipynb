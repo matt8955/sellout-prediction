{
 "cells": [
  {
   "cell_type": "code",
   "execution_count": 40,
   "metadata": {},
   "outputs": [],
   "source": [
    "import requests\n",
    "import pandas as pd\n",
    "import numpy as np\n",
    "import sqlalchemy as db\n",
    "import json\n",
    "import datetime\n",
    "import functions as f\n",
    "from tqdm import tqdm\n",
    "import time"
   ]
  },
  {
   "cell_type": "code",
   "execution_count": 41,
   "metadata": {},
   "outputs": [],
   "source": [
    "state = pd.read_csv('states.csv')"
   ]
  },
  {
   "cell_type": "code",
   "execution_count": 42,
   "metadata": {},
   "outputs": [],
   "source": [
    "states = list(state.Abbreviation)"
   ]
  },
  {
   "cell_type": "code",
   "execution_count": 43,
   "metadata": {},
   "outputs": [],
   "source": [
    "size = '200' #maxsize\n",
    "engine = db.create_engine('sqlite:///tickets.db')\n",
    "table = 'events'\n",
    "frame_list = []\n",
    "fails = []\n",
    "success= []\n"
   ]
  },
  {
   "cell_type": "code",
   "execution_count": 44,
   "metadata": {},
   "outputs": [
    {
     "name": "stderr",
     "output_type": "stream",
     "text": [
      "100%|██████████| 51/51 [07:38<00:00,  9.00s/it]\n"
     ]
    }
   ],
   "source": [
    "frame_list = []\n",
    "for state in tqdm(states):\n",
    "    for page in range(5):\n",
    "        frame_list.append(f.scrape_ticketmaster(state, size, page))\n",
    "        time.sleep(1)"
   ]
  },
  {
   "cell_type": "code",
   "execution_count": 45,
   "metadata": {},
   "outputs": [
    {
     "data": {
      "text/plain": [
       "255"
      ]
     },
     "execution_count": 45,
     "metadata": {},
     "output_type": "execute_result"
    }
   ],
   "source": [
    "len(frame_list)"
   ]
  },
  {
   "cell_type": "code",
   "execution_count": 46,
   "metadata": {},
   "outputs": [],
   "source": [
    "temp = []\n",
    "fail = []\n",
    "for x in frame_list:\n",
    "    try:\n",
    "        df = pd.DataFrame(x['_embedded'] ['events'])\n",
    "        temp.append(df)\n",
    "    except:\n",
    "        fail.append(x)"
   ]
  },
  {
   "cell_type": "code",
   "execution_count": 47,
   "metadata": {},
   "outputs": [
    {
     "data": {
      "text/plain": [
       "115"
      ]
     },
     "execution_count": 47,
     "metadata": {},
     "output_type": "execute_result"
    }
   ],
   "source": [
    "len(fail)"
   ]
  },
  {
   "cell_type": "code",
   "execution_count": 48,
   "metadata": {},
   "outputs": [],
   "source": [
    "df = pd.concat(temp, sort=False)"
   ]
  },
  {
   "cell_type": "code",
   "execution_count": 49,
   "metadata": {},
   "outputs": [],
   "source": [
    "df.reset_index(inplace=True)"
   ]
  },
  {
   "cell_type": "code",
   "execution_count": 50,
   "metadata": {},
   "outputs": [
    {
     "data": {
      "text/plain": [
       "Index(['index', 'name', 'type', 'id', 'test', 'url', 'locale', 'images',\n",
       "       'sales', 'dates', 'classifications', 'promoter', 'promoters', 'info',\n",
       "       'priceRanges', '_links', '_embedded', 'pleaseNote', 'ticketLimit',\n",
       "       'products', 'seatmap', 'accessibility', 'outlets', 'description'],\n",
       "      dtype='object')"
      ]
     },
     "execution_count": 50,
     "metadata": {},
     "output_type": "execute_result"
    }
   ],
   "source": [
    "df.columns"
   ]
  },
  {
   "cell_type": "code",
   "execution_count": 51,
   "metadata": {},
   "outputs": [],
   "source": [
    "df.drop(columns = ['index'],inplace=True)"
   ]
  },
  {
   "cell_type": "code",
   "execution_count": 52,
   "metadata": {},
   "outputs": [],
   "source": [
    "#drop nulls because wont have important model feature\n",
    "df.dropna(subset=['priceRanges'],inplace=True)"
   ]
  },
  {
   "cell_type": "code",
   "execution_count": 53,
   "metadata": {},
   "outputs": [],
   "source": [
    "df = f.unpack_price(df)"
   ]
  },
  {
   "cell_type": "code",
   "execution_count": 54,
   "metadata": {},
   "outputs": [],
   "source": [
    "df = f.unpack_limit(df)"
   ]
  },
  {
   "cell_type": "code",
   "execution_count": 55,
   "metadata": {},
   "outputs": [],
   "source": [
    "df.max_tickets.fillna(10,inplace=True)"
   ]
  },
  {
   "cell_type": "code",
   "execution_count": 56,
   "metadata": {},
   "outputs": [],
   "source": [
    "df = f.unpack_venue(df)"
   ]
  },
  {
   "cell_type": "code",
   "execution_count": 57,
   "metadata": {},
   "outputs": [],
   "source": [
    "df = f.unpack_market(df)"
   ]
  },
  {
   "cell_type": "code",
   "execution_count": 58,
   "metadata": {},
   "outputs": [],
   "source": [
    "df = f.unpack_classifications(df)"
   ]
  },
  {
   "cell_type": "code",
   "execution_count": 59,
   "metadata": {},
   "outputs": [],
   "source": [
    "df = f.unpack_presales(df)"
   ]
  },
  {
   "cell_type": "code",
   "execution_count": 60,
   "metadata": {},
   "outputs": [
    {
     "data": {
      "text/plain": [
       "Index(['name_x', 'type', 'id', 'test', 'url', 'locale', 'images', 'dates',\n",
       "       'promoter', 'promoters', 'info', '_links', '_embedded', 'pleaseNote',\n",
       "       'products', 'seatmap', 'accessibility', 'outlets', 'description',\n",
       "       'price_min', 'price_max', 'max_tickets', 'name_y', 'postalCode',\n",
       "       'city.name', 'state.name', 'state.stateCode', 'country.countryCode',\n",
       "       'address.line1', 'location.longitude', 'location.latitude',\n",
       "       'num_markets', 'genre', 'subgenre', 'public.startDateTime',\n",
       "       'public.endDateTime', 'presales'],\n",
       "      dtype='object')"
      ]
     },
     "execution_count": 60,
     "metadata": {},
     "output_type": "execute_result"
    }
   ],
   "source": [
    "df.columns"
   ]
  },
  {
   "cell_type": "code",
   "execution_count": 61,
   "metadata": {},
   "outputs": [],
   "source": [
    "#fix public.endtime off by one day\n",
    "df['public.endDateTime'] = pd.to_datetime(df['public.endDateTime'],utc=False)"
   ]
  },
  {
   "cell_type": "code",
   "execution_count": 62,
   "metadata": {},
   "outputs": [],
   "source": [
    "df['public.endDateTime'] = df['public.endDateTime'] - datetime.timedelta(days=1)"
   ]
  },
  {
   "cell_type": "code",
   "execution_count": 63,
   "metadata": {},
   "outputs": [
    {
     "data": {
      "text/plain": [
       "Timestamp('2019-10-25 01:00:00+0000', tz='UTC')"
      ]
     },
     "execution_count": 63,
     "metadata": {},
     "output_type": "execute_result"
    }
   ],
   "source": [
    "df['public.endDateTime'][1]"
   ]
  },
  {
   "cell_type": "code",
   "execution_count": 64,
   "metadata": {},
   "outputs": [],
   "source": [
    "df['days_event'] = df['public.endDateTime'] - pd.to_datetime(df['public.startDateTime'],utc=True)"
   ]
  },
  {
   "cell_type": "code",
   "execution_count": 65,
   "metadata": {},
   "outputs": [],
   "source": [
    "df.days_event = df.days_event.apply(lambda x: x.days)"
   ]
  },
  {
   "cell_type": "code",
   "execution_count": 66,
   "metadata": {},
   "outputs": [],
   "source": [
    "df['day_of_week'] = df['public.endDateTime'].apply(lambda x: x.weekday())"
   ]
  },
  {
   "cell_type": "code",
   "execution_count": 67,
   "metadata": {},
   "outputs": [],
   "source": [
    "df = f.final_cleanup(df)"
   ]
  },
  {
   "cell_type": "code",
   "execution_count": 68,
   "metadata": {},
   "outputs": [
    {
     "data": {
      "text/plain": [
       "Index(['event_name', 'type', 'id', 'test', 'url', 'images', 'promoter',\n",
       "       'promoters', 'info', '_links', 'pleaseNote', 'products', 'seatmap',\n",
       "       'accessibility', 'outlets', 'description', 'price_min', 'price_max',\n",
       "       'max_tickets', 'venue_name', 'postalCode', 'city', 'state', 'country',\n",
       "       'address', 'longitude', 'latitude', 'num_markets', 'genre', 'subgenre',\n",
       "       'onsale_date', 'event_date', 'is_presale', 'days_event', 'day_of_week'],\n",
       "      dtype='object')"
      ]
     },
     "execution_count": 68,
     "metadata": {},
     "output_type": "execute_result"
    }
   ],
   "source": [
    "df.columns"
   ]
  },
  {
   "cell_type": "code",
   "execution_count": 69,
   "metadata": {},
   "outputs": [],
   "source": [
    "df.drop(columns = ['_links', 'accessibility', 'description', 'id', 'images', 'info','outlets', 'pleaseNote', 'products', 'promoter',\n",
    "       'promoters', 'seatmap', 'test', 'type','url','onsale_date'],inplace=True)"
   ]
  },
  {
   "cell_type": "code",
   "execution_count": 70,
   "metadata": {},
   "outputs": [],
   "source": [
    "df.dropna(subset=['price_min'],inplace=True)"
   ]
  },
  {
   "cell_type": "code",
   "execution_count": 71,
   "metadata": {},
   "outputs": [],
   "source": [
    "df.to_csv('tm_events.csv')"
   ]
  },
  {
   "cell_type": "code",
   "execution_count": 72,
   "metadata": {},
   "outputs": [],
   "source": [
    "df = pd.read_csv('tm_events.csv')"
   ]
  },
  {
   "cell_type": "code",
   "execution_count": 73,
   "metadata": {},
   "outputs": [
    {
     "data": {
      "text/plain": [
       "1103"
      ]
     },
     "execution_count": 73,
     "metadata": {},
     "output_type": "execute_result"
    }
   ],
   "source": [
    "df.venue_name.nunique()"
   ]
  },
  {
   "cell_type": "code",
   "execution_count": 74,
   "metadata": {},
   "outputs": [
    {
     "data": {
      "text/html": [
       "<div>\n",
       "<style scoped>\n",
       "    .dataframe tbody tr th:only-of-type {\n",
       "        vertical-align: middle;\n",
       "    }\n",
       "\n",
       "    .dataframe tbody tr th {\n",
       "        vertical-align: top;\n",
       "    }\n",
       "\n",
       "    .dataframe thead th {\n",
       "        text-align: right;\n",
       "    }\n",
       "</style>\n",
       "<table border=\"1\" class=\"dataframe\">\n",
       "  <thead>\n",
       "    <tr style=\"text-align: right;\">\n",
       "      <th></th>\n",
       "      <th>Unnamed: 0</th>\n",
       "      <th>event_name</th>\n",
       "      <th>price_min</th>\n",
       "      <th>price_max</th>\n",
       "      <th>max_tickets</th>\n",
       "      <th>venue_name</th>\n",
       "      <th>postalCode</th>\n",
       "      <th>city</th>\n",
       "      <th>state</th>\n",
       "      <th>country</th>\n",
       "      <th>address</th>\n",
       "      <th>longitude</th>\n",
       "      <th>latitude</th>\n",
       "      <th>num_markets</th>\n",
       "      <th>genre</th>\n",
       "      <th>subgenre</th>\n",
       "      <th>event_date</th>\n",
       "      <th>is_presale</th>\n",
       "      <th>days_event</th>\n",
       "      <th>day_of_week</th>\n",
       "    </tr>\n",
       "  </thead>\n",
       "  <tbody>\n",
       "    <tr>\n",
       "      <td>17</td>\n",
       "      <td>17</td>\n",
       "      <td>Black Jacket Symphony Presents The Eagles' 'Ho...</td>\n",
       "      <td>32.0</td>\n",
       "      <td>37.00</td>\n",
       "      <td>10</td>\n",
       "      <td>Von Braun Center Concert Hall</td>\n",
       "      <td>35801</td>\n",
       "      <td>Huntsville</td>\n",
       "      <td>AL</td>\n",
       "      <td>US</td>\n",
       "      <td>700 Monroe Street</td>\n",
       "      <td>-86.589925</td>\n",
       "      <td>34.726557</td>\n",
       "      <td>1.0</td>\n",
       "      <td>Rock</td>\n",
       "      <td>Pop</td>\n",
       "      <td>2019-10-05 03:00:00+00:00</td>\n",
       "      <td>1</td>\n",
       "      <td>154.0</td>\n",
       "      <td>5.0</td>\n",
       "    </tr>\n",
       "    <tr>\n",
       "      <td>18</td>\n",
       "      <td>18</td>\n",
       "      <td>Black Jacket Symphony Presents The Eagles' 'Ho...</td>\n",
       "      <td>32.0</td>\n",
       "      <td>37.00</td>\n",
       "      <td>10</td>\n",
       "      <td>Von Braun Center Concert Hall</td>\n",
       "      <td>35801</td>\n",
       "      <td>Huntsville</td>\n",
       "      <td>AL</td>\n",
       "      <td>US</td>\n",
       "      <td>700 Monroe Street</td>\n",
       "      <td>-86.589925</td>\n",
       "      <td>34.726557</td>\n",
       "      <td>1.0</td>\n",
       "      <td>Rock</td>\n",
       "      <td>Pop</td>\n",
       "      <td>2019-10-05 23:00:00+00:00</td>\n",
       "      <td>0</td>\n",
       "      <td>155.0</td>\n",
       "      <td>5.0</td>\n",
       "    </tr>\n",
       "    <tr>\n",
       "      <td>67</td>\n",
       "      <td>72</td>\n",
       "      <td>Jim Brickman A Christmas Celebration</td>\n",
       "      <td>35.0</td>\n",
       "      <td>55.00</td>\n",
       "      <td>10</td>\n",
       "      <td>The Lyric Theatre</td>\n",
       "      <td>35203</td>\n",
       "      <td>Birmingham</td>\n",
       "      <td>AL</td>\n",
       "      <td>US</td>\n",
       "      <td>1800 3rd Ave N</td>\n",
       "      <td>-86.809601</td>\n",
       "      <td>33.515281</td>\n",
       "      <td>1.0</td>\n",
       "      <td>Pop</td>\n",
       "      <td>Adult Contemporary</td>\n",
       "      <td>2019-12-21 01:30:00+00:00</td>\n",
       "      <td>1</td>\n",
       "      <td>238.0</td>\n",
       "      <td>5.0</td>\n",
       "    </tr>\n",
       "    <tr>\n",
       "      <td>96</td>\n",
       "      <td>109</td>\n",
       "      <td>Jim Parkers Songwriters Series</td>\n",
       "      <td>25.0</td>\n",
       "      <td>53.75</td>\n",
       "      <td>10</td>\n",
       "      <td>Von Braun Center Playhouse</td>\n",
       "      <td>35801</td>\n",
       "      <td>Huntsville</td>\n",
       "      <td>AL</td>\n",
       "      <td>US</td>\n",
       "      <td>700 Monroe St SW</td>\n",
       "      <td>-86.589925</td>\n",
       "      <td>34.726557</td>\n",
       "      <td>2.0</td>\n",
       "      <td>Other</td>\n",
       "      <td>Other</td>\n",
       "      <td>2019-11-08 01:30:00+00:00</td>\n",
       "      <td>0</td>\n",
       "      <td>307.0</td>\n",
       "      <td>4.0</td>\n",
       "    </tr>\n",
       "    <tr>\n",
       "      <td>112</td>\n",
       "      <td>135</td>\n",
       "      <td>Jonas Brothers: Happiness Begins Tour</td>\n",
       "      <td>35.2</td>\n",
       "      <td>495.20</td>\n",
       "      <td>8</td>\n",
       "      <td>Talking Stick Resort Arena</td>\n",
       "      <td>85004</td>\n",
       "      <td>Phoenix</td>\n",
       "      <td>AZ</td>\n",
       "      <td>US</td>\n",
       "      <td>201 East Jefferson Street</td>\n",
       "      <td>-112.071313</td>\n",
       "      <td>33.445899</td>\n",
       "      <td>1.0</td>\n",
       "      <td>Rock</td>\n",
       "      <td>Pop</td>\n",
       "      <td>2019-12-10 02:30:00+00:00</td>\n",
       "      <td>1</td>\n",
       "      <td>205.0</td>\n",
       "      <td>1.0</td>\n",
       "    </tr>\n",
       "  </tbody>\n",
       "</table>\n",
       "</div>"
      ],
      "text/plain": [
       "     Unnamed: 0                                         event_name  price_min  \\\n",
       "17           17  Black Jacket Symphony Presents The Eagles' 'Ho...       32.0   \n",
       "18           18  Black Jacket Symphony Presents The Eagles' 'Ho...       32.0   \n",
       "67           72               Jim Brickman A Christmas Celebration       35.0   \n",
       "96          109                     Jim Parkers Songwriters Series       25.0   \n",
       "112         135              Jonas Brothers: Happiness Begins Tour       35.2   \n",
       "\n",
       "     price_max max_tickets                     venue_name postalCode  \\\n",
       "17       37.00          10  Von Braun Center Concert Hall      35801   \n",
       "18       37.00          10  Von Braun Center Concert Hall      35801   \n",
       "67       55.00          10              The Lyric Theatre      35203   \n",
       "96       53.75          10     Von Braun Center Playhouse      35801   \n",
       "112     495.20           8     Talking Stick Resort Arena      85004   \n",
       "\n",
       "           city state country                    address   longitude  \\\n",
       "17   Huntsville    AL      US          700 Monroe Street  -86.589925   \n",
       "18   Huntsville    AL      US          700 Monroe Street  -86.589925   \n",
       "67   Birmingham    AL      US             1800 3rd Ave N  -86.809601   \n",
       "96   Huntsville    AL      US           700 Monroe St SW  -86.589925   \n",
       "112     Phoenix    AZ      US  201 East Jefferson Street -112.071313   \n",
       "\n",
       "      latitude  num_markets  genre            subgenre  \\\n",
       "17   34.726557          1.0   Rock                 Pop   \n",
       "18   34.726557          1.0   Rock                 Pop   \n",
       "67   33.515281          1.0    Pop  Adult Contemporary   \n",
       "96   34.726557          2.0  Other               Other   \n",
       "112  33.445899          1.0   Rock                 Pop   \n",
       "\n",
       "                    event_date  is_presale  days_event  day_of_week  \n",
       "17   2019-10-05 03:00:00+00:00           1       154.0          5.0  \n",
       "18   2019-10-05 23:00:00+00:00           0       155.0          5.0  \n",
       "67   2019-12-21 01:30:00+00:00           1       238.0          5.0  \n",
       "96   2019-11-08 01:30:00+00:00           0       307.0          4.0  \n",
       "112  2019-12-10 02:30:00+00:00           1       205.0          1.0  "
      ]
     },
     "execution_count": 74,
     "metadata": {},
     "output_type": "execute_result"
    }
   ],
   "source": [
    "#check if multiple nights\n",
    "df[df.duplicated(subset=['event_name','venue_name'])].head()"
   ]
  },
  {
   "cell_type": "code",
   "execution_count": 75,
   "metadata": {},
   "outputs": [
    {
     "data": {
      "text/plain": [
       "0                         The Rocky Horror Masquerade Ball\n",
       "1          AEG & Tom Joyner Present: Magic City Music Fest\n",
       "2                    Jonas Brothers: Happiness Begins Tour\n",
       "3                            Eric Church: Double Down Tour\n",
       "4        Trans-Siberian Orchestra 2019 Presented By Hal...\n",
       "                               ...                        \n",
       "10892                                              Brand X\n",
       "10893    I Wrote That One Too...A Life in Songwriting S...\n",
       "10894                          Matt Heckler & Casper Allen\n",
       "10895                                         Marlon Craft\n",
       "10896                                   The Palmer Squares\n",
       "Name: event_name, Length: 10897, dtype: object"
      ]
     },
     "execution_count": 75,
     "metadata": {},
     "output_type": "execute_result"
    }
   ],
   "source": [
    "df.event_name"
   ]
  },
  {
   "cell_type": "code",
   "execution_count": null,
   "metadata": {},
   "outputs": [],
   "source": []
  },
  {
   "cell_type": "code",
   "execution_count": null,
   "metadata": {},
   "outputs": [],
   "source": []
  }
 ],
 "metadata": {
  "kernelspec": {
   "display_name": "Python 3",
   "language": "python",
   "name": "python3"
  },
  "language_info": {
   "codemirror_mode": {
    "name": "ipython",
    "version": 3
   },
   "file_extension": ".py",
   "mimetype": "text/x-python",
   "name": "python",
   "nbconvert_exporter": "python",
   "pygments_lexer": "ipython3",
   "version": "3.7.4"
  }
 },
 "nbformat": 4,
 "nbformat_minor": 4
}
