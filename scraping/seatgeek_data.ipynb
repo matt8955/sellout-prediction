{
 "cells": [
  {
   "cell_type": "code",
   "execution_count": 1,
   "metadata": {},
   "outputs": [],
   "source": [
    "import requests\n",
    "import pandas as pd\n",
    "import numpy as np\n",
    "import keys\n",
    "import json\n",
    "from tqdm import tqdm"
   ]
  },
  {
   "cell_type": "code",
   "execution_count": 2,
   "metadata": {},
   "outputs": [],
   "source": [
    "states = list(pd.read_csv('states.csv').Abbreviation)"
   ]
  },
  {
   "cell_type": "code",
   "execution_count": 3,
   "metadata": {},
   "outputs": [
    {
     "name": "stderr",
     "output_type": "stream",
     "text": [
      "100%|██████████| 51/51 [04:09<00:00,  4.48s/it]\n"
     ]
    }
   ],
   "source": [
    "frame_list = []\n",
    "success = []\n",
    "fail = []\n",
    "for state in tqdm(states):\n",
    "    for page in range(1,30):\n",
    "        try:\n",
    "            url ='https://api.seatgeek.com/2/events?venue.state='\n",
    "            req = requests.get(f'{url}{state}&page={page}&type=concert&client_id={keys.seatgeek}')\n",
    "            x = json.loads(req.text)\n",
    "            df = pd.DataFrame(x['events'])\n",
    "            frame_list.append(df)\n",
    "            success.append(f'{state},{page}')\n",
    "        except:\n",
    "            fail.append(f'{state},{page}')"
   ]
  },
  {
   "cell_type": "code",
   "execution_count": 4,
   "metadata": {},
   "outputs": [
    {
     "name": "stderr",
     "output_type": "stream",
     "text": [
      "/Users/matt/.pyenv/versions/anaconda3-2019.03/lib/python3.7/site-packages/ipykernel_launcher.py:1: FutureWarning: Sorting because non-concatenation axis is not aligned. A future version\n",
      "of pandas will change to not sort by default.\n",
      "\n",
      "To accept the future behavior, pass 'sort=False'.\n",
      "\n",
      "To retain the current behavior and silence the warning, pass 'sort=True'.\n",
      "\n",
      "  \"\"\"Entry point for launching an IPython kernel.\n"
     ]
    }
   ],
   "source": [
    "seatgeek = pd.concat(frame_list)"
   ]
  },
  {
   "cell_type": "code",
   "execution_count": 5,
   "metadata": {},
   "outputs": [],
   "source": [
    "seatgeek.reset_index(inplace=True)"
   ]
  },
  {
   "cell_type": "code",
   "execution_count": 6,
   "metadata": {},
   "outputs": [
    {
     "data": {
      "text/plain": [
       "Index(['index', 'access_method', 'announce_date', 'announcements',\n",
       "       'conditional', 'created_at', 'date_tbd', 'datetime_local',\n",
       "       'datetime_tbd', 'datetime_utc', 'description', 'enddatetime_utc',\n",
       "       'event_promotion', 'general_admission', 'id', 'is_open', 'links',\n",
       "       'performers', 'popularity', 'score', 'short_title', 'stats', 'status',\n",
       "       'taxonomies', 'time_tbd', 'title', 'type', 'url', 'venue',\n",
       "       'visible_until_utc'],\n",
       "      dtype='object')"
      ]
     },
     "execution_count": 6,
     "metadata": {},
     "output_type": "execute_result"
    }
   ],
   "source": [
    "seatgeek.columns"
   ]
  },
  {
   "cell_type": "code",
   "execution_count": 7,
   "metadata": {},
   "outputs": [
    {
     "data": {
      "text/plain": [
       "[{'image': 'https://seatgeek.com/images/performers-landscape/vandoliers-ddab46/409987/huge.jpg',\n",
       "  'primary': True,\n",
       "  'colors': None,\n",
       "  'images': {'huge': 'https://seatgeek.com/images/performers-landscape/vandoliers-ddab46/409987/huge.jpg'},\n",
       "  'has_upcoming_events': True,\n",
       "  'id': 409987,\n",
       "  'stats': {'event_count': 5},\n",
       "  'image_license': 'https://creativecommons.org/licenses/by/2.0/',\n",
       "  'score': 0.5,\n",
       "  'location': None,\n",
       "  'taxonomies': [{'name': 'concerts',\n",
       "    'parent_id': None,\n",
       "    'id': 2000000,\n",
       "    'document_source': {'source_type': 'ELASTIC', 'generation_type': 'FULL'}}],\n",
       "  'type': 'band',\n",
       "  'num_upcoming_events': 5,\n",
       "  'short_name': 'Vandoliers',\n",
       "  'home_venue_id': None,\n",
       "  'slug': 'vandoliers',\n",
       "  'divisions': None,\n",
       "  'name': 'Vandoliers',\n",
       "  'url': 'https://seatgeek.com/vandoliers-tickets',\n",
       "  'popularity': 0,\n",
       "  'image_attribution': 'https://www.flickr.com/photos/arekolek/7847640482/'}]"
      ]
     },
     "execution_count": 7,
     "metadata": {},
     "output_type": "execute_result"
    }
   ],
   "source": [
    "seatgeek.performers[0]"
   ]
  },
  {
   "cell_type": "code",
   "execution_count": 8,
   "metadata": {},
   "outputs": [],
   "source": [
    "seatgeek.drop(columns = ['index', 'announce_date','access_method','description','taxonomies','announcements', 'conditional', 'date_tbd','datetime_tbd', 'enddatetime_utc',\n",
    "                         'event_promotion','type','time_tbd','links','status','is_open','datetime_utc', 'visible_until_utc','title'],inplace=True)"
   ]
  },
  {
   "cell_type": "code",
   "execution_count": 9,
   "metadata": {},
   "outputs": [],
   "source": [
    "seatgeek['listing_count']=seatgeek.stats.apply(lambda x: x['listing_count'])\n",
    "seatgeek['average_price']=seatgeek.stats.apply(lambda x: x['average_price'])\n",
    "seatgeek['median_price']=seatgeek.stats.apply(lambda x: x['median_price'])\n",
    "seatgeek['lowest_price']=seatgeek.stats.apply(lambda x: x['lowest_price'])\n",
    "seatgeek.drop(columns=['stats'], inplace =True)"
   ]
  },
  {
   "cell_type": "code",
   "execution_count": 10,
   "metadata": {},
   "outputs": [
    {
     "data": {
      "text/plain": [
       "{'links': [],\n",
       " 'metro_code': 0,\n",
       " 'postal_code': '35205',\n",
       " 'timezone': 'America/Chicago',\n",
       " 'has_upcoming_events': True,\n",
       " 'id': 479986,\n",
       " 'city': 'Birmingham',\n",
       " 'extended_address': 'Birmingham, AL 35205',\n",
       " 'display_location': 'Birmingham, AL',\n",
       " 'state': 'AL',\n",
       " 'score': 0,\n",
       " 'location': {'lat': 33.5054, 'lon': -86.7905},\n",
       " 'access_method': None,\n",
       " 'num_upcoming_events': 3,\n",
       " 'address': '2514 10th Ave S',\n",
       " 'capacity': 0,\n",
       " 'slug': 'the-nick',\n",
       " 'name': 'The Nick',\n",
       " 'url': 'https://seatgeek.com/venues/the-nick/tickets',\n",
       " 'country': 'US',\n",
       " 'popularity': 0,\n",
       " 'name_v2': 'The Nick'}"
      ]
     },
     "execution_count": 10,
     "metadata": {},
     "output_type": "execute_result"
    }
   ],
   "source": [
    "seatgeek.venue[0]"
   ]
  },
  {
   "cell_type": "code",
   "execution_count": 11,
   "metadata": {},
   "outputs": [],
   "source": [
    "seatgeek['venue_name'] = seatgeek.venue.apply(lambda x: x['name'])\n",
    "seatgeek['venue_popularity'] = seatgeek.venue.apply(lambda x: x['popularity'])\n",
    "seatgeek['venue_address'] = seatgeek.venue.apply(lambda x: x['address'])\n",
    "seatgeek['venue_city'] = seatgeek.venue.apply(lambda x: x['city'])\n",
    "seatgeek['venue_state'] = seatgeek.venue.apply(lambda x: x['state'])\n",
    "seatgeek['venue_zip'] = seatgeek.venue.apply(lambda x: x['postal_code'])\n",
    "seatgeek['venue_id'] = seatgeek.venue.apply(lambda x: x['id'])\n",
    "seatgeek.drop(columns=['venue'],inplace=True)"
   ]
  },
  {
   "cell_type": "code",
   "execution_count": 12,
   "metadata": {},
   "outputs": [],
   "source": [
    "seatgeek.general_admission.fillna(False, inplace=True)"
   ]
  },
  {
   "cell_type": "code",
   "execution_count": 15,
   "metadata": {},
   "outputs": [
    {
     "data": {
      "text/plain": [
       "Index(['created_at', 'datetime_local', 'general_admission', 'id', 'performers',\n",
       "       'popularity', 'score', 'short_title', 'url', 'listing_count',\n",
       "       'average_price', 'median_price', 'lowest_price', 'venue_name',\n",
       "       'venue_popularity', 'venue_address', 'venue_city', 'venue_state',\n",
       "       'venue_zip', 'venue_id'],\n",
       "      dtype='object')"
      ]
     },
     "execution_count": 15,
     "metadata": {},
     "output_type": "execute_result"
    }
   ],
   "source": [
    "seatgeek.columns"
   ]
  },
  {
   "cell_type": "code",
   "execution_count": 16,
   "metadata": {},
   "outputs": [],
   "source": [
    "seatgeek.drop(columns = ['created_at', 'datetime_local', 'id','url'],inplace=True)"
   ]
  },
  {
   "cell_type": "code",
   "execution_count": 23,
   "metadata": {},
   "outputs": [],
   "source": [
    "seatgeek['headliner']= seatgeek.performers.apply(lambda x: x[0]['short_name'])"
   ]
  },
  {
   "cell_type": "code",
   "execution_count": 27,
   "metadata": {},
   "outputs": [],
   "source": [
    "seatgeek.drop(columns=['performers'],inplace=True)"
   ]
  },
  {
   "cell_type": "code",
   "execution_count": 29,
   "metadata": {},
   "outputs": [],
   "source": [
    "seatgeek.drop(columns=['score'],inplace=True)"
   ]
  },
  {
   "cell_type": "code",
   "execution_count": 30,
   "metadata": {},
   "outputs": [
    {
     "data": {
      "text/plain": [
       "Index(['general_admission', 'popularity', 'short_title', 'listing_count',\n",
       "       'average_price', 'median_price', 'lowest_price', 'venue_name',\n",
       "       'venue_popularity', 'venue_address', 'venue_city', 'venue_state',\n",
       "       'venue_zip', 'venue_id', 'headliner'],\n",
       "      dtype='object')"
      ]
     },
     "execution_count": 30,
     "metadata": {},
     "output_type": "execute_result"
    }
   ],
   "source": [
    "seatgeek.columns"
   ]
  },
  {
   "cell_type": "code",
   "execution_count": 32,
   "metadata": {},
   "outputs": [],
   "source": [
    "seatgeek.rename(columns={'general_admission':'is_ga','popularity':'popularity_sg'},inplace=True)"
   ]
  },
  {
   "cell_type": "code",
   "execution_count": 38,
   "metadata": {},
   "outputs": [],
   "source": [
    "seatgeek['is_ga']=seatgeek.is_ga.astype('float')"
   ]
  },
  {
   "cell_type": "code",
   "execution_count": 41,
   "metadata": {},
   "outputs": [],
   "source": [
    "seatgeek.to_csv('sg_events.csv')"
   ]
  },
  {
   "cell_type": "code",
   "execution_count": null,
   "metadata": {},
   "outputs": [],
   "source": []
  }
 ],
 "metadata": {
  "kernelspec": {
   "display_name": "Python 3",
   "language": "python",
   "name": "python3"
  },
  "language_info": {
   "codemirror_mode": {
    "name": "ipython",
    "version": 3
   },
   "file_extension": ".py",
   "mimetype": "text/x-python",
   "name": "python",
   "nbconvert_exporter": "python",
   "pygments_lexer": "ipython3",
   "version": "3.7.4"
  }
 },
 "nbformat": 4,
 "nbformat_minor": 4
}
