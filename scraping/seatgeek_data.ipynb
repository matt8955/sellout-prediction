{
 "cells": [
  {
   "cell_type": "code",
   "execution_count": 35,
   "metadata": {},
   "outputs": [],
   "source": [
    "import requests\n",
    "import pandas as pd\n",
    "import numpy as np\n",
    "import keys\n",
    "import json\n",
    "from tqdm import tqdm"
   ]
  },
  {
   "cell_type": "code",
   "execution_count": 3,
   "metadata": {},
   "outputs": [],
   "source": [
    "states = list(pd.read_csv('states.csv').Abbreviation)"
   ]
  },
  {
   "cell_type": "code",
   "execution_count": 68,
   "metadata": {},
   "outputs": [
    {
     "name": "stderr",
     "output_type": "stream",
     "text": [
      "100%|██████████| 51/51 [03:45<00:00,  3.75s/it]\n"
     ]
    }
   ],
   "source": [
    "frame_list = []\n",
    "success = []\n",
    "fail = []\n",
    "for state in tqdm(states):\n",
    "    for page in range(1,30):\n",
    "        try:\n",
    "            url ='https://api.seatgeek.com/2/events?venue.state='\n",
    "            req = requests.get(f'{url}{state}&page={page}&type=concert&client_id={keys.seatgeek}')\n",
    "            x = json.loads(req.text)\n",
    "            df = pd.DataFrame(x['events'])\n",
    "            frame_list.append(df)\n",
    "            success.append(f'{state},{page}')\n",
    "        except:\n",
    "            fail.append(f'{state},{page}')"
   ]
  },
  {
   "cell_type": "code",
   "execution_count": 71,
   "metadata": {},
   "outputs": [
    {
     "name": "stderr",
     "output_type": "stream",
     "text": [
      "/Users/matt/.pyenv/versions/anaconda3-2019.03/lib/python3.7/site-packages/ipykernel_launcher.py:1: FutureWarning: Sorting because non-concatenation axis is not aligned. A future version\n",
      "of pandas will change to not sort by default.\n",
      "\n",
      "To accept the future behavior, pass 'sort=False'.\n",
      "\n",
      "To retain the current behavior and silence the warning, pass 'sort=True'.\n",
      "\n",
      "  \"\"\"Entry point for launching an IPython kernel.\n"
     ]
    }
   ],
   "source": [
    "seatgeek = pd.concat(frame_list)"
   ]
  },
  {
   "cell_type": "code",
   "execution_count": 80,
   "metadata": {},
   "outputs": [],
   "source": [
    "seatgeek.reset_index(inplace=True)"
   ]
  },
  {
   "cell_type": "code",
   "execution_count": 81,
   "metadata": {},
   "outputs": [
    {
     "data": {
      "text/plain": [
       "Index(['index', 'access_method', 'announce_date', 'announcements',\n",
       "       'conditional', 'created_at', 'date_tbd', 'datetime_local',\n",
       "       'datetime_tbd', 'datetime_utc', 'description', 'enddatetime_utc',\n",
       "       'event_promotion', 'general_admission', 'id', 'is_open', 'links',\n",
       "       'performers', 'popularity', 'score', 'short_title', 'stats', 'status',\n",
       "       'taxonomies', 'time_tbd', 'title', 'type', 'url', 'venue',\n",
       "       'visible_until_utc'],\n",
       "      dtype='object')"
      ]
     },
     "execution_count": 81,
     "metadata": {},
     "output_type": "execute_result"
    }
   ],
   "source": [
    "seatgeek.columns"
   ]
  },
  {
   "cell_type": "code",
   "execution_count": 103,
   "metadata": {},
   "outputs": [],
   "source": [
    "seatgeek.drop(columns = ['index', 'announce_date','access_method','description','taxonomies','announcements', 'conditional', 'date_tbd','datetime_tbd', 'enddatetime_utc',\n",
    "                         'event_promotion','performers','type','time_tbd','links','status','is_open','datetime_utc', 'visible_until_utc','title'],inplace=True)"
   ]
  },
  {
   "cell_type": "code",
   "execution_count": 116,
   "metadata": {},
   "outputs": [
    {
     "data": {
      "text/plain": [
       "{'visible_listing_count': 2,\n",
       " 'dq_bucket_counts': [0, 0, 0, 0, 0, 0, 0, 0],\n",
       " 'average_price': 83,\n",
       " 'lowest_sg_base_price_good_deals': None,\n",
       " 'lowest_price_good_deals': None,\n",
       " 'median_price': 83,\n",
       " 'listing_count': 8,\n",
       " 'variants': None,\n",
       " 'lowest_price': 45,\n",
       " 'lowest_sg_base_price': 32,\n",
       " 'highest_price': 136}"
      ]
     },
     "execution_count": 116,
     "metadata": {},
     "output_type": "execute_result"
    }
   ],
   "source": [
    "seatgeek.stats[2164]"
   ]
  },
  {
   "cell_type": "code",
   "execution_count": 121,
   "metadata": {},
   "outputs": [],
   "source": [
    "seatgeek['listing_count']=seatgeek.stats.apply(lambda x: x['listing_count'])\n",
    "seatgeek['average_price']=seatgeek.stats.apply(lambda x: x['average_price'])\n",
    "seatgeek['median_price']=seatgeek.stats.apply(lambda x: x['median_price'])\n",
    "seatgeek['lowest_price']=seatgeek.stats.apply(lambda x: x['lowest_price'])\n",
    "seatgeek.drop(columns=['stats'], inplace =True)"
   ]
  },
  {
   "cell_type": "code",
   "execution_count": 123,
   "metadata": {},
   "outputs": [
    {
     "data": {
      "text/plain": [
       "{'links': [],\n",
       " 'metro_code': 686,\n",
       " 'postal_code': '36602',\n",
       " 'timezone': 'America/Chicago',\n",
       " 'has_upcoming_events': True,\n",
       " 'id': 457220,\n",
       " 'city': 'Mobile',\n",
       " 'extended_address': 'Mobile, AL 36602',\n",
       " 'display_location': 'Mobile, AL',\n",
       " 'state': 'AL',\n",
       " 'score': 0,\n",
       " 'location': {'lat': 30.6897, 'lon': -88.0486},\n",
       " 'access_method': None,\n",
       " 'num_upcoming_events': 1,\n",
       " 'address': '4 North Cedar Street',\n",
       " 'capacity': 0,\n",
       " 'slug': 'cedar-street-social-club',\n",
       " 'name': 'Cedar Street Social Club',\n",
       " 'url': 'https://seatgeek.com/venues/cedar-street-social-club/tickets',\n",
       " 'country': 'US',\n",
       " 'popularity': 0,\n",
       " 'name_v2': 'Cedar Street Social Club'}"
      ]
     },
     "execution_count": 123,
     "metadata": {},
     "output_type": "execute_result"
    }
   ],
   "source": [
    "seatgeek.venue[0]"
   ]
  },
  {
   "cell_type": "code",
   "execution_count": 127,
   "metadata": {},
   "outputs": [],
   "source": [
    "seatgeek['venue_name'] = seatgeek.venue.apply(lambda x: x['name'])\n",
    "seatgeek['venue_popularity'] = seatgeek.venue.apply(lambda x: x['popularity'])\n",
    "seatgeek['venue_address'] = seatgeek.venue.apply(lambda x: x['address'])\n",
    "seatgeek['venue_city'] = seatgeek.venue.apply(lambda x: x['city'])\n",
    "seatgeek['venue_state'] = seatgeek.venue.apply(lambda x: x['state'])\n",
    "seatgeek['venue_zip'] = seatgeek.venue.apply(lambda x: x['postal_code'])\n",
    "seatgeek['venue_id'] = seatgeek.venue.apply(lambda x: x['id'])\n",
    "seatgeek.drop(columns=['venue'],inplace=True)"
   ]
  },
  {
   "cell_type": "code",
   "execution_count": 129,
   "metadata": {},
   "outputs": [],
   "source": [
    "seatgeek.general_admission.fillna(False, inplace=True)"
   ]
  },
  {
   "cell_type": "code",
   "execution_count": 131,
   "metadata": {},
   "outputs": [],
   "source": [
    "seatgeek.to_csv('sg_events.csv')"
   ]
  },
  {
   "cell_type": "code",
   "execution_count": null,
   "metadata": {},
   "outputs": [],
   "source": []
  }
 ],
 "metadata": {
  "kernelspec": {
   "display_name": "Python 3",
   "language": "python",
   "name": "python3"
  },
  "language_info": {
   "codemirror_mode": {
    "name": "ipython",
    "version": 3
   },
   "file_extension": ".py",
   "mimetype": "text/x-python",
   "name": "python",
   "nbconvert_exporter": "python",
   "pygments_lexer": "ipython3",
   "version": "3.7.3"
  }
 },
 "nbformat": 4,
 "nbformat_minor": 4
}
