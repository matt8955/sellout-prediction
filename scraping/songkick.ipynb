{
 "cells": [
  {
   "cell_type": "code",
   "execution_count": 1,
   "metadata": {},
   "outputs": [],
   "source": [
    "import pandas as pd\n",
    "import numpy as np\n",
    "import requests\n",
    "import keys\n",
    "import json\n",
    "from tqdm import tqdm"
   ]
  },
  {
   "cell_type": "code",
   "execution_count": 72,
   "metadata": {},
   "outputs": [],
   "source": [
    "df = pd.read_csv('tm_events.csv')"
   ]
  },
  {
   "cell_type": "code",
   "execution_count": 73,
   "metadata": {},
   "outputs": [],
   "source": [
    "venues = list(set(df.venue_name))"
   ]
  },
  {
   "cell_type": "code",
   "execution_count": 74,
   "metadata": {},
   "outputs": [],
   "source": [
    "venues = [x.strip() for x in venues]"
   ]
  },
  {
   "cell_type": "code",
   "execution_count": 67,
   "metadata": {},
   "outputs": [
    {
     "name": "stderr",
     "output_type": "stream",
     "text": [
      "100%|██████████| 2779/2779 [26:50<00:00,  1.61it/s]\n"
     ]
    }
   ],
   "source": [
    "url = 'https://api.songkick.com/api/3.0/search/venues.json?'\n",
    "success = []\n",
    "fail = []\n",
    "frame_list = []\n",
    "for venue in tqdm(venues):\n",
    "    try:\n",
    "        req = requests.get(f'{url}query={venue}&apikey={keys.songkick}')\n",
    "        x = json.loads(req.text)\n",
    "        df = pd.DataFrame(x['resultsPage']['results']['venue'])\n",
    "        frame_list.append(df)\n",
    "        success.append(venue)\n",
    "    except:\n",
    "        fail.append(venue)\n",
    "        \n"
   ]
  },
  {
   "cell_type": "code",
   "execution_count": 125,
   "metadata": {},
   "outputs": [],
   "source": [
    "df = df[['displayName','id','capacity', 'street', 'city', 'zip', 'lat','lng','metroArea' ]]\n",
    "df.rename(columns = {'displayName': 'venue_name', 'lat':'latitude', 'lng':'longitude'}, inplace=True)"
   ]
  },
  {
   "cell_type": "code",
   "execution_count": 126,
   "metadata": {},
   "outputs": [],
   "source": [
    "df.reset_index(inplace=True)\n",
    "df.rename(columns ={'index' : 'i'}, inplace=True)\n",
    "df['metro_area'] = df.metroArea.apply(lambda x: x['displayName'])\n",
    "df.drop(columns = ['city', 'metroArea', 'i'],inplace=True)"
   ]
  },
  {
   "cell_type": "code",
   "execution_count": 38,
   "metadata": {},
   "outputs": [],
   "source": [
    "df.to_csv('sk_venues.csv')"
   ]
  },
  {
   "cell_type": "code",
   "execution_count": 2,
   "metadata": {},
   "outputs": [],
   "source": [
    "df = pd.read_csv('sk_venues.csv', dtype='object')"
   ]
  },
  {
   "cell_type": "code",
   "execution_count": 3,
   "metadata": {},
   "outputs": [],
   "source": [
    "df.drop(columns = ['Unnamed: 0'], inplace=True)"
   ]
  },
  {
   "cell_type": "code",
   "execution_count": 4,
   "metadata": {},
   "outputs": [],
   "source": [
    "venue_id = df[['venue_name', 'id']]"
   ]
  },
  {
   "cell_type": "code",
   "execution_count": 5,
   "metadata": {},
   "outputs": [],
   "source": [
    "ids = list(set(venue_id.id))"
   ]
  },
  {
   "cell_type": "code",
   "execution_count": 6,
   "metadata": {},
   "outputs": [
    {
     "name": "stderr",
     "output_type": "stream",
     "text": [
      "100%|██████████| 11429/11429 [1:46:07<00:00,  2.19it/s] \n"
     ]
    }
   ],
   "source": [
    "url = 'https://api.songkick.com/api/3.0/venues/'\n",
    "success = []\n",
    "fail = []\n",
    "frame_list = []\n",
    "for id_ in tqdm(ids):\n",
    "    try:\n",
    "        req = requests.get(f'{url}{str(id_)}/calendar.json?apikey={keys.songkick}')\n",
    "        x = json.loads(req.text)\n",
    "        event_df = pd.DataFrame(x['resultsPage']['results']['event'])\n",
    "        frame_list.append(event_df)\n",
    "        success.append(id_)\n",
    "    except:\n",
    "        fail.append(id_)\n",
    "        "
   ]
  },
  {
   "cell_type": "code",
   "execution_count": 7,
   "metadata": {},
   "outputs": [],
   "source": [
    "frames = frame_list.copy()"
   ]
  },
  {
   "cell_type": "code",
   "execution_count": 9,
   "metadata": {},
   "outputs": [
    {
     "name": "stderr",
     "output_type": "stream",
     "text": [
      "/Users/matt/.pyenv/versions/anaconda3-2019.03/lib/python3.7/site-packages/ipykernel_launcher.py:1: FutureWarning: Sorting because non-concatenation axis is not aligned. A future version\n",
      "of pandas will change to not sort by default.\n",
      "\n",
      "To accept the future behavior, pass 'sort=False'.\n",
      "\n",
      "To retain the current behavior and silence the warning, pass 'sort=True'.\n",
      "\n",
      "  \"\"\"Entry point for launching an IPython kernel.\n"
     ]
    }
   ],
   "source": [
    "df = pd.concat(frames)"
   ]
  },
  {
   "cell_type": "code",
   "execution_count": 54,
   "metadata": {},
   "outputs": [],
   "source": [
    "df = pd.read_csv('sk_events.csv')"
   ]
  },
  {
   "cell_type": "code",
   "execution_count": 55,
   "metadata": {},
   "outputs": [],
   "source": [
    "df['location'] = df.location.apply(lambda x: ast.literal_eval(x))\n",
    "df['venue'] = df.venue.apply(lambda x: ast.literal_eval(x))\n",
    "df['performance'] = df.performance.apply(lambda x: ast.literal_eval(x))\n",
    "df['start'] = df.start.apply(lambda x: ast.literal_eval(x))"
   ]
  },
  {
   "cell_type": "code",
   "execution_count": 56,
   "metadata": {},
   "outputs": [],
   "source": [
    "def try_artist(x, i):\n",
    "    try:\n",
    "        return x[i]['displayName']\n",
    "    except:\n",
    "        return np.nan\n",
    "    \n",
    "df.reset_index(inplace=True)\n",
    "df.rename(columns={'index' : 'i'},inplace=True)\n",
    "df['venue_id'] = df.venue.apply(lambda x: x['id'])\n",
    "df['headliner'] = df.performance.apply(lambda x: try_artist(x, 0))\n",
    "df['support'] = df.performance.apply(lambda x: try_artist(x, 1))\n",
    "df['event_time'] = df.start.apply(lambda x: pd.to_datetime(x['datetime']))\n",
    "df.drop(columns = ['series', 'end','status','uri', 'i','ageRestriction','venue', 'performance', 'location', 'displayName', 'start'], inplace=True)"
   ]
  },
  {
   "cell_type": "code",
   "execution_count": 63,
   "metadata": {},
   "outputs": [],
   "source": [
    "df.to_csv('sk_events.csv')"
   ]
  },
  {
   "cell_type": "code",
   "execution_count": 2,
   "metadata": {},
   "outputs": [],
   "source": [
    "venue_df = pd.read_csv('sk_venues.csv')"
   ]
  },
  {
   "cell_type": "code",
   "execution_count": 4,
   "metadata": {},
   "outputs": [],
   "source": [
    "events_df = pd.read_csv('sk_events.csv')"
   ]
  },
  {
   "cell_type": "code",
   "execution_count": 6,
   "metadata": {},
   "outputs": [],
   "source": [
    "tm_df = pd.read_csv('tm_events.csv')"
   ]
  },
  {
   "cell_type": "code",
   "execution_count": 7,
   "metadata": {},
   "outputs": [],
   "source": [
    "artists = list(set(events_df.headliner))"
   ]
  },
  {
   "cell_type": "code",
   "execution_count": 8,
   "metadata": {},
   "outputs": [],
   "source": [
    "artists = [x for x in artists if x != 'nan']"
   ]
  },
  {
   "cell_type": "code",
   "execution_count": 13,
   "metadata": {},
   "outputs": [],
   "source": [
    "frame_list = []"
   ]
  },
  {
   "cell_type": "code",
   "execution_count": 14,
   "metadata": {},
   "outputs": [
    {
     "name": "stderr",
     "output_type": "stream",
     "text": [
      "100%|██████████| 11190/11190 [1:26:16<00:00,  2.24it/s]  \n"
     ]
    }
   ],
   "source": [
    "\n",
    "url = 'https://api.songkick.com/api/3.0/search/artists.json?'\n",
    "success = []\n",
    "fail = []\n",
    "for artist in tqdm(artists):\n",
    "    try:\n",
    "        req = requests.get(f'{url}apikey={keys.songkick}&query={artist}')\n",
    "        x = json.loads(req.text)\n",
    "        artist_df = pd.DataFrame(x['resultsPage']['results']['artist'])\n",
    "        frame_list.append(artist_df)\n",
    "        success.append(artist)\n",
    "    except:\n",
    "        fail.append(artist)"
   ]
  },
  {
   "cell_type": "code",
   "execution_count": 15,
   "metadata": {},
   "outputs": [],
   "source": [
    "frames = frame_list.copy()"
   ]
  },
  {
   "cell_type": "code",
   "execution_count": 21,
   "metadata": {},
   "outputs": [
    {
     "name": "stderr",
     "output_type": "stream",
     "text": [
      "/Users/matt/.pyenv/versions/anaconda3-2019.03/lib/python3.7/site-packages/ipykernel_launcher.py:1: FutureWarning: Sorting because non-concatenation axis is not aligned. A future version\n",
      "of pandas will change to not sort by default.\n",
      "\n",
      "To accept the future behavior, pass 'sort=False'.\n",
      "\n",
      "To retain the current behavior and silence the warning, pass 'sort=True'.\n",
      "\n",
      "  \"\"\"Entry point for launching an IPython kernel.\n"
     ]
    }
   ],
   "source": [
    "df = pd.concat(frames[1:])"
   ]
  },
  {
   "cell_type": "code",
   "execution_count": 25,
   "metadata": {},
   "outputs": [],
   "source": [
    "df.drop(columns=['identifier','uri'],inplace=True)"
   ]
  },
  {
   "cell_type": "code",
   "execution_count": 30,
   "metadata": {},
   "outputs": [],
   "source": [
    "df.drop_duplicates(inplace=True)"
   ]
  },
  {
   "cell_type": "code",
   "execution_count": 34,
   "metadata": {},
   "outputs": [],
   "source": [
    "df.to_csv('artists.csv')"
   ]
  },
  {
   "cell_type": "code",
   "execution_count": 44,
   "metadata": {},
   "outputs": [
    {
     "data": {
      "text/html": [
       "<div>\n",
       "<style scoped>\n",
       "    .dataframe tbody tr th:only-of-type {\n",
       "        vertical-align: middle;\n",
       "    }\n",
       "\n",
       "    .dataframe tbody tr th {\n",
       "        vertical-align: top;\n",
       "    }\n",
       "\n",
       "    .dataframe thead th {\n",
       "        text-align: right;\n",
       "    }\n",
       "</style>\n",
       "<table border=\"1\" class=\"dataframe\">\n",
       "  <thead>\n",
       "    <tr style=\"text-align: right;\">\n",
       "      <th></th>\n",
       "      <th>displayName</th>\n",
       "      <th>id</th>\n",
       "      <th>onTourUntil</th>\n",
       "    </tr>\n",
       "  </thead>\n",
       "  <tbody>\n",
       "    <tr>\n",
       "      <th>0</th>\n",
       "      <td>MGMT</td>\n",
       "      <td>137345</td>\n",
       "      <td>2019-11-22</td>\n",
       "    </tr>\n",
       "    <tr>\n",
       "      <th>1</th>\n",
       "      <td>T.I.</td>\n",
       "      <td>17879</td>\n",
       "      <td>None</td>\n",
       "    </tr>\n",
       "    <tr>\n",
       "      <th>2</th>\n",
       "      <td>P!NK</td>\n",
       "      <td>9862999</td>\n",
       "      <td>2019-09-27</td>\n",
       "    </tr>\n",
       "    <tr>\n",
       "      <th>3</th>\n",
       "      <td>M.I.A.</td>\n",
       "      <td>493293</td>\n",
       "      <td>None</td>\n",
       "    </tr>\n",
       "    <tr>\n",
       "      <th>4</th>\n",
       "      <td>AWOLNATION</td>\n",
       "      <td>2489666</td>\n",
       "      <td>None</td>\n",
       "    </tr>\n",
       "  </tbody>\n",
       "</table>\n",
       "</div>"
      ],
      "text/plain": [
       "  displayName       id onTourUntil\n",
       "0        MGMT   137345  2019-11-22\n",
       "1        T.I.    17879        None\n",
       "2        P!NK  9862999  2019-09-27\n",
       "3      M.I.A.   493293        None\n",
       "4  AWOLNATION  2489666        None"
      ]
     },
     "execution_count": 44,
     "metadata": {},
     "output_type": "execute_result"
    }
   ],
   "source": [
    "df.head()"
   ]
  },
  {
   "cell_type": "code",
   "execution_count": 53,
   "metadata": {},
   "outputs": [],
   "source": [
    "req = requests.get(f'https://api.songkick.com/api/3.0/artists/137345/gigography.json?apikey={keys.songkick}')\n",
    "x = json.loads(req.text)"
   ]
  },
  {
   "cell_type": "code",
   "execution_count": 60,
   "metadata": {},
   "outputs": [
    {
     "name": "stderr",
     "output_type": "stream",
     "text": [
      "100%|██████████| 50839/50839 [6:39:02<00:00,  2.23it/s]    \n"
     ]
    }
   ],
   "source": [
    "\n",
    "url = 'https://api.songkick.com/api/3.0/'\n",
    "frame_list = []\n",
    "success = []\n",
    "fail = []\n",
    "for id_ in tqdm(ids):\n",
    "    try:\n",
    "        req = requests.get(f'{url}artists/{id_}/gigography.json?apikey={keys.songkick}')\n",
    "        x = json.loads(req.text)\n",
    "        gig_df = pd.DataFrame(x['resultsPage']['results']['event'])\n",
    "        frame_list.append(gig_df)\n",
    "        success.append(id_)\n",
    "    except:\n",
    "        fail.append(id_)"
   ]
  },
  {
   "cell_type": "code",
   "execution_count": 62,
   "metadata": {},
   "outputs": [
    {
     "name": "stderr",
     "output_type": "stream",
     "text": [
      "/Users/matt/.pyenv/versions/anaconda3-2019.03/lib/python3.7/site-packages/ipykernel_launcher.py:1: FutureWarning: Sorting because non-concatenation axis is not aligned. A future version\n",
      "of pandas will change to not sort by default.\n",
      "\n",
      "To accept the future behavior, pass 'sort=False'.\n",
      "\n",
      "To retain the current behavior and silence the warning, pass 'sort=True'.\n",
      "\n",
      "  \"\"\"Entry point for launching an IPython kernel.\n"
     ]
    }
   ],
   "source": [
    "df = pd.concat(frame_list)"
   ]
  },
  {
   "cell_type": "code",
   "execution_count": 64,
   "metadata": {},
   "outputs": [
    {
     "data": {
      "text/plain": [
       "(897058, 14)"
      ]
     },
     "execution_count": 64,
     "metadata": {},
     "output_type": "execute_result"
    }
   ],
   "source": [
    "df.shape"
   ]
  },
  {
   "cell_type": "code",
   "execution_count": 66,
   "metadata": {},
   "outputs": [],
   "source": [
    "df.to_csv('gigography.csv')"
   ]
  },
  {
   "cell_type": "code",
   "execution_count": 2,
   "metadata": {},
   "outputs": [],
   "source": [
    "df = pd.read_csv('gigography.csv')"
   ]
  },
  {
   "cell_type": "code",
   "execution_count": 3,
   "metadata": {},
   "outputs": [
    {
     "data": {
      "text/plain": [
       "(897058, 15)"
      ]
     },
     "execution_count": 3,
     "metadata": {},
     "output_type": "execute_result"
    }
   ],
   "source": [
    "df.shape"
   ]
  },
  {
   "cell_type": "code",
   "execution_count": null,
   "metadata": {},
   "outputs": [],
   "source": []
  }
 ],
 "metadata": {
  "kernelspec": {
   "display_name": "Python 3",
   "language": "python",
   "name": "python3"
  },
  "language_info": {
   "codemirror_mode": {
    "name": "ipython",
    "version": 3
   },
   "file_extension": ".py",
   "mimetype": "text/x-python",
   "name": "python",
   "nbconvert_exporter": "python",
   "pygments_lexer": "ipython3",
   "version": "3.7.3"
  }
 },
 "nbformat": 4,
 "nbformat_minor": 4
}
