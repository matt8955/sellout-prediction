{
 "cells": [
  {
   "cell_type": "code",
   "execution_count": 2,
   "metadata": {},
   "outputs": [],
   "source": [
    "import pandas as pd\n",
    "import numpy as np\n",
    "import requests\n",
    "import keys\n",
    "import json\n",
    "from tqdm import tqdm"
   ]
  },
  {
   "cell_type": "code",
   "execution_count": 2,
   "metadata": {},
   "outputs": [],
   "source": [
    "df = pd.read_csv('tm_events.csv')"
   ]
  },
  {
   "cell_type": "code",
   "execution_count": 3,
   "metadata": {},
   "outputs": [],
   "source": [
    "venues = list(set(df.venue_name))"
   ]
  },
  {
   "cell_type": "code",
   "execution_count": 4,
   "metadata": {},
   "outputs": [],
   "source": [
    "venues = [x.strip() for x in venues]"
   ]
  },
  {
   "cell_type": "code",
   "execution_count": 6,
   "metadata": {},
   "outputs": [
    {
     "name": "stderr",
     "output_type": "stream",
     "text": [
      "100%|██████████| 2779/2779 [20:22<00:00,  2.38it/s]  \n"
     ]
    }
   ],
   "source": [
    "url = 'https://api.songkick.com/api/3.0/search/venues.json?'\n",
    "success = []\n",
    "fail = []\n",
    "frame_list = []\n",
    "for venue in tqdm(venues):\n",
    "    try:\n",
    "        req = requests.get(f'{url}query={venue}&apikey={keys.songkick}')\n",
    "        x = json.loads(req.text)\n",
    "        df = pd.DataFrame(x['resultsPage']['results']['venue'])\n",
    "        frame_list.append(df)\n",
    "        success.append(venue)\n",
    "    except:\n",
    "        fail.append(venue)\n",
    "        \n"
   ]
  },
  {
   "cell_type": "code",
   "execution_count": 19,
   "metadata": {},
   "outputs": [
    {
     "data": {
      "text/plain": [
       "'The Roxy'"
      ]
     },
     "execution_count": 19,
     "metadata": {},
     "output_type": "execute_result"
    }
   ],
   "source": [
    "venues[2]"
   ]
  },
  {
   "cell_type": "code",
   "execution_count": 62,
   "metadata": {},
   "outputs": [
    {
     "name": "stderr",
     "output_type": "stream",
     "text": [
      "/Users/matt/.pyenv/versions/anaconda3-2019.03/lib/python3.7/site-packages/ipykernel_launcher.py:1: FutureWarning: Sorting because non-concatenation axis is not aligned. A future version\n",
      "of pandas will change to not sort by default.\n",
      "\n",
      "To accept the future behavior, pass 'sort=False'.\n",
      "\n",
      "To retain the current behavior and silence the warning, pass 'sort=True'.\n",
      "\n",
      "  \"\"\"Entry point for launching an IPython kernel.\n"
     ]
    }
   ],
   "source": [
    "df = pd.concat(frame_list)"
   ]
  },
  {
   "cell_type": "code",
   "execution_count": 63,
   "metadata": {},
   "outputs": [],
   "source": [
    "df.reset_index(inplace=True)"
   ]
  },
  {
   "cell_type": "code",
   "execution_count": 64,
   "metadata": {},
   "outputs": [],
   "source": [
    "df = df[['displayName','id','capacity', 'street', 'city', 'zip', 'lat','lng','metroArea' ]]"
   ]
  },
  {
   "cell_type": "code",
   "execution_count": 65,
   "metadata": {},
   "outputs": [],
   "source": [
    "df.rename(columns = {'displayName': 'venue_name', 'lat':'latitude', 'lng':'longitude'},inplace=True)"
   ]
  },
  {
   "cell_type": "code",
   "execution_count": 67,
   "metadata": {},
   "outputs": [],
   "source": [
    "df.reset_index(inplace=True)\n",
    "df.rename(columns ={'index' : 'i'}, inplace=True)\n",
    "df['metro_area'] = df.metroArea.apply(lambda x: x['displayName'])\n",
    "df['country'] = df.metroArea.apply(lambda x: x['country']['displayName'])\n",
    "df.drop(columns = ['metroArea', 'i'],inplace=True)"
   ]
  },
  {
   "cell_type": "code",
   "execution_count": 68,
   "metadata": {},
   "outputs": [],
   "source": [
    "us_venues = df[df.country=='US']"
   ]
  },
  {
   "cell_type": "code",
   "execution_count": 69,
   "metadata": {},
   "outputs": [
    {
     "data": {
      "text/plain": [
       "{'country': {'displayName': 'US'},\n",
       " 'state': {'displayName': 'CA'},\n",
       " 'displayName': 'Oakland'}"
      ]
     },
     "execution_count": 69,
     "metadata": {},
     "output_type": "execute_result"
    }
   ],
   "source": [
    "us_venues.city[0]"
   ]
  },
  {
   "cell_type": "code",
   "execution_count": 70,
   "metadata": {},
   "outputs": [
    {
     "ename": "KeyError",
     "evalue": "'state'",
     "output_type": "error",
     "traceback": [
      "\u001b[0;31m---------------------------------------------------------------------------\u001b[0m",
      "\u001b[0;31mKeyError\u001b[0m                                  Traceback (most recent call last)",
      "\u001b[0;32m<ipython-input-70-7dde7beac989>\u001b[0m in \u001b[0;36m<module>\u001b[0;34m\u001b[0m\n\u001b[0;32m----> 1\u001b[0;31m \u001b[0mus_venues\u001b[0m\u001b[0;34m[\u001b[0m\u001b[0;34m'state'\u001b[0m\u001b[0;34m]\u001b[0m \u001b[0;34m=\u001b[0m \u001b[0mus_venues\u001b[0m\u001b[0;34m.\u001b[0m\u001b[0mcity\u001b[0m\u001b[0;34m.\u001b[0m\u001b[0mapply\u001b[0m\u001b[0;34m(\u001b[0m\u001b[0;32mlambda\u001b[0m \u001b[0mx\u001b[0m\u001b[0;34m:\u001b[0m \u001b[0mx\u001b[0m\u001b[0;34m[\u001b[0m\u001b[0;34m'state'\u001b[0m\u001b[0;34m]\u001b[0m\u001b[0;34m[\u001b[0m\u001b[0;34m'displayName'\u001b[0m\u001b[0;34m]\u001b[0m\u001b[0;34m)\u001b[0m\u001b[0;34m\u001b[0m\u001b[0;34m\u001b[0m\u001b[0m\n\u001b[0m\u001b[1;32m      2\u001b[0m \u001b[0mus_venues\u001b[0m\u001b[0;34m[\u001b[0m\u001b[0;34m'city_name'\u001b[0m\u001b[0;34m]\u001b[0m \u001b[0;34m=\u001b[0m \u001b[0mus_venues\u001b[0m\u001b[0;34m.\u001b[0m\u001b[0mcity\u001b[0m\u001b[0;34m.\u001b[0m\u001b[0mapply\u001b[0m\u001b[0;34m(\u001b[0m\u001b[0;32mlambda\u001b[0m \u001b[0mx\u001b[0m\u001b[0;34m:\u001b[0m \u001b[0mx\u001b[0m\u001b[0;34m[\u001b[0m\u001b[0;34m'displayName'\u001b[0m\u001b[0;34m]\u001b[0m\u001b[0;34m)\u001b[0m\u001b[0;34m\u001b[0m\u001b[0;34m\u001b[0m\u001b[0m\n",
      "\u001b[0;32m~/.pyenv/versions/anaconda3-2019.03/lib/python3.7/site-packages/pandas/core/series.py\u001b[0m in \u001b[0;36mapply\u001b[0;34m(self, func, convert_dtype, args, **kwds)\u001b[0m\n\u001b[1;32m   4036\u001b[0m             \u001b[0;32melse\u001b[0m\u001b[0;34m:\u001b[0m\u001b[0;34m\u001b[0m\u001b[0;34m\u001b[0m\u001b[0m\n\u001b[1;32m   4037\u001b[0m                 \u001b[0mvalues\u001b[0m \u001b[0;34m=\u001b[0m \u001b[0mself\u001b[0m\u001b[0;34m.\u001b[0m\u001b[0mastype\u001b[0m\u001b[0;34m(\u001b[0m\u001b[0mobject\u001b[0m\u001b[0;34m)\u001b[0m\u001b[0;34m.\u001b[0m\u001b[0mvalues\u001b[0m\u001b[0;34m\u001b[0m\u001b[0;34m\u001b[0m\u001b[0m\n\u001b[0;32m-> 4038\u001b[0;31m                 \u001b[0mmapped\u001b[0m \u001b[0;34m=\u001b[0m \u001b[0mlib\u001b[0m\u001b[0;34m.\u001b[0m\u001b[0mmap_infer\u001b[0m\u001b[0;34m(\u001b[0m\u001b[0mvalues\u001b[0m\u001b[0;34m,\u001b[0m \u001b[0mf\u001b[0m\u001b[0;34m,\u001b[0m \u001b[0mconvert\u001b[0m\u001b[0;34m=\u001b[0m\u001b[0mconvert_dtype\u001b[0m\u001b[0;34m)\u001b[0m\u001b[0;34m\u001b[0m\u001b[0;34m\u001b[0m\u001b[0m\n\u001b[0m\u001b[1;32m   4039\u001b[0m \u001b[0;34m\u001b[0m\u001b[0m\n\u001b[1;32m   4040\u001b[0m         \u001b[0;32mif\u001b[0m \u001b[0mlen\u001b[0m\u001b[0;34m(\u001b[0m\u001b[0mmapped\u001b[0m\u001b[0;34m)\u001b[0m \u001b[0;32mand\u001b[0m \u001b[0misinstance\u001b[0m\u001b[0;34m(\u001b[0m\u001b[0mmapped\u001b[0m\u001b[0;34m[\u001b[0m\u001b[0;36m0\u001b[0m\u001b[0;34m]\u001b[0m\u001b[0;34m,\u001b[0m \u001b[0mSeries\u001b[0m\u001b[0;34m)\u001b[0m\u001b[0;34m:\u001b[0m\u001b[0;34m\u001b[0m\u001b[0;34m\u001b[0m\u001b[0m\n",
      "\u001b[0;32mpandas/_libs/lib.pyx\u001b[0m in \u001b[0;36mpandas._libs.lib.map_infer\u001b[0;34m()\u001b[0m\n",
      "\u001b[0;32m<ipython-input-70-7dde7beac989>\u001b[0m in \u001b[0;36m<lambda>\u001b[0;34m(x)\u001b[0m\n\u001b[0;32m----> 1\u001b[0;31m \u001b[0mus_venues\u001b[0m\u001b[0;34m[\u001b[0m\u001b[0;34m'state'\u001b[0m\u001b[0;34m]\u001b[0m \u001b[0;34m=\u001b[0m \u001b[0mus_venues\u001b[0m\u001b[0;34m.\u001b[0m\u001b[0mcity\u001b[0m\u001b[0;34m.\u001b[0m\u001b[0mapply\u001b[0m\u001b[0;34m(\u001b[0m\u001b[0;32mlambda\u001b[0m \u001b[0mx\u001b[0m\u001b[0;34m:\u001b[0m \u001b[0mx\u001b[0m\u001b[0;34m[\u001b[0m\u001b[0;34m'state'\u001b[0m\u001b[0;34m]\u001b[0m\u001b[0;34m[\u001b[0m\u001b[0;34m'displayName'\u001b[0m\u001b[0;34m]\u001b[0m\u001b[0;34m)\u001b[0m\u001b[0;34m\u001b[0m\u001b[0;34m\u001b[0m\u001b[0m\n\u001b[0m\u001b[1;32m      2\u001b[0m \u001b[0mus_venues\u001b[0m\u001b[0;34m[\u001b[0m\u001b[0;34m'city_name'\u001b[0m\u001b[0;34m]\u001b[0m \u001b[0;34m=\u001b[0m \u001b[0mus_venues\u001b[0m\u001b[0;34m.\u001b[0m\u001b[0mcity\u001b[0m\u001b[0;34m.\u001b[0m\u001b[0mapply\u001b[0m\u001b[0;34m(\u001b[0m\u001b[0;32mlambda\u001b[0m \u001b[0mx\u001b[0m\u001b[0;34m:\u001b[0m \u001b[0mx\u001b[0m\u001b[0;34m[\u001b[0m\u001b[0;34m'displayName'\u001b[0m\u001b[0;34m]\u001b[0m\u001b[0;34m)\u001b[0m\u001b[0;34m\u001b[0m\u001b[0;34m\u001b[0m\u001b[0m\n",
      "\u001b[0;31mKeyError\u001b[0m: 'state'"
     ]
    }
   ],
   "source": [
    "us_venues['state'] = us_venues.city.apply(lambda x: x['state']['displayName'])\n",
    "us_venues['city_name'] = us_venues.city.apply(lambda x: x['displayName'])"
   ]
  },
  {
   "cell_type": "code",
   "execution_count": 61,
   "metadata": {},
   "outputs": [],
   "source": [
    "us_venues.to_csv('sk_venues.csv')"
   ]
  },
  {
   "cell_type": "code",
   "execution_count": 4,
   "metadata": {},
   "outputs": [],
   "source": [
    "df = pd.read_csv('sk_venues.csv', dtype='object')"
   ]
  },
  {
   "cell_type": "code",
   "execution_count": 5,
   "metadata": {},
   "outputs": [],
   "source": [
    "df.drop(columns = ['Unnamed: 0'], inplace=True)"
   ]
  },
  {
   "cell_type": "code",
   "execution_count": 6,
   "metadata": {},
   "outputs": [],
   "source": [
    "venue_id = df[['venue_name', 'id']]"
   ]
  },
  {
   "cell_type": "code",
   "execution_count": 7,
   "metadata": {},
   "outputs": [],
   "source": [
    "ids = list(set(venue_id.id))"
   ]
  },
  {
   "cell_type": "code",
   "execution_count": 9,
   "metadata": {},
   "outputs": [
    {
     "name": "stderr",
     "output_type": "stream",
     "text": [
      "100%|██████████| 8421/8421 [1:36:07<00:00,  1.51it/s]  \n"
     ]
    }
   ],
   "source": [
    "url = 'https://api.songkick.com/api/3.0/venues/'\n",
    "success = []\n",
    "fail = []\n",
    "frame_list = []\n",
    "for id_ in tqdm(ids):\n",
    "    try:\n",
    "        req = requests.get(f'{url}{str(id_)}/calendar.json?apikey={keys.songkick}')\n",
    "        x = json.loads(req.text)\n",
    "        event_df = pd.DataFrame(x['resultsPage']['results']['event'])\n",
    "        frame_list.append(event_df)\n",
    "        success.append(id_)\n",
    "    except:\n",
    "        fail.append(id_)\n",
    "        "
   ]
  },
  {
   "cell_type": "code",
   "execution_count": 22,
   "metadata": {},
   "outputs": [],
   "source": [
    "frames = frame_list.copy()"
   ]
  },
  {
   "cell_type": "code",
   "execution_count": 23,
   "metadata": {},
   "outputs": [
    {
     "name": "stderr",
     "output_type": "stream",
     "text": [
      "/Users/matt/.pyenv/versions/anaconda3-2019.03/lib/python3.7/site-packages/ipykernel_launcher.py:1: FutureWarning: Sorting because non-concatenation axis is not aligned. A future version\n",
      "of pandas will change to not sort by default.\n",
      "\n",
      "To accept the future behavior, pass 'sort=False'.\n",
      "\n",
      "To retain the current behavior and silence the warning, pass 'sort=True'.\n",
      "\n",
      "  \"\"\"Entry point for launching an IPython kernel.\n"
     ]
    }
   ],
   "source": [
    "df = pd.concat(frames)"
   ]
  },
  {
   "cell_type": "code",
   "execution_count": 12,
   "metadata": {},
   "outputs": [
    {
     "data": {
      "text/html": [
       "<div>\n",
       "<style scoped>\n",
       "    .dataframe tbody tr th:only-of-type {\n",
       "        vertical-align: middle;\n",
       "    }\n",
       "\n",
       "    .dataframe tbody tr th {\n",
       "        vertical-align: top;\n",
       "    }\n",
       "\n",
       "    .dataframe thead th {\n",
       "        text-align: right;\n",
       "    }\n",
       "</style>\n",
       "<table border=\"1\" class=\"dataframe\">\n",
       "  <thead>\n",
       "    <tr style=\"text-align: right;\">\n",
       "      <th></th>\n",
       "      <th>ageRestriction</th>\n",
       "      <th>displayName</th>\n",
       "      <th>end</th>\n",
       "      <th>flaggedAsEnded</th>\n",
       "      <th>id</th>\n",
       "      <th>location</th>\n",
       "      <th>performance</th>\n",
       "      <th>popularity</th>\n",
       "      <th>series</th>\n",
       "      <th>start</th>\n",
       "      <th>status</th>\n",
       "      <th>type</th>\n",
       "      <th>uri</th>\n",
       "      <th>venue</th>\n",
       "    </tr>\n",
       "  </thead>\n",
       "  <tbody>\n",
       "    <tr>\n",
       "      <th>0</th>\n",
       "      <td>None</td>\n",
       "      <td>Jose Negroni and Negroni's Trio at Miami Dade ...</td>\n",
       "      <td>NaN</td>\n",
       "      <td>False</td>\n",
       "      <td>38048224</td>\n",
       "      <td>{'city': 'Miami, FL, US', 'lat': 25.77248, 'ln...</td>\n",
       "      <td>[{'id': 72226849, 'displayName': 'Jose Negroni...</td>\n",
       "      <td>0.000066</td>\n",
       "      <td>NaN</td>\n",
       "      <td>{'date': '2019-08-23', 'datetime': '2019-08-23...</td>\n",
       "      <td>ok</td>\n",
       "      <td>Concert</td>\n",
       "      <td>http://www.songkick.com/concerts/38048224-jose...</td>\n",
       "      <td>{'id': 2868, 'displayName': 'Miami Dade County...</td>\n",
       "    </tr>\n",
       "    <tr>\n",
       "      <th>1</th>\n",
       "      <td>None</td>\n",
       "      <td>Jose Negroni and Negroni's Trio at Miami Dade ...</td>\n",
       "      <td>NaN</td>\n",
       "      <td>False</td>\n",
       "      <td>38049129</td>\n",
       "      <td>{'city': 'Miami, FL, US', 'lat': 25.77248, 'ln...</td>\n",
       "      <td>[{'id': 72228354, 'displayName': 'Jose Negroni...</td>\n",
       "      <td>0.000066</td>\n",
       "      <td>NaN</td>\n",
       "      <td>{'date': '2019-09-29', 'datetime': '2019-09-29...</td>\n",
       "      <td>ok</td>\n",
       "      <td>Concert</td>\n",
       "      <td>http://www.songkick.com/concerts/38049129-jose...</td>\n",
       "      <td>{'id': 2868, 'displayName': 'Miami Dade County...</td>\n",
       "    </tr>\n",
       "    <tr>\n",
       "      <th>2</th>\n",
       "      <td>None</td>\n",
       "      <td>Benise at Miami Dade County Auditorium (Octobe...</td>\n",
       "      <td>NaN</td>\n",
       "      <td>False</td>\n",
       "      <td>37362664</td>\n",
       "      <td>{'city': 'Miami, FL, US', 'lat': 25.77248, 'ln...</td>\n",
       "      <td>[{'id': 71018739, 'displayName': 'Benise', 'bi...</td>\n",
       "      <td>0.000643</td>\n",
       "      <td>NaN</td>\n",
       "      <td>{'date': '2019-10-12', 'datetime': '2019-10-12...</td>\n",
       "      <td>ok</td>\n",
       "      <td>Concert</td>\n",
       "      <td>http://www.songkick.com/concerts/37362664-beni...</td>\n",
       "      <td>{'id': 2868, 'displayName': 'Miami Dade County...</td>\n",
       "    </tr>\n",
       "    <tr>\n",
       "      <th>3</th>\n",
       "      <td>None</td>\n",
       "      <td>Enrique Chia at Miami Dade County Auditorium (...</td>\n",
       "      <td>NaN</td>\n",
       "      <td>False</td>\n",
       "      <td>38998599</td>\n",
       "      <td>{'city': 'Miami, FL, US', 'lat': 25.77248, 'ln...</td>\n",
       "      <td>[{'id': 73868640, 'displayName': 'Enrique Chia...</td>\n",
       "      <td>0.000194</td>\n",
       "      <td>NaN</td>\n",
       "      <td>{'date': '2019-10-13', 'datetime': '2019-10-13...</td>\n",
       "      <td>ok</td>\n",
       "      <td>Concert</td>\n",
       "      <td>http://www.songkick.com/concerts/38998599-enri...</td>\n",
       "      <td>{'id': 2868, 'displayName': 'Miami Dade County...</td>\n",
       "    </tr>\n",
       "    <tr>\n",
       "      <th>4</th>\n",
       "      <td>None</td>\n",
       "      <td>Meme Solis at Miami Dade County Auditorium (Oc...</td>\n",
       "      <td>NaN</td>\n",
       "      <td>False</td>\n",
       "      <td>38971387</td>\n",
       "      <td>{'city': 'Miami, FL, US', 'lat': 25.77248, 'ln...</td>\n",
       "      <td>[{'id': 73821386, 'displayName': 'Meme Solis',...</td>\n",
       "      <td>0.000006</td>\n",
       "      <td>NaN</td>\n",
       "      <td>{'date': '2019-10-19', 'datetime': '2019-10-19...</td>\n",
       "      <td>ok</td>\n",
       "      <td>Concert</td>\n",
       "      <td>http://www.songkick.com/concerts/38971387-meme...</td>\n",
       "      <td>{'id': 2868, 'displayName': 'Miami Dade County...</td>\n",
       "    </tr>\n",
       "  </tbody>\n",
       "</table>\n",
       "</div>"
      ],
      "text/plain": [
       "  ageRestriction                                        displayName  end  \\\n",
       "0           None  Jose Negroni and Negroni's Trio at Miami Dade ...  NaN   \n",
       "1           None  Jose Negroni and Negroni's Trio at Miami Dade ...  NaN   \n",
       "2           None  Benise at Miami Dade County Auditorium (Octobe...  NaN   \n",
       "3           None  Enrique Chia at Miami Dade County Auditorium (...  NaN   \n",
       "4           None  Meme Solis at Miami Dade County Auditorium (Oc...  NaN   \n",
       "\n",
       "  flaggedAsEnded        id                                           location  \\\n",
       "0          False  38048224  {'city': 'Miami, FL, US', 'lat': 25.77248, 'ln...   \n",
       "1          False  38049129  {'city': 'Miami, FL, US', 'lat': 25.77248, 'ln...   \n",
       "2          False  37362664  {'city': 'Miami, FL, US', 'lat': 25.77248, 'ln...   \n",
       "3          False  38998599  {'city': 'Miami, FL, US', 'lat': 25.77248, 'ln...   \n",
       "4          False  38971387  {'city': 'Miami, FL, US', 'lat': 25.77248, 'ln...   \n",
       "\n",
       "                                         performance  popularity series  \\\n",
       "0  [{'id': 72226849, 'displayName': 'Jose Negroni...    0.000066    NaN   \n",
       "1  [{'id': 72228354, 'displayName': 'Jose Negroni...    0.000066    NaN   \n",
       "2  [{'id': 71018739, 'displayName': 'Benise', 'bi...    0.000643    NaN   \n",
       "3  [{'id': 73868640, 'displayName': 'Enrique Chia...    0.000194    NaN   \n",
       "4  [{'id': 73821386, 'displayName': 'Meme Solis',...    0.000006    NaN   \n",
       "\n",
       "                                               start status     type  \\\n",
       "0  {'date': '2019-08-23', 'datetime': '2019-08-23...     ok  Concert   \n",
       "1  {'date': '2019-09-29', 'datetime': '2019-09-29...     ok  Concert   \n",
       "2  {'date': '2019-10-12', 'datetime': '2019-10-12...     ok  Concert   \n",
       "3  {'date': '2019-10-13', 'datetime': '2019-10-13...     ok  Concert   \n",
       "4  {'date': '2019-10-19', 'datetime': '2019-10-19...     ok  Concert   \n",
       "\n",
       "                                                 uri  \\\n",
       "0  http://www.songkick.com/concerts/38048224-jose...   \n",
       "1  http://www.songkick.com/concerts/38049129-jose...   \n",
       "2  http://www.songkick.com/concerts/37362664-beni...   \n",
       "3  http://www.songkick.com/concerts/38998599-enri...   \n",
       "4  http://www.songkick.com/concerts/38971387-meme...   \n",
       "\n",
       "                                               venue  \n",
       "0  {'id': 2868, 'displayName': 'Miami Dade County...  \n",
       "1  {'id': 2868, 'displayName': 'Miami Dade County...  \n",
       "2  {'id': 2868, 'displayName': 'Miami Dade County...  \n",
       "3  {'id': 2868, 'displayName': 'Miami Dade County...  \n",
       "4  {'id': 2868, 'displayName': 'Miami Dade County...  "
      ]
     },
     "execution_count": 12,
     "metadata": {},
     "output_type": "execute_result"
    }
   ],
   "source": [
    "df.head()"
   ]
  },
  {
   "cell_type": "code",
   "execution_count": null,
   "metadata": {},
   "outputs": [],
   "source": []
  },
  {
   "cell_type": "code",
   "execution_count": 54,
   "metadata": {},
   "outputs": [],
   "source": []
  },
  {
   "cell_type": "code",
   "execution_count": 55,
   "metadata": {},
   "outputs": [],
   "source": [
    "# df['location'] = df.location.apply(lambda x: ast.literal_eval(x))\n",
    "# df['venue'] = df.venue.apply(lambda x: ast.literal_eval(x))\n",
    "# df['performance'] = df.performance.apply(lambda x: ast.literal_eval(x))\n",
    "# df['start'] = df.start.apply(lambda x: ast.literal_eval(x))"
   ]
  },
  {
   "cell_type": "code",
   "execution_count": 24,
   "metadata": {},
   "outputs": [],
   "source": [
    "def try_artist(x, i):\n",
    "    try:\n",
    "        return x[i]['displayName']\n",
    "    except:\n",
    "        return np.nan\n",
    "    \n",
    "df.reset_index(inplace=True)\n",
    "df.rename(columns={'index' : 'i'},inplace=True)\n",
    "df['venue_id'] = df.venue.apply(lambda x: x['id'])\n",
    "df['headliner'] = df.performance.apply(lambda x: try_artist(x, 0))\n",
    "df['support'] = df.performance.apply(lambda x: try_artist(x, 1))\n",
    "df['event_time'] = df.start.apply(lambda x: pd.to_datetime(x['datetime']))\n",
    "df.drop(columns = ['flaggedAsEnded','series', 'end','status','uri', 'i','ageRestriction','venue', 'performance', 'location', 'displayName', 'start'], inplace=True)"
   ]
  },
  {
   "cell_type": "code",
   "execution_count": 30,
   "metadata": {},
   "outputs": [],
   "source": [
    "df.rename(columns={'popularity':'popularity_sk'},inplace=True)"
   ]
  },
  {
   "cell_type": "code",
   "execution_count": 31,
   "metadata": {},
   "outputs": [],
   "source": [
    "df.to_csv('sk_events.csv')"
   ]
  },
  {
   "cell_type": "code",
   "execution_count": 2,
   "metadata": {},
   "outputs": [],
   "source": [
    "venue_df = pd.read_csv('sk_venues.csv')"
   ]
  },
  {
   "cell_type": "code",
   "execution_count": 4,
   "metadata": {},
   "outputs": [],
   "source": [
    "events_df = pd.read_csv('sk_events.csv')"
   ]
  },
  {
   "cell_type": "code",
   "execution_count": 6,
   "metadata": {},
   "outputs": [],
   "source": [
    "tm_df = pd.read_csv('tm_events.csv')"
   ]
  },
  {
   "cell_type": "code",
   "execution_count": 7,
   "metadata": {},
   "outputs": [],
   "source": [
    "artists = list(set(events_df.headliner))"
   ]
  },
  {
   "cell_type": "code",
   "execution_count": 8,
   "metadata": {},
   "outputs": [],
   "source": [
    "artists = [x for x in artists if x != 'nan']"
   ]
  },
  {
   "cell_type": "code",
   "execution_count": 13,
   "metadata": {},
   "outputs": [],
   "source": [
    "frame_list = []"
   ]
  },
  {
   "cell_type": "code",
   "execution_count": 14,
   "metadata": {},
   "outputs": [
    {
     "name": "stderr",
     "output_type": "stream",
     "text": [
      "100%|██████████| 11190/11190 [1:26:16<00:00,  2.24it/s]  \n"
     ]
    }
   ],
   "source": [
    "\n",
    "url = 'https://api.songkick.com/api/3.0/search/artists.json?'\n",
    "success = []\n",
    "fail = []\n",
    "for artist in tqdm(artists):\n",
    "    try:\n",
    "        req = requests.get(f'{url}apikey={keys.songkick}&query={artist}')\n",
    "        x = json.loads(req.text)\n",
    "        artist_df = pd.DataFrame(x['resultsPage']['results']['artist'])\n",
    "        frame_list.append(artist_df)\n",
    "        success.append(artist)\n",
    "    except:\n",
    "        fail.append(artist)"
   ]
  },
  {
   "cell_type": "code",
   "execution_count": 15,
   "metadata": {},
   "outputs": [],
   "source": [
    "frames = frame_list.copy()"
   ]
  },
  {
   "cell_type": "code",
   "execution_count": 21,
   "metadata": {},
   "outputs": [
    {
     "name": "stderr",
     "output_type": "stream",
     "text": [
      "/Users/matt/.pyenv/versions/anaconda3-2019.03/lib/python3.7/site-packages/ipykernel_launcher.py:1: FutureWarning: Sorting because non-concatenation axis is not aligned. A future version\n",
      "of pandas will change to not sort by default.\n",
      "\n",
      "To accept the future behavior, pass 'sort=False'.\n",
      "\n",
      "To retain the current behavior and silence the warning, pass 'sort=True'.\n",
      "\n",
      "  \"\"\"Entry point for launching an IPython kernel.\n"
     ]
    }
   ],
   "source": [
    "df = pd.concat(frames[1:])"
   ]
  },
  {
   "cell_type": "code",
   "execution_count": 25,
   "metadata": {},
   "outputs": [],
   "source": [
    "df.drop(columns=['identifier','uri'],inplace=True)"
   ]
  },
  {
   "cell_type": "code",
   "execution_count": 30,
   "metadata": {},
   "outputs": [],
   "source": [
    "df.drop_duplicates(inplace=True)"
   ]
  },
  {
   "cell_type": "code",
   "execution_count": 34,
   "metadata": {},
   "outputs": [],
   "source": [
    "df.to_csv('artists.csv')"
   ]
  },
  {
   "cell_type": "code",
   "execution_count": 44,
   "metadata": {},
   "outputs": [
    {
     "data": {
      "text/html": [
       "<div>\n",
       "<style scoped>\n",
       "    .dataframe tbody tr th:only-of-type {\n",
       "        vertical-align: middle;\n",
       "    }\n",
       "\n",
       "    .dataframe tbody tr th {\n",
       "        vertical-align: top;\n",
       "    }\n",
       "\n",
       "    .dataframe thead th {\n",
       "        text-align: right;\n",
       "    }\n",
       "</style>\n",
       "<table border=\"1\" class=\"dataframe\">\n",
       "  <thead>\n",
       "    <tr style=\"text-align: right;\">\n",
       "      <th></th>\n",
       "      <th>displayName</th>\n",
       "      <th>id</th>\n",
       "      <th>onTourUntil</th>\n",
       "    </tr>\n",
       "  </thead>\n",
       "  <tbody>\n",
       "    <tr>\n",
       "      <th>0</th>\n",
       "      <td>MGMT</td>\n",
       "      <td>137345</td>\n",
       "      <td>2019-11-22</td>\n",
       "    </tr>\n",
       "    <tr>\n",
       "      <th>1</th>\n",
       "      <td>T.I.</td>\n",
       "      <td>17879</td>\n",
       "      <td>None</td>\n",
       "    </tr>\n",
       "    <tr>\n",
       "      <th>2</th>\n",
       "      <td>P!NK</td>\n",
       "      <td>9862999</td>\n",
       "      <td>2019-09-27</td>\n",
       "    </tr>\n",
       "    <tr>\n",
       "      <th>3</th>\n",
       "      <td>M.I.A.</td>\n",
       "      <td>493293</td>\n",
       "      <td>None</td>\n",
       "    </tr>\n",
       "    <tr>\n",
       "      <th>4</th>\n",
       "      <td>AWOLNATION</td>\n",
       "      <td>2489666</td>\n",
       "      <td>None</td>\n",
       "    </tr>\n",
       "  </tbody>\n",
       "</table>\n",
       "</div>"
      ],
      "text/plain": [
       "  displayName       id onTourUntil\n",
       "0        MGMT   137345  2019-11-22\n",
       "1        T.I.    17879        None\n",
       "2        P!NK  9862999  2019-09-27\n",
       "3      M.I.A.   493293        None\n",
       "4  AWOLNATION  2489666        None"
      ]
     },
     "execution_count": 44,
     "metadata": {},
     "output_type": "execute_result"
    }
   ],
   "source": [
    "df.head()"
   ]
  },
  {
   "cell_type": "code",
   "execution_count": 53,
   "metadata": {},
   "outputs": [],
   "source": [
    "req = requests.get(f'https://api.songkick.com/api/3.0/artists/137345/gigography.json?apikey={keys.songkick}')\n",
    "x = json.loads(req.text)"
   ]
  },
  {
   "cell_type": "code",
   "execution_count": 60,
   "metadata": {},
   "outputs": [
    {
     "name": "stderr",
     "output_type": "stream",
     "text": [
      "100%|██████████| 50839/50839 [6:39:02<00:00,  2.23it/s]    \n"
     ]
    }
   ],
   "source": [
    "\n",
    "url = 'https://api.songkick.com/api/3.0/'\n",
    "frame_list = []\n",
    "success = []\n",
    "fail = []\n",
    "for id_ in tqdm(ids):\n",
    "    try:\n",
    "        req = requests.get(f'{url}artists/{id_}/gigography.json?apikey={keys.songkick}')\n",
    "        x = json.loads(req.text)\n",
    "        gig_df = pd.DataFrame(x['resultsPage']['results']['event'])\n",
    "        frame_list.append(gig_df)\n",
    "        success.append(id_)\n",
    "    except:\n",
    "        fail.append(id_)"
   ]
  },
  {
   "cell_type": "code",
   "execution_count": 62,
   "metadata": {},
   "outputs": [
    {
     "name": "stderr",
     "output_type": "stream",
     "text": [
      "/Users/matt/.pyenv/versions/anaconda3-2019.03/lib/python3.7/site-packages/ipykernel_launcher.py:1: FutureWarning: Sorting because non-concatenation axis is not aligned. A future version\n",
      "of pandas will change to not sort by default.\n",
      "\n",
      "To accept the future behavior, pass 'sort=False'.\n",
      "\n",
      "To retain the current behavior and silence the warning, pass 'sort=True'.\n",
      "\n",
      "  \"\"\"Entry point for launching an IPython kernel.\n"
     ]
    }
   ],
   "source": [
    "df = pd.concat(frame_list)"
   ]
  },
  {
   "cell_type": "code",
   "execution_count": 64,
   "metadata": {},
   "outputs": [
    {
     "data": {
      "text/plain": [
       "(897058, 14)"
      ]
     },
     "execution_count": 64,
     "metadata": {},
     "output_type": "execute_result"
    }
   ],
   "source": [
    "df.shape"
   ]
  },
  {
   "cell_type": "code",
   "execution_count": 66,
   "metadata": {},
   "outputs": [],
   "source": [
    "df.to_csv('gigography.csv')"
   ]
  },
  {
   "cell_type": "code",
   "execution_count": 2,
   "metadata": {},
   "outputs": [],
   "source": [
    "df = pd.read_csv('gigography.csv')"
   ]
  },
  {
   "cell_type": "code",
   "execution_count": 3,
   "metadata": {},
   "outputs": [
    {
     "data": {
      "text/plain": [
       "(897058, 15)"
      ]
     },
     "execution_count": 3,
     "metadata": {},
     "output_type": "execute_result"
    }
   ],
   "source": [
    "df.shape"
   ]
  },
  {
   "cell_type": "code",
   "execution_count": null,
   "metadata": {},
   "outputs": [],
   "source": []
  }
 ],
 "metadata": {
  "kernelspec": {
   "display_name": "Python 3",
   "language": "python",
   "name": "python3"
  },
  "language_info": {
   "codemirror_mode": {
    "name": "ipython",
    "version": 3
   },
   "file_extension": ".py",
   "mimetype": "text/x-python",
   "name": "python",
   "nbconvert_exporter": "python",
   "pygments_lexer": "ipython3",
   "version": "3.7.3"
  }
 },
 "nbformat": 4,
 "nbformat_minor": 4
}
