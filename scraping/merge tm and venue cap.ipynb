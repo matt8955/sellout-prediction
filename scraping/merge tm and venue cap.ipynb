{
 "cells": [
  {
   "cell_type": "code",
   "execution_count": 1,
   "metadata": {},
   "outputs": [],
   "source": [
    "from fuzzywuzzy import fuzz\n",
    "import pandas as pd\n",
    "import numpy as np"
   ]
  },
  {
   "cell_type": "code",
   "execution_count": 41,
   "metadata": {},
   "outputs": [],
   "source": [
    "tm_df = pd.read_csv('tm_events.csv')\n",
    "wiki_df = pd.read_csv('all_venues.csv')"
   ]
  },
  {
   "cell_type": "code",
   "execution_count": 43,
   "metadata": {},
   "outputs": [
    {
     "data": {
      "text/html": [
       "<div>\n",
       "<style scoped>\n",
       "    .dataframe tbody tr th:only-of-type {\n",
       "        vertical-align: middle;\n",
       "    }\n",
       "\n",
       "    .dataframe tbody tr th {\n",
       "        vertical-align: top;\n",
       "    }\n",
       "\n",
       "    .dataframe thead th {\n",
       "        text-align: right;\n",
       "    }\n",
       "</style>\n",
       "<table border=\"1\" class=\"dataframe\">\n",
       "  <thead>\n",
       "    <tr style=\"text-align: right;\">\n",
       "      <th></th>\n",
       "      <th>Unnamed: 0</th>\n",
       "      <th>Venue</th>\n",
       "      <th>City</th>\n",
       "      <th>Capacity</th>\n",
       "    </tr>\n",
       "  </thead>\n",
       "  <tbody>\n",
       "    <tr>\n",
       "      <th>674</th>\n",
       "      <td>0</td>\n",
       "      <td>Rockwood Music Hall</td>\n",
       "      <td>New York</td>\n",
       "      <td>70</td>\n",
       "    </tr>\n",
       "    <tr>\n",
       "      <th>676</th>\n",
       "      <td>2</td>\n",
       "      <td>Shrine World Music Venue</td>\n",
       "      <td>New York</td>\n",
       "      <td>130</td>\n",
       "    </tr>\n",
       "    <tr>\n",
       "      <th>706</th>\n",
       "      <td>32</td>\n",
       "      <td>Cafe Wha?</td>\n",
       "      <td>New York</td>\n",
       "      <td>220</td>\n",
       "    </tr>\n",
       "    <tr>\n",
       "      <th>760</th>\n",
       "      <td>86</td>\n",
       "      <td>Wicked Willy's</td>\n",
       "      <td>New York</td>\n",
       "      <td>175</td>\n",
       "    </tr>\n",
       "    <tr>\n",
       "      <th>926</th>\n",
       "      <td>252</td>\n",
       "      <td>Two e Bar/Lounge</td>\n",
       "      <td>New York</td>\n",
       "      <td>125</td>\n",
       "    </tr>\n",
       "    <tr>\n",
       "      <th>955</th>\n",
       "      <td>281</td>\n",
       "      <td>Rose Bar at the Gramercy Hotel</td>\n",
       "      <td>New York</td>\n",
       "      <td>80</td>\n",
       "    </tr>\n",
       "    <tr>\n",
       "      <th>1056</th>\n",
       "      <td>382</td>\n",
       "      <td>Dinosaur BBQ New York</td>\n",
       "      <td>New York</td>\n",
       "      <td>70</td>\n",
       "    </tr>\n",
       "    <tr>\n",
       "      <th>1078</th>\n",
       "      <td>404</td>\n",
       "      <td>Coney Island Baby</td>\n",
       "      <td>New York</td>\n",
       "      <td>200</td>\n",
       "    </tr>\n",
       "    <tr>\n",
       "      <th>1093</th>\n",
       "      <td>419</td>\n",
       "      <td>The Appel Room</td>\n",
       "      <td>New York</td>\n",
       "      <td>600</td>\n",
       "    </tr>\n",
       "    <tr>\n",
       "      <th>1133</th>\n",
       "      <td>459</td>\n",
       "      <td>The Groove</td>\n",
       "      <td>New York</td>\n",
       "      <td>120</td>\n",
       "    </tr>\n",
       "    <tr>\n",
       "      <th>1147</th>\n",
       "      <td>473</td>\n",
       "      <td>Etcetera Etcetera</td>\n",
       "      <td>New York</td>\n",
       "      <td>100</td>\n",
       "    </tr>\n",
       "  </tbody>\n",
       "</table>\n",
       "</div>"
      ],
      "text/plain": [
       "      Unnamed: 0                           Venue      City Capacity\n",
       "674            0             Rockwood Music Hall  New York       70\n",
       "676            2        Shrine World Music Venue  New York      130\n",
       "706           32                       Cafe Wha?  New York      220\n",
       "760           86                  Wicked Willy's  New York      175\n",
       "926          252                Two e Bar/Lounge  New York      125\n",
       "955          281  Rose Bar at the Gramercy Hotel  New York       80\n",
       "1056         382           Dinosaur BBQ New York  New York       70\n",
       "1078         404               Coney Island Baby  New York      200\n",
       "1093         419                  The Appel Room  New York      600\n",
       "1133         459                      The Groove  New York      120\n",
       "1147         473               Etcetera Etcetera  New York      100"
      ]
     },
     "execution_count": 43,
     "metadata": {},
     "output_type": "execute_result"
    }
   ],
   "source": [
    "wiki_df[wiki_df.City == 'New York']"
   ]
  },
  {
   "cell_type": "code",
   "execution_count": 44,
   "metadata": {},
   "outputs": [],
   "source": [
    "tm_venues = list(set(tm_df.venue_name))\n",
    "wiki_venue = list(set(wiki_df.Venue))"
   ]
  },
  {
   "cell_type": "code",
   "execution_count": 45,
   "metadata": {},
   "outputs": [],
   "source": [
    "wiki_venue = [x.split('[')[0] for x in wiki_venue]"
   ]
  },
  {
   "cell_type": "code",
   "execution_count": 47,
   "metadata": {},
   "outputs": [],
   "source": [
    "name = 'temp'\n",
    "temp = 0\n",
    "d = {}\n",
    "for tm in tm_venues:\n",
    "    for wiki in wiki_venue:\n",
    "        ratio = fuzz.token_sort_ratio(tm, wiki)\n",
    "        if ratio > temp:\n",
    "            temp = ratio\n",
    "            name = wiki\n",
    "    if temp >= 90:\n",
    "        d[tm] = name\n",
    "        temp = 0"
   ]
  },
  {
   "cell_type": "code",
   "execution_count": 48,
   "metadata": {},
   "outputs": [],
   "source": [
    "tm_df.venue_name = tm_df.venue_name.apply(lambda x: d[x] if x in d else x)"
   ]
  },
  {
   "cell_type": "code",
   "execution_count": 49,
   "metadata": {},
   "outputs": [],
   "source": [
    "df = pd.merge(tm_df, wiki_df, how='left', left_on='venue_name', right_on='Venue')"
   ]
  },
  {
   "cell_type": "code",
   "execution_count": 50,
   "metadata": {},
   "outputs": [],
   "source": [
    "nan_frame = df[df.Capacity.isnull()]"
   ]
  },
  {
   "cell_type": "code",
   "execution_count": 52,
   "metadata": {},
   "outputs": [
    {
     "data": {
      "text/plain": [
       "(20044, 25)"
      ]
     },
     "execution_count": 52,
     "metadata": {},
     "output_type": "execute_result"
    }
   ],
   "source": [
    "nan_frame.shape"
   ]
  },
  {
   "cell_type": "code",
   "execution_count": 59,
   "metadata": {},
   "outputs": [],
   "source": [
    "df.dropna(subset=['Capacity'],inplace=True)"
   ]
  },
  {
   "cell_type": "code",
   "execution_count": 62,
   "metadata": {},
   "outputs": [],
   "source": [
    "df.to_csv('tm_events.csv')"
   ]
  }
 ],
 "metadata": {
  "kernelspec": {
   "display_name": "Python 3",
   "language": "python",
   "name": "python3"
  },
  "language_info": {
   "codemirror_mode": {
    "name": "ipython",
    "version": 3
   },
   "file_extension": ".py",
   "mimetype": "text/x-python",
   "name": "python",
   "nbconvert_exporter": "python",
   "pygments_lexer": "ipython3",
   "version": "3.7.3"
  }
 },
 "nbformat": 4,
 "nbformat_minor": 4
}
