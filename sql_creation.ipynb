{
 "cells": [
  {
   "cell_type": "code",
   "execution_count": 4,
   "metadata": {},
   "outputs": [],
   "source": [
    "import sqlalchemy as db"
   ]
  },
  {
   "cell_type": "code",
   "execution_count": 5,
   "metadata": {},
   "outputs": [],
   "source": [
    "engine = db.create_engine(\"sqlite:///tickets.db\")"
   ]
  },
  {
   "cell_type": "code",
   "execution_count": 1,
   "metadata": {},
   "outputs": [],
   "source": [
    "from sqlalchemy import MetaData\n",
    "from sqlalchemy import Table, Column, String, Integer, DateTime"
   ]
  },
  {
   "cell_type": "code",
   "execution_count": 9,
   "metadata": {},
   "outputs": [],
   "source": [
    "metadata = MetaData()"
   ]
  },
  {
   "cell_type": "code",
   "execution_count": 12,
   "metadata": {},
   "outputs": [],
   "source": [
    "#create msa table\n",
    "msa = Table('msa', metadata,\n",
    "            Column('zip', String(5), primary_key=True),\n",
    "            Column('msa', String(5)),\n",
    "            Column('population', Integer))"
   ]
  },
  {
   "cell_type": "code",
   "execution_count": null,
   "metadata": {},
   "outputs": [],
   "source": [
    "#create Venue table (with capacity)\n",
    "venue = Table('venue', metadata,\n",
    "              Column('id', String, primary_key=True),\n",
    "              Column('venue_name', String),\n",
    "              Column('capacity', Integer),\n",
    "              Column('lat', Integer),\n",
    "              Column('long', Integer),\n",
    "              Column('city', String),\n",
    "              Column('state', String(2)),\n",
    "              Column('zip', String(5))\n",
    "             )"
   ]
  },
  {
   "cell_type": "code",
   "execution_count": null,
   "metadata": {},
   "outputs": [],
   "source": [
    "#create event table\n",
    "event = Table('event', metadata,\n",
    "              Column('id', String, primary_key= True)\n",
    "              Column('event_name', String),\n",
    "              Column('headliner', String),\n",
    "              Column('genre', String),\n",
    "              Column('max_price', Integer),\n",
    "              Column('min_price', Integer),\n",
    "              Column('onsale_date', DateTime),\n",
    "              Column('event_date', DateTime)\n",
    "             )"
   ]
  },
  {
   "cell_type": "code",
   "execution_count": null,
   "metadata": {},
   "outputs": [],
   "source": [
    "#create Artist table with popularity"
   ]
  }
 ],
 "metadata": {
  "kernelspec": {
   "display_name": "Python 3",
   "language": "python",
   "name": "python3"
  },
  "language_info": {
   "codemirror_mode": {
    "name": "ipython",
    "version": 3
   },
   "file_extension": ".py",
   "mimetype": "text/x-python",
   "name": "python",
   "nbconvert_exporter": "python",
   "pygments_lexer": "ipython3",
   "version": "3.7.3"
  }
 },
 "nbformat": 4,
 "nbformat_minor": 4
}
