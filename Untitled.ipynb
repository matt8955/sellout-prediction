{
 "cells": [
  {
   "cell_type": "code",
   "execution_count": 1,
   "metadata": {},
   "outputs": [],
   "source": [
    "import numpy as np\n",
    "import pandas as pd"
   ]
  },
  {
   "cell_type": "code",
   "execution_count": 21,
   "metadata": {},
   "outputs": [],
   "source": [
    "df = pd.read_csv('ticket_data.csv').drop(columns=['Unnamed: 0'])"
   ]
  },
  {
   "cell_type": "code",
   "execution_count": 22,
   "metadata": {},
   "outputs": [],
   "source": [
    "pop = pd.read_csv('zipcode_population.csv',dtype='str').drop(columns=['Unnamed: 0'])"
   ]
  },
  {
   "cell_type": "code",
   "execution_count": 23,
   "metadata": {},
   "outputs": [
    {
     "data": {
      "text/plain": [
       "Index(['datetime_local', 'is_ga', 'id', 'popularity_sg', 'short_title',\n",
       "       'tm_date', 'tm_event', 'listing_count', 'average_price', 'median_price',\n",
       "       'lowest_price', 'headliner', 'is_ga.1', 'event_name', 'price_min',\n",
       "       'price_max', 'max_tickets', 'venue_name', 'postalCode', 'city', 'state',\n",
       "       'country', 'address', 'longitude', 'latitude', 'num_markets', 'genre',\n",
       "       'subgenre', 'event_date', 'is_presale', 'days_event', 'day_of_week',\n",
       "       'date'],\n",
       "      dtype='object')"
      ]
     },
     "execution_count": 23,
     "metadata": {},
     "output_type": "execute_result"
    }
   ],
   "source": [
    "df.columns"
   ]
  },
  {
   "cell_type": "code",
   "execution_count": 24,
   "metadata": {},
   "outputs": [
    {
     "data": {
      "text/plain": [
       "0        00210\n",
       "1        00211\n",
       "2        00212\n",
       "3        00213\n",
       "4        00214\n",
       "         ...  \n",
       "42100    99714\n",
       "42101    99716\n",
       "42102    99725\n",
       "42103    99775\n",
       "42104    99790\n",
       "Name: zip_code, Length: 42105, dtype: object"
      ]
     },
     "execution_count": 24,
     "metadata": {},
     "output_type": "execute_result"
    }
   ],
   "source": [
    "pop.zip_code"
   ]
  },
  {
   "cell_type": "code",
   "execution_count": 25,
   "metadata": {},
   "outputs": [],
   "source": [
    "merged = pd.merge(left=df,right=pop,how='left', left_on='postalCode',right_on='zip_code')"
   ]
  },
  {
   "cell_type": "code",
   "execution_count": 26,
   "metadata": {},
   "outputs": [
    {
     "data": {
      "text/plain": [
       "0       False\n",
       "1       False\n",
       "2       False\n",
       "3       False\n",
       "4       False\n",
       "        ...  \n",
       "6237    False\n",
       "6238    False\n",
       "6239    False\n",
       "6240    False\n",
       "6241    False\n",
       "Name: pop_2018, Length: 6242, dtype: bool"
      ]
     },
     "execution_count": 26,
     "metadata": {},
     "output_type": "execute_result"
    }
   ],
   "source": [
    "merged.pop_2018.isna()"
   ]
  },
  {
   "cell_type": "code",
   "execution_count": 27,
   "metadata": {},
   "outputs": [],
   "source": [
    "venues = pd.read_csv('scraping/cleaned_venues.csv')"
   ]
  },
  {
   "cell_type": "code",
   "execution_count": 30,
   "metadata": {},
   "outputs": [
    {
     "data": {
      "text/plain": [
       "0       Mercury Ballroom\n",
       "1        Madison Theater\n",
       "2       Mercury Ballroom\n",
       "3       Mercury Ballroom\n",
       "4       Mercury Ballroom\n",
       "              ...       \n",
       "6237    Mercury Ballroom\n",
       "6238       Madison Live!\n",
       "6239    Mercury Ballroom\n",
       "6240       Madison Live!\n",
       "6241       Madison Live!\n",
       "Name: venue_name, Length: 6242, dtype: object"
      ]
     },
     "execution_count": 30,
     "metadata": {},
     "output_type": "execute_result"
    }
   ],
   "source": [
    "merged.venue_name"
   ]
  },
  {
   "cell_type": "code",
   "execution_count": 54,
   "metadata": {},
   "outputs": [],
   "source": [
    "from fuzzywuzzy import fuzz\n",
    "name = 'temp'\n",
    "temp = 0\n",
    "d = {}\n",
    "for merged_venue in list(set(merged.venue_name)):\n",
    "    for cap_venue in list(set(venues.Venue)):\n",
    "        ratio = fuzz.token_sort_ratio(merged_venue, cap_venue)\n",
    "        if ratio > temp:\n",
    "            temp = ratio\n",
    "            name = cap_venue\n",
    "    if temp >= 80:\n",
    "        d[merged_venue] = name\n",
    "        temp = 0"
   ]
  },
  {
   "cell_type": "code",
   "execution_count": 55,
   "metadata": {},
   "outputs": [],
   "source": [
    "def try_fuzz(x):\n",
    "    try:\n",
    "        return d[x]\n",
    "    except:\n",
    "        return np.nan"
   ]
  },
  {
   "cell_type": "code",
   "execution_count": 56,
   "metadata": {},
   "outputs": [],
   "source": [
    "merged['venue_fuzz'] = merged.venue_name.apply(lambda x: try_fuzz(x))"
   ]
  },
  {
   "cell_type": "code",
   "execution_count": 57,
   "metadata": {},
   "outputs": [],
   "source": [
    "venue_merge = pd.merge(left=merged,right=venues,how='left', left_on='venue_fuzz',right_on='Venue')"
   ]
  },
  {
   "cell_type": "code",
   "execution_count": 64,
   "metadata": {},
   "outputs": [
    {
     "data": {
      "text/plain": [
       "3814"
      ]
     },
     "execution_count": 64,
     "metadata": {},
     "output_type": "execute_result"
    }
   ],
   "source": [
    "venue_merge.Capacity.isna().sum()"
   ]
  },
  {
   "cell_type": "code",
   "execution_count": 66,
   "metadata": {},
   "outputs": [
    {
     "data": {
      "text/plain": [
       "(6871, 44)"
      ]
     },
     "execution_count": 66,
     "metadata": {},
     "output_type": "execute_result"
    }
   ],
   "source": [
    "venue_merge.shape"
   ]
  },
  {
   "cell_type": "code",
   "execution_count": 67,
   "metadata": {},
   "outputs": [
    {
     "data": {
      "text/plain": [
       "Index(['datetime_local', 'is_ga', 'id', 'popularity_sg', 'short_title',\n",
       "       'tm_date', 'tm_event', 'listing_count', 'average_price', 'median_price',\n",
       "       'lowest_price', 'headliner', 'is_ga.1', 'event_name', 'price_min',\n",
       "       'price_max', 'max_tickets', 'venue_name', 'postalCode', 'city',\n",
       "       'state_x', 'country', 'address', 'longitude', 'latitude', 'num_markets',\n",
       "       'genre', 'subgenre', 'event_date', 'is_presale', 'days_event',\n",
       "       'day_of_week', 'date', 'zip_code', 'state_y', 'msa_num', 'msa_name_x',\n",
       "       'msa_name_fuzz', 'msa_name_y', 'pop_2018', 'venue_fuzz', 'Venue',\n",
       "       'City', 'Capacity'],\n",
       "      dtype='object')"
      ]
     },
     "execution_count": 67,
     "metadata": {},
     "output_type": "execute_result"
    }
   ],
   "source": [
    "venue_merge.columns"
   ]
  },
  {
   "cell_type": "code",
   "execution_count": null,
   "metadata": {},
   "outputs": [],
   "source": [
    "df = "
   ]
  },
  {
   "cell_type": "code",
   "execution_count": 73,
   "metadata": {},
   "outputs": [
    {
     "data": {
      "text/plain": [
       "0                     Cherub\n",
       "1        Gregory Alan Isakov\n",
       "2                    Badfish\n",
       "3          The Four Horsemen\n",
       "4                      Dzeko\n",
       "                ...         \n",
       "6866        The Iron Maidens\n",
       "6867           Bumpin Uglies\n",
       "6868    That Arena Rock Show\n",
       "6869                 Aqueous\n",
       "6870       Blackfoot Gypsies\n",
       "Name: headliner, Length: 6871, dtype: object"
      ]
     },
     "execution_count": 73,
     "metadata": {},
     "output_type": "execute_result"
    }
   ],
   "source": [
    "#need spotify popularity of artist\n",
    "venue_merge.headliner"
   ]
  },
  {
   "cell_type": "code",
   "execution_count": null,
   "metadata": {},
   "outputs": [],
   "source": []
  }
 ],
 "metadata": {
  "kernelspec": {
   "display_name": "Python 3",
   "language": "python",
   "name": "python3"
  },
  "language_info": {
   "codemirror_mode": {
    "name": "ipython",
    "version": 3
   },
   "file_extension": ".py",
   "mimetype": "text/x-python",
   "name": "python",
   "nbconvert_exporter": "python",
   "pygments_lexer": "ipython3",
   "version": "3.7.4"
  }
 },
 "nbformat": 4,
 "nbformat_minor": 4
}
