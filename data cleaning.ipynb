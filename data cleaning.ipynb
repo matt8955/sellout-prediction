{
 "cells": [
  {
   "cell_type": "code",
   "execution_count": 1,
   "metadata": {},
   "outputs": [],
   "source": [
    "import pandas as pd\n",
    "import numpy as np\n",
    "import functions as f\n",
    "import fuzzymatcher"
   ]
  },
  {
   "cell_type": "code",
   "execution_count": 2,
   "metadata": {},
   "outputs": [],
   "source": [
    "tm_df = pd.read_csv('tm_events.csv')\n",
    "events_df = pd.read_csv('sk_events.csv')\n",
    "venue_df = pd.read_csv('sk_venues.csv')"
   ]
  },
  {
   "cell_type": "code",
   "execution_count": 3,
   "metadata": {},
   "outputs": [],
   "source": [
    "tm_df = f.drop_nontm(tm_df)"
   ]
  },
  {
   "cell_type": "code",
   "execution_count": 4,
   "metadata": {},
   "outputs": [
    {
     "data": {
      "text/plain": [
       "(7385, 21)"
      ]
     },
     "execution_count": 4,
     "metadata": {},
     "output_type": "execute_result"
    }
   ],
   "source": [
    "tm_df.shape"
   ]
  },
  {
   "cell_type": "code",
   "execution_count": 5,
   "metadata": {},
   "outputs": [],
   "source": [
    "tm_df['url'] = tm_df.url.apply(lambda x: x if x[12:24] == 'ticketmaster' else np.nan)"
   ]
  },
  {
   "cell_type": "code",
   "execution_count": 6,
   "metadata": {},
   "outputs": [],
   "source": [
    "tm_df.dropna(subset=['url'],inplace=True)"
   ]
  },
  {
   "cell_type": "code",
   "execution_count": 5,
   "metadata": {},
   "outputs": [
    {
     "data": {
      "text/plain": [
       "642.0"
      ]
     },
     "execution_count": 5,
     "metadata": {},
     "output_type": "execute_result"
    }
   ],
   "source": [
    "tm_df.sold_out.sum()"
   ]
  },
  {
   "cell_type": "code",
   "execution_count": 6,
   "metadata": {},
   "outputs": [],
   "source": [
    "events_df.drop(columns=['Unnamed: 0'],inplace=True)\n",
    "venue_df.drop(columns=['Unnamed: 0'],inplace=True)"
   ]
  },
  {
   "cell_type": "code",
   "execution_count": 7,
   "metadata": {},
   "outputs": [
    {
     "data": {
      "text/html": [
       "<div>\n",
       "<style scoped>\n",
       "    .dataframe tbody tr th:only-of-type {\n",
       "        vertical-align: middle;\n",
       "    }\n",
       "\n",
       "    .dataframe tbody tr th {\n",
       "        vertical-align: top;\n",
       "    }\n",
       "\n",
       "    .dataframe thead th {\n",
       "        text-align: right;\n",
       "    }\n",
       "</style>\n",
       "<table border=\"1\" class=\"dataframe\">\n",
       "  <thead>\n",
       "    <tr style=\"text-align: right;\">\n",
       "      <th></th>\n",
       "      <th>flaggedAsEnded</th>\n",
       "      <th>id</th>\n",
       "      <th>popularity</th>\n",
       "      <th>type</th>\n",
       "      <th>venue_id</th>\n",
       "      <th>headliner</th>\n",
       "      <th>support</th>\n",
       "      <th>event_time</th>\n",
       "    </tr>\n",
       "  </thead>\n",
       "  <tbody>\n",
       "    <tr>\n",
       "      <th>0</th>\n",
       "      <td>False</td>\n",
       "      <td>37492754</td>\n",
       "      <td>0.013307</td>\n",
       "      <td>Concert</td>\n",
       "      <td>983</td>\n",
       "      <td>Reverend Horton Heat</td>\n",
       "      <td>The Delta Bombers</td>\n",
       "      <td>2019-08-08 19:00:00-06:00</td>\n",
       "    </tr>\n",
       "    <tr>\n",
       "      <th>1</th>\n",
       "      <td>False</td>\n",
       "      <td>38827049</td>\n",
       "      <td>0.000095</td>\n",
       "      <td>Concert</td>\n",
       "      <td>983</td>\n",
       "      <td>The Anchorage</td>\n",
       "      <td>Racist Kramer</td>\n",
       "      <td>2019-08-10 19:00:00-06:00</td>\n",
       "    </tr>\n",
       "    <tr>\n",
       "      <th>2</th>\n",
       "      <td>False</td>\n",
       "      <td>37091759</td>\n",
       "      <td>0.030854</td>\n",
       "      <td>Concert</td>\n",
       "      <td>983</td>\n",
       "      <td>King Gizzard &amp; The Lizard Wizard</td>\n",
       "      <td>Stonefield</td>\n",
       "      <td>2019-08-20 19:00:00-06:00</td>\n",
       "    </tr>\n",
       "    <tr>\n",
       "      <th>3</th>\n",
       "      <td>False</td>\n",
       "      <td>38989431</td>\n",
       "      <td>0.009071</td>\n",
       "      <td>Concert</td>\n",
       "      <td>983</td>\n",
       "      <td>DJ Pauly D</td>\n",
       "      <td>NaN</td>\n",
       "      <td>2019-08-24 21:00:00-06:00</td>\n",
       "    </tr>\n",
       "    <tr>\n",
       "      <th>4</th>\n",
       "      <td>False</td>\n",
       "      <td>38991753</td>\n",
       "      <td>0.001657</td>\n",
       "      <td>Concert</td>\n",
       "      <td>983</td>\n",
       "      <td>Corduroy</td>\n",
       "      <td>NaN</td>\n",
       "      <td>2019-08-31 20:00:00-06:00</td>\n",
       "    </tr>\n",
       "  </tbody>\n",
       "</table>\n",
       "</div>"
      ],
      "text/plain": [
       "  flaggedAsEnded        id  popularity     type  venue_id  \\\n",
       "0          False  37492754    0.013307  Concert       983   \n",
       "1          False  38827049    0.000095  Concert       983   \n",
       "2          False  37091759    0.030854  Concert       983   \n",
       "3          False  38989431    0.009071  Concert       983   \n",
       "4          False  38991753    0.001657  Concert       983   \n",
       "\n",
       "                          headliner            support  \\\n",
       "0              Reverend Horton Heat  The Delta Bombers   \n",
       "1                     The Anchorage      Racist Kramer   \n",
       "2  King Gizzard & The Lizard Wizard         Stonefield   \n",
       "3                        DJ Pauly D                NaN   \n",
       "4                          Corduroy                NaN   \n",
       "\n",
       "                  event_time  \n",
       "0  2019-08-08 19:00:00-06:00  \n",
       "1  2019-08-10 19:00:00-06:00  \n",
       "2  2019-08-20 19:00:00-06:00  \n",
       "3  2019-08-24 21:00:00-06:00  \n",
       "4  2019-08-31 20:00:00-06:00  "
      ]
     },
     "execution_count": 7,
     "metadata": {},
     "output_type": "execute_result"
    }
   ],
   "source": [
    "events_df.head()"
   ]
  },
  {
   "cell_type": "code",
   "execution_count": 8,
   "metadata": {},
   "outputs": [
    {
     "data": {
      "text/html": [
       "<div>\n",
       "<style scoped>\n",
       "    .dataframe tbody tr th:only-of-type {\n",
       "        vertical-align: middle;\n",
       "    }\n",
       "\n",
       "    .dataframe tbody tr th {\n",
       "        vertical-align: top;\n",
       "    }\n",
       "\n",
       "    .dataframe thead th {\n",
       "        text-align: right;\n",
       "    }\n",
       "</style>\n",
       "<table border=\"1\" class=\"dataframe\">\n",
       "  <thead>\n",
       "    <tr style=\"text-align: right;\">\n",
       "      <th></th>\n",
       "      <th>venue_name</th>\n",
       "      <th>id</th>\n",
       "      <th>capacity</th>\n",
       "      <th>street</th>\n",
       "      <th>zip</th>\n",
       "      <th>latitude</th>\n",
       "      <th>longitude</th>\n",
       "      <th>metro_area</th>\n",
       "    </tr>\n",
       "  </thead>\n",
       "  <tbody>\n",
       "    <tr>\n",
       "      <th>0</th>\n",
       "      <td>The Basement East</td>\n",
       "      <td>2913113</td>\n",
       "      <td>NaN</td>\n",
       "      <td>917 Woodland Ave.</td>\n",
       "      <td>37206</td>\n",
       "      <td>36.175636</td>\n",
       "      <td>-86.755652</td>\n",
       "      <td>Nashville</td>\n",
       "    </tr>\n",
       "    <tr>\n",
       "      <th>1</th>\n",
       "      <td>The Basement East</td>\n",
       "      <td>4147909</td>\n",
       "      <td>545.0</td>\n",
       "      <td>917 Woodland Street</td>\n",
       "      <td>37206</td>\n",
       "      <td>36.175670</td>\n",
       "      <td>-86.755580</td>\n",
       "      <td>Nashville</td>\n",
       "    </tr>\n",
       "    <tr>\n",
       "      <th>2</th>\n",
       "      <td>The Zimmerman's Basement O' Sound</td>\n",
       "      <td>1766373</td>\n",
       "      <td>NaN</td>\n",
       "      <td>7 Sussex Road</td>\n",
       "      <td>08816</td>\n",
       "      <td>40.418433</td>\n",
       "      <td>-74.432227</td>\n",
       "      <td>East Brunswick</td>\n",
       "    </tr>\n",
       "    <tr>\n",
       "      <th>3</th>\n",
       "      <td>The Basement East</td>\n",
       "      <td>3433549</td>\n",
       "      <td>NaN</td>\n",
       "      <td>1245 Glenwood Avenue Southeast</td>\n",
       "      <td>30316</td>\n",
       "      <td>33.739988</td>\n",
       "      <td>-84.346676</td>\n",
       "      <td>Atlanta</td>\n",
       "    </tr>\n",
       "    <tr>\n",
       "      <th>4</th>\n",
       "      <td>Evangeline Downs Racetrack &amp; Casino</td>\n",
       "      <td>2371734</td>\n",
       "      <td>NaN</td>\n",
       "      <td>2235 Creswell Lane Extension</td>\n",
       "      <td>70570</td>\n",
       "      <td>30.533530</td>\n",
       "      <td>-92.081510</td>\n",
       "      <td>Baton Rouge</td>\n",
       "    </tr>\n",
       "  </tbody>\n",
       "</table>\n",
       "</div>"
      ],
      "text/plain": [
       "                            venue_name       id  capacity  \\\n",
       "0                    The Basement East  2913113       NaN   \n",
       "1                    The Basement East  4147909     545.0   \n",
       "2    The Zimmerman's Basement O' Sound  1766373       NaN   \n",
       "3                    The Basement East  3433549       NaN   \n",
       "4  Evangeline Downs Racetrack & Casino  2371734       NaN   \n",
       "\n",
       "                           street    zip   latitude  longitude      metro_area  \n",
       "0               917 Woodland Ave.  37206  36.175636 -86.755652       Nashville  \n",
       "1             917 Woodland Street  37206  36.175670 -86.755580       Nashville  \n",
       "2                   7 Sussex Road  08816  40.418433 -74.432227  East Brunswick  \n",
       "3  1245 Glenwood Avenue Southeast  30316  33.739988 -84.346676         Atlanta  \n",
       "4    2235 Creswell Lane Extension  70570  30.533530 -92.081510     Baton Rouge  "
      ]
     },
     "execution_count": 8,
     "metadata": {},
     "output_type": "execute_result"
    }
   ],
   "source": [
    "venue_df.head()"
   ]
  },
  {
   "cell_type": "code",
   "execution_count": 9,
   "metadata": {},
   "outputs": [],
   "source": [
    "seatgeek_df = pd.merge(events_df, venue_df,left_on='venue_id',right_on='id',how='left')"
   ]
  },
  {
   "cell_type": "code",
   "execution_count": 10,
   "metadata": {},
   "outputs": [
    {
     "data": {
      "text/html": [
       "<div>\n",
       "<style scoped>\n",
       "    .dataframe tbody tr th:only-of-type {\n",
       "        vertical-align: middle;\n",
       "    }\n",
       "\n",
       "    .dataframe tbody tr th {\n",
       "        vertical-align: top;\n",
       "    }\n",
       "\n",
       "    .dataframe thead th {\n",
       "        text-align: right;\n",
       "    }\n",
       "</style>\n",
       "<table border=\"1\" class=\"dataframe\">\n",
       "  <thead>\n",
       "    <tr style=\"text-align: right;\">\n",
       "      <th></th>\n",
       "      <th>Unnamed: 0</th>\n",
       "      <th>address</th>\n",
       "      <th>city</th>\n",
       "      <th>country</th>\n",
       "      <th>event_date</th>\n",
       "      <th>event_name</th>\n",
       "      <th>genre</th>\n",
       "      <th>is_presale</th>\n",
       "      <th>latitude</th>\n",
       "      <th>longitude</th>\n",
       "      <th>...</th>\n",
       "      <th>num_markets</th>\n",
       "      <th>onsale_date</th>\n",
       "      <th>postalCode</th>\n",
       "      <th>price_max</th>\n",
       "      <th>price_min</th>\n",
       "      <th>sold_out</th>\n",
       "      <th>state</th>\n",
       "      <th>subgenre</th>\n",
       "      <th>url</th>\n",
       "      <th>venue_name</th>\n",
       "    </tr>\n",
       "  </thead>\n",
       "  <tbody>\n",
       "    <tr>\n",
       "      <th>0</th>\n",
       "      <td>0</td>\n",
       "      <td>303 Poarch Road</td>\n",
       "      <td>Atmore</td>\n",
       "      <td>US</td>\n",
       "      <td>2019-08-11 02:00:00+00:00</td>\n",
       "      <td>Trace Adkins</td>\n",
       "      <td>Country</td>\n",
       "      <td>0</td>\n",
       "      <td>31.104181</td>\n",
       "      <td>-87.482916</td>\n",
       "      <td>...</td>\n",
       "      <td>1.0</td>\n",
       "      <td>2019-06-14 16:30:00+00:00</td>\n",
       "      <td>36502</td>\n",
       "      <td>65.00</td>\n",
       "      <td>20.00</td>\n",
       "      <td>0.0</td>\n",
       "      <td>AL</td>\n",
       "      <td>Country</td>\n",
       "      <td>https://www.ticketmaster.com/trace-adkins-atmo...</td>\n",
       "      <td>Wind Creek Casino and Hotel - Atmore</td>\n",
       "    </tr>\n",
       "    <tr>\n",
       "      <th>1</th>\n",
       "      <td>1</td>\n",
       "      <td>1001 19th Street N</td>\n",
       "      <td>Birmingham</td>\n",
       "      <td>US</td>\n",
       "      <td>2019-09-09 00:00:00+00:00</td>\n",
       "      <td>Nickelodeon's JoJo Siwa D.R.E.A.M. The Tour</td>\n",
       "      <td>Pop</td>\n",
       "      <td>1</td>\n",
       "      <td>33.523653</td>\n",
       "      <td>-86.813768</td>\n",
       "      <td>...</td>\n",
       "      <td>1.0</td>\n",
       "      <td>2019-04-12 17:00:00+00:00</td>\n",
       "      <td>35203</td>\n",
       "      <td>275.00</td>\n",
       "      <td>27.50</td>\n",
       "      <td>0.0</td>\n",
       "      <td>AL</td>\n",
       "      <td>Pop</td>\n",
       "      <td>https://www.ticketmaster.com/nickelodeons-jojo...</td>\n",
       "      <td>Legacy Arena at The BJCC</td>\n",
       "    </tr>\n",
       "    <tr>\n",
       "      <th>2</th>\n",
       "      <td>2</td>\n",
       "      <td>1001 19th Street N</td>\n",
       "      <td>Birmingham</td>\n",
       "      <td>US</td>\n",
       "      <td>2019-09-05 01:00:00+00:00</td>\n",
       "      <td>Backstreet Boys: DNA World Tour</td>\n",
       "      <td>Rock</td>\n",
       "      <td>1</td>\n",
       "      <td>33.523653</td>\n",
       "      <td>-86.813768</td>\n",
       "      <td>...</td>\n",
       "      <td>1.0</td>\n",
       "      <td>2018-11-14 16:00:00+00:00</td>\n",
       "      <td>35203</td>\n",
       "      <td>850.00</td>\n",
       "      <td>39.50</td>\n",
       "      <td>0.0</td>\n",
       "      <td>AL</td>\n",
       "      <td>Pop</td>\n",
       "      <td>https://www.ticketmaster.com/backstreet-boys-d...</td>\n",
       "      <td>Legacy Arena at The BJCC</td>\n",
       "    </tr>\n",
       "    <tr>\n",
       "      <th>3</th>\n",
       "      <td>3</td>\n",
       "      <td>2100 Richard Arrington Boulevard</td>\n",
       "      <td>Birmingham</td>\n",
       "      <td>US</td>\n",
       "      <td>2019-11-11 02:00:00+00:00</td>\n",
       "      <td>Kevin Gates - I'M HIM TOUR</td>\n",
       "      <td>Hip-Hop/Rap</td>\n",
       "      <td>1</td>\n",
       "      <td>33.523727</td>\n",
       "      <td>-86.810110</td>\n",
       "      <td>...</td>\n",
       "      <td>1.0</td>\n",
       "      <td>2019-08-02 15:00:00+00:00</td>\n",
       "      <td>35203</td>\n",
       "      <td>148.00</td>\n",
       "      <td>36.00</td>\n",
       "      <td>0.0</td>\n",
       "      <td>AL</td>\n",
       "      <td>French Rap</td>\n",
       "      <td>https://www.ticketmaster.com/kevin-gates-im-hi...</td>\n",
       "      <td>BJCC Concert Hall</td>\n",
       "    </tr>\n",
       "    <tr>\n",
       "      <th>4</th>\n",
       "      <td>4</td>\n",
       "      <td>1001 19th Street N</td>\n",
       "      <td>Birmingham</td>\n",
       "      <td>US</td>\n",
       "      <td>2019-11-14 01:30:00+00:00</td>\n",
       "      <td>Jonas Brothers: Happiness Begins Tour</td>\n",
       "      <td>Rock</td>\n",
       "      <td>1</td>\n",
       "      <td>33.523653</td>\n",
       "      <td>-86.813768</td>\n",
       "      <td>...</td>\n",
       "      <td>1.0</td>\n",
       "      <td>2019-06-14 15:00:00+00:00</td>\n",
       "      <td>35203</td>\n",
       "      <td>517.95</td>\n",
       "      <td>37.95</td>\n",
       "      <td>0.0</td>\n",
       "      <td>AL</td>\n",
       "      <td>Pop</td>\n",
       "      <td>https://www.ticketmaster.com/jonas-brothers-ha...</td>\n",
       "      <td>Legacy Arena at The BJCC</td>\n",
       "    </tr>\n",
       "  </tbody>\n",
       "</table>\n",
       "<p>5 rows × 21 columns</p>\n",
       "</div>"
      ],
      "text/plain": [
       "   Unnamed: 0                           address        city country  \\\n",
       "0           0                   303 Poarch Road      Atmore      US   \n",
       "1           1                1001 19th Street N  Birmingham      US   \n",
       "2           2                1001 19th Street N  Birmingham      US   \n",
       "3           3  2100 Richard Arrington Boulevard  Birmingham      US   \n",
       "4           4                1001 19th Street N  Birmingham      US   \n",
       "\n",
       "                  event_date                                   event_name  \\\n",
       "0  2019-08-11 02:00:00+00:00                                 Trace Adkins   \n",
       "1  2019-09-09 00:00:00+00:00  Nickelodeon's JoJo Siwa D.R.E.A.M. The Tour   \n",
       "2  2019-09-05 01:00:00+00:00              Backstreet Boys: DNA World Tour   \n",
       "3  2019-11-11 02:00:00+00:00                   Kevin Gates - I'M HIM TOUR   \n",
       "4  2019-11-14 01:30:00+00:00        Jonas Brothers: Happiness Begins Tour   \n",
       "\n",
       "         genre  is_presale   latitude  longitude  ... num_markets  \\\n",
       "0      Country           0  31.104181 -87.482916  ...         1.0   \n",
       "1          Pop           1  33.523653 -86.813768  ...         1.0   \n",
       "2         Rock           1  33.523653 -86.813768  ...         1.0   \n",
       "3  Hip-Hop/Rap           1  33.523727 -86.810110  ...         1.0   \n",
       "4         Rock           1  33.523653 -86.813768  ...         1.0   \n",
       "\n",
       "                 onsale_date postalCode price_max  price_min  sold_out  state  \\\n",
       "0  2019-06-14 16:30:00+00:00      36502     65.00      20.00       0.0     AL   \n",
       "1  2019-04-12 17:00:00+00:00      35203    275.00      27.50       0.0     AL   \n",
       "2  2018-11-14 16:00:00+00:00      35203    850.00      39.50       0.0     AL   \n",
       "3  2019-08-02 15:00:00+00:00      35203    148.00      36.00       0.0     AL   \n",
       "4  2019-06-14 15:00:00+00:00      35203    517.95      37.95       0.0     AL   \n",
       "\n",
       "     subgenre                                                url  \\\n",
       "0     Country  https://www.ticketmaster.com/trace-adkins-atmo...   \n",
       "1         Pop  https://www.ticketmaster.com/nickelodeons-jojo...   \n",
       "2         Pop  https://www.ticketmaster.com/backstreet-boys-d...   \n",
       "3  French Rap  https://www.ticketmaster.com/kevin-gates-im-hi...   \n",
       "4         Pop  https://www.ticketmaster.com/jonas-brothers-ha...   \n",
       "\n",
       "                             venue_name  \n",
       "0  Wind Creek Casino and Hotel - Atmore  \n",
       "1             Legacy Arena at The BJCC   \n",
       "2             Legacy Arena at The BJCC   \n",
       "3                     BJCC Concert Hall  \n",
       "4             Legacy Arena at The BJCC   \n",
       "\n",
       "[5 rows x 21 columns]"
      ]
     },
     "execution_count": 10,
     "metadata": {},
     "output_type": "execute_result"
    }
   ],
   "source": [
    "tm_df.head()"
   ]
  },
  {
   "cell_type": "code",
   "execution_count": 11,
   "metadata": {},
   "outputs": [
    {
     "data": {
      "text/html": [
       "<div>\n",
       "<style scoped>\n",
       "    .dataframe tbody tr th:only-of-type {\n",
       "        vertical-align: middle;\n",
       "    }\n",
       "\n",
       "    .dataframe tbody tr th {\n",
       "        vertical-align: top;\n",
       "    }\n",
       "\n",
       "    .dataframe thead th {\n",
       "        text-align: right;\n",
       "    }\n",
       "</style>\n",
       "<table border=\"1\" class=\"dataframe\">\n",
       "  <thead>\n",
       "    <tr style=\"text-align: right;\">\n",
       "      <th></th>\n",
       "      <th>flaggedAsEnded</th>\n",
       "      <th>id_x</th>\n",
       "      <th>popularity</th>\n",
       "      <th>type</th>\n",
       "      <th>venue_id</th>\n",
       "      <th>headliner</th>\n",
       "      <th>support</th>\n",
       "      <th>event_time</th>\n",
       "      <th>venue_name</th>\n",
       "      <th>id_y</th>\n",
       "      <th>capacity</th>\n",
       "      <th>street</th>\n",
       "      <th>zip</th>\n",
       "      <th>latitude</th>\n",
       "      <th>longitude</th>\n",
       "      <th>metro_area</th>\n",
       "    </tr>\n",
       "  </thead>\n",
       "  <tbody>\n",
       "    <tr>\n",
       "      <th>0</th>\n",
       "      <td>False</td>\n",
       "      <td>37492754</td>\n",
       "      <td>0.013307</td>\n",
       "      <td>Concert</td>\n",
       "      <td>983</td>\n",
       "      <td>Reverend Horton Heat</td>\n",
       "      <td>The Delta Bombers</td>\n",
       "      <td>2019-08-08 19:00:00-06:00</td>\n",
       "      <td>The Depot</td>\n",
       "      <td>983</td>\n",
       "      <td>1200.0</td>\n",
       "      <td>400 West South Temple</td>\n",
       "      <td>84101</td>\n",
       "      <td>40.7688</td>\n",
       "      <td>-111.90283</td>\n",
       "      <td>Salt Lake City</td>\n",
       "    </tr>\n",
       "    <tr>\n",
       "      <th>1</th>\n",
       "      <td>False</td>\n",
       "      <td>38827049</td>\n",
       "      <td>0.000095</td>\n",
       "      <td>Concert</td>\n",
       "      <td>983</td>\n",
       "      <td>The Anchorage</td>\n",
       "      <td>Racist Kramer</td>\n",
       "      <td>2019-08-10 19:00:00-06:00</td>\n",
       "      <td>The Depot</td>\n",
       "      <td>983</td>\n",
       "      <td>1200.0</td>\n",
       "      <td>400 West South Temple</td>\n",
       "      <td>84101</td>\n",
       "      <td>40.7688</td>\n",
       "      <td>-111.90283</td>\n",
       "      <td>Salt Lake City</td>\n",
       "    </tr>\n",
       "    <tr>\n",
       "      <th>2</th>\n",
       "      <td>False</td>\n",
       "      <td>37091759</td>\n",
       "      <td>0.030854</td>\n",
       "      <td>Concert</td>\n",
       "      <td>983</td>\n",
       "      <td>King Gizzard &amp; The Lizard Wizard</td>\n",
       "      <td>Stonefield</td>\n",
       "      <td>2019-08-20 19:00:00-06:00</td>\n",
       "      <td>The Depot</td>\n",
       "      <td>983</td>\n",
       "      <td>1200.0</td>\n",
       "      <td>400 West South Temple</td>\n",
       "      <td>84101</td>\n",
       "      <td>40.7688</td>\n",
       "      <td>-111.90283</td>\n",
       "      <td>Salt Lake City</td>\n",
       "    </tr>\n",
       "    <tr>\n",
       "      <th>3</th>\n",
       "      <td>False</td>\n",
       "      <td>38989431</td>\n",
       "      <td>0.009071</td>\n",
       "      <td>Concert</td>\n",
       "      <td>983</td>\n",
       "      <td>DJ Pauly D</td>\n",
       "      <td>NaN</td>\n",
       "      <td>2019-08-24 21:00:00-06:00</td>\n",
       "      <td>The Depot</td>\n",
       "      <td>983</td>\n",
       "      <td>1200.0</td>\n",
       "      <td>400 West South Temple</td>\n",
       "      <td>84101</td>\n",
       "      <td>40.7688</td>\n",
       "      <td>-111.90283</td>\n",
       "      <td>Salt Lake City</td>\n",
       "    </tr>\n",
       "    <tr>\n",
       "      <th>4</th>\n",
       "      <td>False</td>\n",
       "      <td>38991753</td>\n",
       "      <td>0.001657</td>\n",
       "      <td>Concert</td>\n",
       "      <td>983</td>\n",
       "      <td>Corduroy</td>\n",
       "      <td>NaN</td>\n",
       "      <td>2019-08-31 20:00:00-06:00</td>\n",
       "      <td>The Depot</td>\n",
       "      <td>983</td>\n",
       "      <td>1200.0</td>\n",
       "      <td>400 West South Temple</td>\n",
       "      <td>84101</td>\n",
       "      <td>40.7688</td>\n",
       "      <td>-111.90283</td>\n",
       "      <td>Salt Lake City</td>\n",
       "    </tr>\n",
       "  </tbody>\n",
       "</table>\n",
       "</div>"
      ],
      "text/plain": [
       "  flaggedAsEnded      id_x  popularity     type  venue_id  \\\n",
       "0          False  37492754    0.013307  Concert       983   \n",
       "1          False  38827049    0.000095  Concert       983   \n",
       "2          False  37091759    0.030854  Concert       983   \n",
       "3          False  38989431    0.009071  Concert       983   \n",
       "4          False  38991753    0.001657  Concert       983   \n",
       "\n",
       "                          headliner            support  \\\n",
       "0              Reverend Horton Heat  The Delta Bombers   \n",
       "1                     The Anchorage      Racist Kramer   \n",
       "2  King Gizzard & The Lizard Wizard         Stonefield   \n",
       "3                        DJ Pauly D                NaN   \n",
       "4                          Corduroy                NaN   \n",
       "\n",
       "                  event_time venue_name  id_y  capacity  \\\n",
       "0  2019-08-08 19:00:00-06:00  The Depot   983    1200.0   \n",
       "1  2019-08-10 19:00:00-06:00  The Depot   983    1200.0   \n",
       "2  2019-08-20 19:00:00-06:00  The Depot   983    1200.0   \n",
       "3  2019-08-24 21:00:00-06:00  The Depot   983    1200.0   \n",
       "4  2019-08-31 20:00:00-06:00  The Depot   983    1200.0   \n",
       "\n",
       "                  street    zip  latitude  longitude      metro_area  \n",
       "0  400 West South Temple  84101   40.7688 -111.90283  Salt Lake City  \n",
       "1  400 West South Temple  84101   40.7688 -111.90283  Salt Lake City  \n",
       "2  400 West South Temple  84101   40.7688 -111.90283  Salt Lake City  \n",
       "3  400 West South Temple  84101   40.7688 -111.90283  Salt Lake City  \n",
       "4  400 West South Temple  84101   40.7688 -111.90283  Salt Lake City  "
      ]
     },
     "execution_count": 11,
     "metadata": {},
     "output_type": "execute_result"
    }
   ],
   "source": [
    "seatgeek_df.head()"
   ]
  },
  {
   "cell_type": "code",
   "execution_count": 12,
   "metadata": {},
   "outputs": [],
   "source": [
    "df = fuzzymatcher.fuzzy_left_join(tm_df, seatgeek_df,left_on=['venue_name','event_name'], right_on=['venue_name','headliner'])"
   ]
  },
  {
   "cell_type": "code",
   "execution_count": 13,
   "metadata": {},
   "outputs": [],
   "source": [
    "df.to_csv('merged_df.csv')"
   ]
  },
  {
   "cell_type": "code",
   "execution_count": 14,
   "metadata": {},
   "outputs": [],
   "source": [
    "df = pd.read_csv('merged_df.csv')"
   ]
  },
  {
   "cell_type": "code",
   "execution_count": 15,
   "metadata": {},
   "outputs": [
    {
     "data": {
      "text/plain": [
       "Index(['Unnamed: 0', 'best_match_score', '__id_left', '__id_right',\n",
       "       'Unnamed: 0.1', 'address', 'city', 'country', 'event_date',\n",
       "       'event_name', 'genre', 'is_presale', 'latitude_left', 'longitude_left',\n",
       "       'max_tickets', 'num_markets', 'onsale_date', 'postalCode', 'price_max',\n",
       "       'price_min', 'sold_out', 'state', 'subgenre', 'url', 'venue_name_left',\n",
       "       'flaggedAsEnded', 'id_x', 'popularity', 'type', 'venue_id', 'headliner',\n",
       "       'support', 'event_time', 'venue_name_right', 'id_y', 'capacity',\n",
       "       'street', 'zip', 'latitude_right', 'longitude_right', 'metro_area'],\n",
       "      dtype='object')"
      ]
     },
     "execution_count": 15,
     "metadata": {},
     "output_type": "execute_result"
    }
   ],
   "source": [
    "df.columns"
   ]
  },
  {
   "cell_type": "code",
   "execution_count": 16,
   "metadata": {},
   "outputs": [],
   "source": [
    "df.drop(columns=['__id_left','__id_right', 'Unnamed: 0','Unnamed: 0.1','id_x','id_x'], inplace=True)"
   ]
  },
  {
   "cell_type": "code",
   "execution_count": 17,
   "metadata": {},
   "outputs": [
    {
     "data": {
      "text/plain": [
       "Index(['best_match_score', 'address', 'city', 'country', 'event_date',\n",
       "       'event_name', 'genre', 'is_presale', 'latitude_left', 'longitude_left',\n",
       "       'max_tickets', 'num_markets', 'onsale_date', 'postalCode', 'price_max',\n",
       "       'price_min', 'sold_out', 'state', 'subgenre', 'url', 'venue_name_left',\n",
       "       'flaggedAsEnded', 'popularity', 'type', 'venue_id', 'headliner',\n",
       "       'support', 'event_time', 'venue_name_right', 'id_y', 'capacity',\n",
       "       'street', 'zip', 'latitude_right', 'longitude_right', 'metro_area'],\n",
       "      dtype='object')"
      ]
     },
     "execution_count": 17,
     "metadata": {},
     "output_type": "execute_result"
    }
   ],
   "source": [
    "df.columns"
   ]
  },
  {
   "cell_type": "code",
   "execution_count": 18,
   "metadata": {},
   "outputs": [],
   "source": [
    "df.drop(columns=['best_match_score','type', 'venue_id','flaggedAsEnded',\n",
    "                 'venue_name_right','latitude_right', 'longitude_right'], inplace=True)"
   ]
  },
  {
   "cell_type": "code",
   "execution_count": 19,
   "metadata": {},
   "outputs": [
    {
     "data": {
      "text/plain": [
       "Index(['address', 'city', 'country', 'event_date', 'event_name', 'genre',\n",
       "       'is_presale', 'latitude_left', 'longitude_left', 'max_tickets',\n",
       "       'num_markets', 'onsale_date', 'postalCode', 'price_max', 'price_min',\n",
       "       'sold_out', 'state', 'subgenre', 'url', 'venue_name_left', 'popularity',\n",
       "       'headliner', 'support', 'event_time', 'id_y', 'capacity', 'street',\n",
       "       'zip', 'metro_area'],\n",
       "      dtype='object')"
      ]
     },
     "execution_count": 19,
     "metadata": {},
     "output_type": "execute_result"
    }
   ],
   "source": [
    "df.columns"
   ]
  },
  {
   "cell_type": "code",
   "execution_count": 20,
   "metadata": {},
   "outputs": [],
   "source": [
    "df.to_csv('merged_df.csv')"
   ]
  },
  {
   "cell_type": "code",
   "execution_count": 23,
   "metadata": {},
   "outputs": [
    {
     "data": {
      "text/plain": [
       "address               0\n",
       "city                  0\n",
       "country               0\n",
       "event_date           44\n",
       "event_name            0\n",
       "genre                 0\n",
       "is_presale            0\n",
       "latitude_left         5\n",
       "longitude_left        5\n",
       "max_tickets        6149\n",
       "num_markets           1\n",
       "onsale_date          44\n",
       "postalCode            0\n",
       "price_max           642\n",
       "price_min           642\n",
       "sold_out              0\n",
       "state                 0\n",
       "subgenre              0\n",
       "url                   0\n",
       "venue_name_left       0\n",
       "popularity            0\n",
       "headliner           103\n",
       "support            4608\n",
       "event_time          317\n",
       "id_y                  0\n",
       "capacity           4785\n",
       "street              440\n",
       "zip                  49\n",
       "metro_area            0\n",
       "dtype: int64"
      ]
     },
     "execution_count": 23,
     "metadata": {},
     "output_type": "execute_result"
    }
   ],
   "source": [
    "df.isnull().sum()"
   ]
  },
  {
   "cell_type": "code",
   "execution_count": 32,
   "metadata": {},
   "outputs": [],
   "source": [
    "df.drop(columns =['address', 'city', 'country', 'event_date', 'latitude_left', 'longitude_left','url','id_y'],inplace=True)"
   ]
  },
  {
   "cell_type": "code",
   "execution_count": 33,
   "metadata": {},
   "outputs": [
    {
     "data": {
      "text/plain": [
       "Index(['event_name', 'genre', 'is_presale', 'max_tickets', 'num_markets',\n",
       "       'onsale_date', 'postalCode', 'price_max', 'price_min', 'sold_out',\n",
       "       'state', 'subgenre', 'venue_name_left', 'popularity', 'headliner',\n",
       "       'support', 'event_time', 'capacity', 'street', 'zip', 'metro_area'],\n",
       "      dtype='object')"
      ]
     },
     "execution_count": 33,
     "metadata": {},
     "output_type": "execute_result"
    }
   ],
   "source": [
    "df.columns"
   ]
  },
  {
   "cell_type": "code",
   "execution_count": 37,
   "metadata": {},
   "outputs": [],
   "source": [
    "df.drop(columns=[ 'street', 'zip','postalCode','state','event_name'],inplace=True)"
   ]
  },
  {
   "cell_type": "code",
   "execution_count": 39,
   "metadata": {},
   "outputs": [
    {
     "data": {
      "text/plain": [
       "genre                 0\n",
       "is_presale            0\n",
       "max_tickets        6149\n",
       "num_markets           1\n",
       "onsale_date          44\n",
       "price_max           642\n",
       "price_min           642\n",
       "sold_out              0\n",
       "subgenre              0\n",
       "venue_name_left       0\n",
       "popularity            0\n",
       "headliner           103\n",
       "support            4608\n",
       "event_time          317\n",
       "capacity           4785\n",
       "metro_area            0\n",
       "dtype: int64"
      ]
     },
     "execution_count": 39,
     "metadata": {},
     "output_type": "execute_result"
    }
   ],
   "source": [
    "df.isnull().sum()"
   ]
  },
  {
   "cell_type": "code",
   "execution_count": 41,
   "metadata": {},
   "outputs": [],
   "source": [
    "#deal with max ticket nulls\n",
    "df.max_tickets.fillna(50,inplace=True)"
   ]
  },
  {
   "cell_type": "code",
   "execution_count": 43,
   "metadata": {},
   "outputs": [],
   "source": [
    "#drop without headliner\n",
    "df.dropna(subset=['headliner'],inplace=True)"
   ]
  },
  {
   "cell_type": "code",
   "execution_count": 44,
   "metadata": {},
   "outputs": [],
   "source": [
    "#drop without capacity untill i get wiki\n",
    "df.drop(columns=['capacity'],inplace=True)"
   ]
  },
  {
   "cell_type": "code",
   "execution_count": 45,
   "metadata": {},
   "outputs": [],
   "source": [
    "# fill no supports with none\n",
    "df.support.fillna('none',inplace=True)"
   ]
  },
  {
   "cell_type": "code",
   "execution_count": 46,
   "metadata": {},
   "outputs": [
    {
     "data": {
      "text/plain": [
       "624.0"
      ]
     },
     "execution_count": 46,
     "metadata": {},
     "output_type": "execute_result"
    }
   ],
   "source": [
    "# drop columns without prices\n",
    "df.sold_out.sum()"
   ]
  },
  {
   "cell_type": "code",
   "execution_count": 25,
   "metadata": {},
   "outputs": [],
   "source": [
    "import matplotlib.pyplot as plt\n",
    "import seaborn as sns\n",
    "%matplotlib inline"
   ]
  },
  {
   "cell_type": "code",
   "execution_count": null,
   "metadata": {},
   "outputs": [],
   "source": []
  },
  {
   "cell_type": "code",
   "execution_count": 26,
   "metadata": {},
   "outputs": [],
   "source": [
    "sns.set()"
   ]
  },
  {
   "cell_type": "code",
   "execution_count": 27,
   "metadata": {},
   "outputs": [
    {
     "data": {
      "text/plain": [
       "<matplotlib.axes._subplots.AxesSubplot at 0x1388d16d8>"
      ]
     },
     "execution_count": 27,
     "metadata": {},
     "output_type": "execute_result"
    },
    {
     "data": {
      "image/png": "[encoded data removed]",
      "text/plain": [
       "<Figure size 432x288 with 1 Axes>"
      ]
     },
     "metadata": {},
     "output_type": "display_data"
    }
   ],
   "source": [
    "df.sold_out.hist()"
   ]
  },
  {
   "cell_type": "code",
   "execution_count": 28,
   "metadata": {},
   "outputs": [
    {
     "data": {
      "text/plain": [
       "<matplotlib.axes._subplots.AxesSubplot at 0x13c443080>"
      ]
     },
     "execution_count": 28,
     "metadata": {},
     "output_type": "execute_result"
    },
    {
     "data": {
      "image/png": "[encoded data removed]",
      "text/plain": [
       "<Figure size 432x288 with 1 Axes>"
      ]
     },
     "metadata": {},
     "output_type": "display_data"
    }
   ],
   "source": [
    "df.is_presale.hist()"
   ]
  },
  {
   "cell_type": "code",
   "execution_count": 29,
   "metadata": {},
   "outputs": [
    {
     "data": {
      "text/plain": [
       "<matplotlib.axes._subplots.AxesSubplot at 0x13e02b5f8>"
      ]
     },
     "execution_count": 29,
     "metadata": {},
     "output_type": "execute_result"
    },
    {
     "data": {
      "image/png": "[encoded data removed]",
      "text/plain": [
       "<Figure size 1440x1440 with 1 Axes>"
      ]
     },
     "metadata": {},
     "output_type": "display_data"
    }
   ],
   "source": [
    "df.genre.hist(figsize=(20,20),xrot=90,bins=31,xlabelsize=30,ylabelsize=30)"
   ]
  },
  {
   "cell_type": "code",
   "execution_count": 30,
   "metadata": {},
   "outputs": [
    {
     "data": {
      "text/plain": [
       "Index(['address', 'city', 'country', 'event_date', 'event_name', 'genre',\n",
       "       'is_presale', 'latitude_left', 'longitude_left', 'max_tickets',\n",
       "       'num_markets', 'onsale_date', 'postalCode', 'price_max', 'price_min',\n",
       "       'sold_out', 'state', 'subgenre', 'url', 'venue_name_left', 'popularity',\n",
       "       'headliner', 'support', 'event_time', 'id_y', 'capacity', 'street',\n",
       "       'zip', 'metro_area'],\n",
       "      dtype='object')"
      ]
     },
     "execution_count": 30,
     "metadata": {},
     "output_type": "execute_result"
    }
   ],
   "source": [
    "df.columns"
   ]
  },
  {
   "cell_type": "code",
   "execution_count": 31,
   "metadata": {},
   "outputs": [],
   "source": [
    "df.reset_index(inplace=True)"
   ]
  },
  {
   "cell_type": "code",
   "execution_count": 32,
   "metadata": {},
   "outputs": [
    {
     "data": {
      "text/plain": [
       "<matplotlib.axes._subplots.AxesSubplot at 0x149c96cc0>"
      ]
     },
     "execution_count": 32,
     "metadata": {},
     "output_type": "execute_result"
    },
    {
     "data": {
      "image/png": "[encoded data removed]",
      "text/plain": [
       "<Figure size 432x288 with 1 Axes>"
      ]
     },
     "metadata": {},
     "output_type": "display_data"
    }
   ],
   "source": [
    "df.price_min.apply(lambda x: np.log(x)).hist(bins=70)"
   ]
  },
  {
   "cell_type": "code",
   "execution_count": 33,
   "metadata": {},
   "outputs": [
    {
     "data": {
      "text/plain": [
       "<matplotlib.axes._subplots.AxesSubplot at 0x136e616a0>"
      ]
     },
     "execution_count": 33,
     "metadata": {},
     "output_type": "execute_result"
    },
    {
     "data": {
      "image/png": "[encoded data removed]",
      "text/plain": [
       "<Figure size 432x288 with 1 Axes>"
      ]
     },
     "metadata": {},
     "output_type": "display_data"
    }
   ],
   "source": [
    "df.price_max.apply(lambda x: np.log(x)).hist(bins=70)"
   ]
  },
  {
   "cell_type": "code",
   "execution_count": null,
   "metadata": {},
   "outputs": [],
   "source": []
  },
  {
   "cell_type": "code",
   "execution_count": 34,
   "metadata": {},
   "outputs": [],
   "source": [
    "import sklearn\n",
    "from sklearn.dummy import DummyClassifier\n",
    "from sklearn.model_selection import train_test_split\n",
    "from sklearn import preprocessing\n",
    "import patsy\n",
    "from sklearn.metrics import accuracy_score, roc_auc_score"
   ]
  },
  {
   "cell_type": "code",
   "execution_count": 35,
   "metadata": {},
   "outputs": [],
   "source": [
    "dummy_df = pd.get_dummies(df)"
   ]
  },
  {
   "cell_type": "code",
   "execution_count": 36,
   "metadata": {},
   "outputs": [],
   "source": [
    "X = dummy_df.drop(columns= ['sold_out'])"
   ]
  },
  {
   "cell_type": "code",
   "execution_count": 37,
   "metadata": {},
   "outputs": [],
   "source": [
    "y = dummy_df['sold_out']"
   ]
  },
  {
   "cell_type": "code",
   "execution_count": 38,
   "metadata": {},
   "outputs": [],
   "source": [
    "train_x, test_x, train_y, test_y = train_test_split(X,y, random_state=42)"
   ]
  },
  {
   "cell_type": "code",
   "execution_count": 39,
   "metadata": {},
   "outputs": [],
   "source": [
    "baseline = DummyClassifier()"
   ]
  },
  {
   "cell_type": "code",
   "execution_count": 40,
   "metadata": {},
   "outputs": [
    {
     "data": {
      "text/plain": [
       "DummyClassifier(constant=None, random_state=None, strategy='stratified')"
      ]
     },
     "execution_count": 40,
     "metadata": {},
     "output_type": "execute_result"
    }
   ],
   "source": [
    "baseline.fit(train_x, train_y)"
   ]
  },
  {
   "cell_type": "code",
   "execution_count": 41,
   "metadata": {},
   "outputs": [],
   "source": [
    "y_pred = baseline.predict(test_x)"
   ]
  },
  {
   "cell_type": "code",
   "execution_count": 42,
   "metadata": {},
   "outputs": [
    {
     "data": {
      "text/plain": [
       "0.8327016783974012"
      ]
     },
     "execution_count": 42,
     "metadata": {},
     "output_type": "execute_result"
    }
   ],
   "source": [
    "accuracy_score(test_y,y_pred)"
   ]
  },
  {
   "cell_type": "code",
   "execution_count": 43,
   "metadata": {},
   "outputs": [
    {
     "data": {
      "text/plain": [
       "0.49275567469162795"
      ]
     },
     "execution_count": 43,
     "metadata": {},
     "output_type": "execute_result"
    }
   ],
   "source": [
    "roc_auc_score(test_y,y_pred)"
   ]
  },
  {
   "cell_type": "code",
   "execution_count": 82,
   "metadata": {},
   "outputs": [],
   "source": [
    "from tpot import TPOTClassifier"
   ]
  },
  {
   "cell_type": "code",
   "execution_count": null,
   "metadata": {},
   "outputs": [
    {
     "name": "stdout",
     "output_type": "stream",
     "text": [
      "Imputing missing values in feature set\n"
     ]
    }
   ],
   "source": [
    "tpot = TPOTClassifier(generations=8, population_size=50, verbosity=2)\n",
    "tpot.fit(train_x, train_y)\n",
    "print(\"Accuracy is {}%\".format(tpot.score(X_test, y_test)*100))"
   ]
  },
  {
   "cell_type": "code",
   "execution_count": 48,
   "metadata": {},
   "outputs": [],
   "source": [
    "sg_df = pd.read_csv('sg_events.csv')"
   ]
  },
  {
   "cell_type": "code",
   "execution_count": 49,
   "metadata": {},
   "outputs": [
    {
     "data": {
      "text/plain": [
       "Index(['Unnamed: 0', 'created_at', 'datetime_local', 'general_admission', 'id',\n",
       "       'popularity', 'score', 'short_title', 'url', 'listing_count',\n",
       "       'average_price', 'median_price', 'lowest_price', 'venue_name',\n",
       "       'venue_popularity', 'venue_address', 'venue_city', 'venue_state',\n",
       "       'venue_zip', 'venue_id'],\n",
       "      dtype='object')"
      ]
     },
     "execution_count": 49,
     "metadata": {},
     "output_type": "execute_result"
    }
   ],
   "source": [
    "sg_df.columns"
   ]
  },
  {
   "cell_type": "code",
   "execution_count": 51,
   "metadata": {},
   "outputs": [],
   "source": [
    "sg_df = sg_df[['short_title','average_price', 'median_price', 'lowest_price', 'venue_name',\n",
    "       'venue_popularity','general_admission','popularity', 'score']]"
   ]
  },
  {
   "cell_type": "code",
   "execution_count": 53,
   "metadata": {},
   "outputs": [
    {
     "data": {
      "text/plain": [
       "(10833, 9)"
      ]
     },
     "execution_count": 53,
     "metadata": {},
     "output_type": "execute_result"
    }
   ],
   "source": [
    "sg_df.shape"
   ]
  },
  {
   "cell_type": "code",
   "execution_count": 56,
   "metadata": {},
   "outputs": [],
   "source": [
    "sg_df.dropna(inplace=True)"
   ]
  },
  {
   "cell_type": "code",
   "execution_count": 57,
   "metadata": {},
   "outputs": [
    {
     "data": {
      "text/plain": [
       "Index(['genre', 'is_presale', 'max_tickets', 'num_markets', 'onsale_date',\n",
       "       'price_max', 'price_min', 'sold_out', 'subgenre', 'venue_name_left',\n",
       "       'popularity', 'headliner', 'support', 'event_time', 'metro_area'],\n",
       "      dtype='object')"
      ]
     },
     "execution_count": 57,
     "metadata": {},
     "output_type": "execute_result"
    }
   ],
   "source": [
    "df.columns"
   ]
  },
  {
   "cell_type": "code",
   "execution_count": 58,
   "metadata": {},
   "outputs": [
    {
     "data": {
      "text/plain": [
       "Index(['short_title', 'average_price', 'median_price', 'lowest_price',\n",
       "       'venue_name', 'venue_popularity', 'general_admission', 'popularity',\n",
       "       'score'],\n",
       "      dtype='object')"
      ]
     },
     "execution_count": 58,
     "metadata": {},
     "output_type": "execute_result"
    }
   ],
   "source": [
    "sg_df.columns"
   ]
  },
  {
   "cell_type": "code",
   "execution_count": 60,
   "metadata": {},
   "outputs": [],
   "source": [
    "df_merge = fuzzymatcher.fuzzy_left_join(df, sg_df,left_on=['venue_name_left','headliner'], right_on=['venue_name','short_title'])"
   ]
  },
  {
   "cell_type": "code",
   "execution_count": 63,
   "metadata": {},
   "outputs": [
    {
     "data": {
      "text/plain": [
       "best_match_score       3\n",
       "__id_left              0\n",
       "__id_right             3\n",
       "genre                  0\n",
       "is_presale             0\n",
       "max_tickets            0\n",
       "num_markets            1\n",
       "onsale_date           43\n",
       "price_max            624\n",
       "price_min            624\n",
       "sold_out               0\n",
       "subgenre               0\n",
       "venue_name_left        0\n",
       "popularity_left        0\n",
       "headliner              0\n",
       "support                0\n",
       "event_time           301\n",
       "metro_area             0\n",
       "short_title            3\n",
       "average_price          3\n",
       "median_price           3\n",
       "lowest_price           3\n",
       "venue_name             3\n",
       "venue_popularity       3\n",
       "general_admission      3\n",
       "popularity_right       3\n",
       "score                  3\n",
       "dtype: int64"
      ]
     },
     "execution_count": 63,
     "metadata": {},
     "output_type": "execute_result"
    }
   ],
   "source": [
    "df_merge.isnull().sum()"
   ]
  },
  {
   "cell_type": "code",
   "execution_count": 64,
   "metadata": {},
   "outputs": [],
   "source": [
    "df_merge.to_csv('merged_df_done.csv')"
   ]
  },
  {
   "cell_type": "code",
   "execution_count": 152,
   "metadata": {},
   "outputs": [],
   "source": [
    "df_merge = pd.read_csv('merged_df_done.csv')"
   ]
  },
  {
   "cell_type": "code",
   "execution_count": 153,
   "metadata": {},
   "outputs": [],
   "source": [
    "df_merge.drop(columns=['price_max','price_min'],inplace=True)"
   ]
  },
  {
   "cell_type": "code",
   "execution_count": 154,
   "metadata": {},
   "outputs": [],
   "source": [
    "df_merge.dropna(subset=['venue_name'],inplace=True)"
   ]
  },
  {
   "cell_type": "code",
   "execution_count": 155,
   "metadata": {},
   "outputs": [
    {
     "data": {
      "text/plain": [
       "Index(['genre', 'is_presale', 'max_tickets', 'num_markets', 'onsale_date',\n",
       "       'price_max', 'price_min', 'sold_out', 'subgenre', 'venue_name_left',\n",
       "       'popularity', 'headliner', 'support', 'event_time', 'metro_area'],\n",
       "      dtype='object')"
      ]
     },
     "execution_count": 155,
     "metadata": {},
     "output_type": "execute_result"
    }
   ],
   "source": [
    "df.columns"
   ]
  },
  {
   "cell_type": "code",
   "execution_count": 156,
   "metadata": {},
   "outputs": [],
   "source": [
    "df_merge.dropna(subset=['num_markets'],inplace=True)"
   ]
  },
  {
   "cell_type": "code",
   "execution_count": 157,
   "metadata": {},
   "outputs": [
    {
     "data": {
      "text/plain": [
       "Index(['Unnamed: 0', 'best_match_score', '__id_left', '__id_right', 'genre',\n",
       "       'is_presale', 'max_tickets', 'num_markets', 'onsale_date', 'sold_out',\n",
       "       'subgenre', 'venue_name_left', 'popularity_left', 'headliner',\n",
       "       'support', 'event_time', 'metro_area', 'short_title', 'average_price',\n",
       "       'median_price', 'lowest_price', 'venue_name', 'venue_popularity',\n",
       "       'general_admission', 'popularity_right', 'score'],\n",
       "      dtype='object')"
      ]
     },
     "execution_count": 157,
     "metadata": {},
     "output_type": "execute_result"
    }
   ],
   "source": [
    "df_merge.columns"
   ]
  },
  {
   "cell_type": "code",
   "execution_count": 158,
   "metadata": {},
   "outputs": [],
   "source": [
    "df_merge.drop(columns=['__id_left', '__id_right'],inplace=True)"
   ]
  },
  {
   "cell_type": "code",
   "execution_count": 159,
   "metadata": {},
   "outputs": [
    {
     "data": {
      "text/plain": [
       "Unnamed: 0             0\n",
       "best_match_score       0\n",
       "genre                  0\n",
       "is_presale             0\n",
       "max_tickets            0\n",
       "num_markets            0\n",
       "onsale_date           43\n",
       "sold_out               0\n",
       "subgenre               0\n",
       "venue_name_left        0\n",
       "popularity_left        0\n",
       "headliner              0\n",
       "support                0\n",
       "event_time           300\n",
       "metro_area             0\n",
       "short_title            0\n",
       "average_price          0\n",
       "median_price           0\n",
       "lowest_price           0\n",
       "venue_name             0\n",
       "venue_popularity       0\n",
       "general_admission      0\n",
       "popularity_right       0\n",
       "score                  0\n",
       "dtype: int64"
      ]
     },
     "execution_count": 159,
     "metadata": {},
     "output_type": "execute_result"
    }
   ],
   "source": [
    "df_merge.isnull().sum()"
   ]
  },
  {
   "cell_type": "code",
   "execution_count": 160,
   "metadata": {},
   "outputs": [],
   "source": [
    "df_merge.drop(columns=['event_time'],inplace=True)"
   ]
  },
  {
   "cell_type": "code",
   "execution_count": 161,
   "metadata": {},
   "outputs": [],
   "source": [
    "train_df = df_merge.drop(columns=['onsale_date'])"
   ]
  },
  {
   "cell_type": "code",
   "execution_count": 163,
   "metadata": {},
   "outputs": [
    {
     "data": {
      "text/plain": [
       "Unnamed: 0           0\n",
       "best_match_score     0\n",
       "genre                0\n",
       "is_presale           0\n",
       "max_tickets          0\n",
       "num_markets          0\n",
       "sold_out             0\n",
       "subgenre             0\n",
       "venue_name_left      0\n",
       "popularity_left      0\n",
       "headliner            0\n",
       "support              0\n",
       "metro_area           0\n",
       "short_title          0\n",
       "average_price        0\n",
       "median_price         0\n",
       "lowest_price         0\n",
       "venue_name           0\n",
       "venue_popularity     0\n",
       "general_admission    0\n",
       "popularity_right     0\n",
       "score                0\n",
       "dtype: int64"
      ]
     },
     "execution_count": 163,
     "metadata": {},
     "output_type": "execute_result"
    }
   ],
   "source": [
    "train_df.isnull().sum()"
   ]
  },
  {
   "cell_type": "code",
   "execution_count": 165,
   "metadata": {},
   "outputs": [],
   "source": [
    "train_df = train_df.drop(columns= ['Unnamed: 0'])"
   ]
  },
  {
   "cell_type": "code",
   "execution_count": 166,
   "metadata": {},
   "outputs": [],
   "source": [
    "train_df.to_csv('training_df.csv')"
   ]
  },
  {
   "cell_type": "code",
   "execution_count": 146,
   "metadata": {},
   "outputs": [],
   "source": [
    "X = train_df.drop(columns=['sold_out'])\n",
    "y= train_df.sold_out"
   ]
  },
  {
   "cell_type": "code",
   "execution_count": 147,
   "metadata": {},
   "outputs": [],
   "source": [
    "train_x, test_x, train_y, test_y = train_test_split(X,y, random_state=42)"
   ]
  },
  {
   "cell_type": "code",
   "execution_count": 144,
   "metadata": {},
   "outputs": [],
   "source": [
    "train_df = pd.get_dummies(train_df)"
   ]
  },
  {
   "cell_type": "code",
   "execution_count": 148,
   "metadata": {},
   "outputs": [],
   "source": [
    "from sklearn.preprocessing import StandardScaler"
   ]
  },
  {
   "cell_type": "code",
   "execution_count": 149,
   "metadata": {},
   "outputs": [],
   "source": [
    "ss = StandardScaler()\n",
    "train_x = ss.fit_transform(train_x)\n",
    "test_x = ss.transform(test_x)"
   ]
  },
  {
   "cell_type": "code",
   "execution_count": null,
   "metadata": {},
   "outputs": [],
   "source": []
  }
 ],
 "metadata": {
  "kernelspec": {
   "display_name": "Python 3",
   "language": "python",
   "name": "python3"
  },
  "language_info": {
   "codemirror_mode": {
    "name": "ipython",
    "version": 3
   },
   "file_extension": ".py",
   "mimetype": "text/x-python",
   "name": "python",
   "nbconvert_exporter": "python",
   "pygments_lexer": "ipython3",
   "version": "3.7.3"
  }
 },
 "nbformat": 4,
 "nbformat_minor": 4
}
