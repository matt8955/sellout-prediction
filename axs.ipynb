{
 "cells": [
  {
   "cell_type": "code",
   "execution_count": 10,
   "metadata": {},
   "outputs": [],
   "source": [
    "import requests\n",
    "from bs4 import BeautifulSoup\n",
    "import pandas as pd\n",
    "import matplotlib.pyplot as plt\n",
    "import seaborn as sns\n",
    "import json"
   ]
  },
  {
   "cell_type": "code",
   "execution_count": 46,
   "metadata": {},
   "outputs": [],
   "source": [
    "req = requests.get(\"https://www.axs.com/venues\")"
   ]
  },
  {
   "cell_type": "code",
   "execution_count": 47,
   "metadata": {},
   "outputs": [
    {
     "data": {
      "text/plain": [
       "<Response [405]>"
      ]
     },
     "execution_count": 47,
     "metadata": {},
     "output_type": "execute_result"
    }
   ],
   "source": [
    "req"
   ]
  },
  {
   "cell_type": "code",
   "execution_count": 48,
   "metadata": {},
   "outputs": [],
   "source": [
    "with open('venues.html', 'r') as f:\n",
    "    soup = BeautifulSoup(f, \"html.parser\")"
   ]
  },
  {
   "cell_type": "code",
   "execution_count": 49,
   "metadata": {},
   "outputs": [],
   "source": [
    "mydivs = soup.findAll(\"div\", {\"class\": \"seo-column\"})"
   ]
  },
  {
   "cell_type": "code",
   "execution_count": 50,
   "metadata": {},
   "outputs": [],
   "source": [
    "x = list(mydivs[0].children)[1]"
   ]
  },
  {
   "cell_type": "code",
   "execution_count": 51,
   "metadata": {},
   "outputs": [
    {
     "data": {
      "text/plain": [
       "'1015 Folsom'"
      ]
     },
     "execution_count": 51,
     "metadata": {},
     "output_type": "execute_result"
    }
   ],
   "source": [
    "list(x.children)[0]"
   ]
  },
  {
   "cell_type": "code",
   "execution_count": 54,
   "metadata": {},
   "outputs": [],
   "source": [
    "venue_list = []\n",
    "for div in mydivs:\n",
    "    for tag in list(div.children):\n",
    "        x = list(tag)[0]\n",
    "        venue_list.append(x)\n",
    "venue_list = [x for x in venue_list if x != '\\n']"
   ]
  },
  {
   "cell_type": "code",
   "execution_count": 57,
   "metadata": {},
   "outputs": [
    {
     "data": {
      "text/plain": [
       "<div class=\"seo-column\">\n",
       "<a href=\"https://www.axs.com/venues/125088/1015-folsom-san-francisco-tickets\">1015 Folsom<span></span></a>\n",
       "<a href=\"https://www.axs.com/venues/102070/12th-and-porter-nashville-tickets\">12th and Porter<span></span></a>\n",
       "<a href=\"https://www.axs.com/venues/126332/1306-y-thirteen-oy-six-miami-tickets\">1306 – Thirteen O’ Six<span></span></a>\n",
       "<a href=\"https://www.axs.com/venues/127296/1720-los-angeles-tickets\">1720<span> (1)</span></a>\n",
       "<a href=\"https://www.axs.com/venues/126442/1865-southampton-tickets\">1865<span> (1)</span></a>\n",
       "<a href=\"https://www.axs.com/venues/127233/1904-music-hall-jacksonville-tickets\">1904 Music Hall<span> (1)</span></a>\n",
       "<a href=\"https://www.axs.com/venues/101480/1stbank-center-broomfield-tickets\">1STBANK Center<span> (4)</span></a>\n",
       "<a href=\"https://www.axs.com/venues/126526/1st-central-county-ground-hove-tickets\">1st Central County Ground<span></span></a>\n",
       "</div>"
      ]
     },
     "execution_count": 57,
     "metadata": {},
     "output_type": "execute_result"
    }
   ],
   "source": [
    "mydivs[0]"
   ]
  },
  {
   "cell_type": "code",
   "execution_count": 55,
   "metadata": {},
   "outputs": [
    {
     "data": {
      "text/plain": [
       "'Adrienne Arsht Center'"
      ]
     },
     "execution_count": 55,
     "metadata": {},
     "output_type": "execute_result"
    }
   ],
   "source": [
    "venue_list[55]"
   ]
  },
  {
   "cell_type": "code",
   "execution_count": 79,
   "metadata": {},
   "outputs": [],
   "source": [
    "venue_url = []\n",
    "for div in mydivs:\n",
    "    x = str(list(div.children)[1])\n",
    "    venue_url.append(x.split(\"\\\"\")[1])"
   ]
  },
  {
   "cell_type": "code",
   "execution_count": 6,
   "metadata": {},
   "outputs": [],
   "source": [
    "key = 'ibjKuqIpOmtRftG3'\n",
    "artist = '379603'\n",
    "r = requests.get('https://www.songkick.com/leaderboards/popular_artists')"
   ]
  },
  {
   "cell_type": "code",
   "execution_count": 61,
   "metadata": {},
   "outputs": [],
   "source": [
    "soup = BeautifulSoup(r.text, \"html.parser\")"
   ]
  },
  {
   "cell_type": "code",
   "execution_count": 82,
   "metadata": {},
   "outputs": [],
   "source": [
    "artists = []\n",
    "for x in list(soup.findAll(\"td\", {\"class\": \"name\"})):\n",
    "    artists.append(list(x.children)[1].text)"
   ]
  },
  {
   "cell_type": "code",
   "execution_count": 83,
   "metadata": {},
   "outputs": [
    {
     "data": {
      "text/plain": [
       "['Coldplay',\n",
       " 'Rihanna',\n",
       " 'Eminem',\n",
       " 'Drake',\n",
       " 'U2',\n",
       " 'Maroon 5',\n",
       " 'Adele',\n",
       " 'Bruno Mars',\n",
       " 'Kanye West',\n",
       " 'Beyoncé',\n",
       " 'Ed Sheeran',\n",
       " 'Katy Perry',\n",
       " 'Red Hot Chili Peppers',\n",
       " 'Lil Wayne',\n",
       " 'Calvin Harris',\n",
       " 'Chris Brown',\n",
       " 'Justin Bieber',\n",
       " 'The Weeknd',\n",
       " 'Kendrick Lamar',\n",
       " 'Imagine Dragons',\n",
       " 'Nicki Minaj',\n",
       " 'Lady Gaga',\n",
       " 'Taylor Swift',\n",
       " 'The Killers',\n",
       " 'David Guetta',\n",
       " 'Justin Timberlake',\n",
       " 'Kings of Leon',\n",
       " 'Radiohead',\n",
       " 'Usher',\n",
       " 'Wiz Khalifa',\n",
       " 'Mumford & Sons',\n",
       " 'Ellie Goulding',\n",
       " 'Lana Del Rey',\n",
       " 'Muse',\n",
       " 'Green Day',\n",
       " 'Pitbull',\n",
       " 'Black Eyed Peas',\n",
       " 'Arctic Monkeys',\n",
       " 'Foo Fighters',\n",
       " 'Flo Rida',\n",
       " 'The Rolling Stones',\n",
       " 'Jason Derulo',\n",
       " 'Queen',\n",
       " 'OneRepublic',\n",
       " 'Alicia Keys',\n",
       " 'Metallica',\n",
       " 'Fall Out Boy',\n",
       " 'Big Sean',\n",
       " 'Ariana Grande',\n",
       " 'Sia',\n",
       " 'The Black Keys',\n",
       " 'Skrillex',\n",
       " 'Britney Spears',\n",
       " 'J. Cole',\n",
       " 'John Legend',\n",
       " 'Miley Cyrus',\n",
       " 'Paramore',\n",
       " 'MGMT',\n",
       " 'Kid Cudi',\n",
       " 'Avicii',\n",
       " 'Snoop Dogg',\n",
       " 'John Mayer',\n",
       " 'The xx',\n",
       " 'A$AP Rocky',\n",
       " 'Foster the People',\n",
       " 'Gorillaz',\n",
       " 'Shakira',\n",
       " 'Kesha',\n",
       " 'Lorde',\n",
       " 'Fleetwood Mac',\n",
       " \"Guns N' Roses\",\n",
       " 'Linkin Park',\n",
       " 'T.I.',\n",
       " 'Macklemore & Ryan Lewis',\n",
       " 'Sam Smith',\n",
       " 'Elton John',\n",
       " 'One Direction',\n",
       " 'Future',\n",
       " 'Arcade Fire',\n",
       " 'blink-182',\n",
       " 'Bon Iver',\n",
       " 'Major Lazer',\n",
       " 'Pearl Jam',\n",
       " 'Demi Lovato',\n",
       " 'Jason Mraz',\n",
       " 'AC/DC',\n",
       " 'The Cure',\n",
       " 'Pharrell Williams',\n",
       " 'Train',\n",
       " 'Trey Songz',\n",
       " 'Bastille',\n",
       " 'Frank Ocean',\n",
       " 'Twenty One Pilots',\n",
       " 'Nickelback',\n",
       " 'Enrique Iglesias',\n",
       " 'Jack Johnson',\n",
       " 'Bob Dylan',\n",
       " 'Childish Gambino',\n",
       " 'Panic! At the Disco',\n",
       " 'The Lumineers',\n",
       " 'Dr. Dre',\n",
       " 'B.o.B',\n",
       " 'Weezer',\n",
       " 'Daft Punk',\n",
       " '50 Cent',\n",
       " 'Tyga',\n",
       " 'Aerosmith',\n",
       " 'Ne-Yo',\n",
       " 'Mariah Carey',\n",
       " 'The Strokes',\n",
       " 'Jennifer Lopez',\n",
       " 'Kelly Clarkson',\n",
       " 'The Chainsmokers',\n",
       " 'Of Monsters and Men',\n",
       " 'Bon Jovi',\n",
       " 'The Fray',\n",
       " 'Madonna',\n",
       " 'Selena Gomez',\n",
       " 'The Script',\n",
       " '2 Chainz',\n",
       " 'Jessie J',\n",
       " 'Avril Lavigne',\n",
       " 'alt-J',\n",
       " 'Death Cab for Cutie',\n",
       " 'Christina Aguilera',\n",
       " 'Jay-Z',\n",
       " 'Vampire Weekend',\n",
       " 'Two Door Cinema Club',\n",
       " 'Michael Bublé',\n",
       " 'DJ Khaled',\n",
       " 'The Kooks',\n",
       " 'Beck',\n",
       " 'Zedd',\n",
       " 'OutKast',\n",
       " 'Ludacris',\n",
       " 'Stevie Wonder',\n",
       " 'Phoenix',\n",
       " 'Akon',\n",
       " 'Hozier',\n",
       " 'Nelly',\n",
       " 'M83',\n",
       " 'Fun.',\n",
       " 'Post Malone',\n",
       " 'Snow Patrol',\n",
       " 'Disclosure',\n",
       " 'Journey',\n",
       " 'System of a Down',\n",
       " 'Ty Dolla $ign',\n",
       " 'Eric Clapton',\n",
       " 'Lady Antebellum',\n",
       " 'Bruce Springsteen',\n",
       " 'Chance the Rapper',\n",
       " 'Deadmau5',\n",
       " 'Miguel',\n",
       " 'Travis Scott',\n",
       " 'Jeremih',\n",
       " 'T-Pain',\n",
       " 'Billy Joel',\n",
       " 'Tame Impala',\n",
       " 'Gotye',\n",
       " 'Shawn Mendes',\n",
       " 'Passion Pit',\n",
       " 'Florence and the Machine',\n",
       " 'Rick Ross',\n",
       " 'Cage the Elephant',\n",
       " 'Lupe Fiasco',\n",
       " 'Eagles',\n",
       " 'G-Eazy',\n",
       " 'The Smashing Pumpkins',\n",
       " 'Modest Mouse',\n",
       " 'The Who',\n",
       " 'Depeche Mode',\n",
       " 'Migos',\n",
       " 'Mac Miller',\n",
       " 'Tiësto',\n",
       " 'Nas',\n",
       " 'The Goo Goo Dolls',\n",
       " 'Tove Lo',\n",
       " 'The Offspring',\n",
       " 'M.I.A.',\n",
       " 'R. Kelly',\n",
       " 'Vance Joy',\n",
       " 'Gucci Mane',\n",
       " 'Luke Bryan',\n",
       " 'The Beach Boys',\n",
       " 'Franz Ferdinand',\n",
       " 'Pixies',\n",
       " 'ScHoolboy Q',\n",
       " 'Martin Garrix',\n",
       " 'Sean Paul',\n",
       " 'Meghan Trainor',\n",
       " 'Band of Horses',\n",
       " 'Kygo',\n",
       " 'The National',\n",
       " 'Santana',\n",
       " 'Carly Rae Jepsen',\n",
       " 'Passenger',\n",
       " 'will.i.am',\n",
       " 'Slipknot',\n",
       " 'Clean Bandit']"
      ]
     },
     "execution_count": 83,
     "metadata": {},
     "output_type": "execute_result"
    }
   ],
   "source": [
    "artists"
   ]
  },
  {
   "cell_type": "code",
   "execution_count": 68,
   "metadata": {},
   "outputs": [
    {
     "data": {
      "text/plain": [
       "'Coldplay'"
      ]
     },
     "execution_count": 68,
     "metadata": {},
     "output_type": "execute_result"
    }
   ],
   "source": [
    "list(x.stripped_strings)[0]\n"
   ]
  },
  {
   "cell_type": "code",
   "execution_count": null,
   "metadata": {},
   "outputs": [],
   "source": []
  },
  {
   "cell_type": "code",
   "execution_count": null,
   "metadata": {},
   "outputs": [],
   "source": []
  }
 ],
 "metadata": {
  "kernelspec": {
   "display_name": "Python 3",
   "language": "python",
   "name": "python3"
  },
  "language_info": {
   "codemirror_mode": {
    "name": "ipython",
    "version": 3
   },
   "file_extension": ".py",
   "mimetype": "text/x-python",
   "name": "python",
   "nbconvert_exporter": "python",
   "pygments_lexer": "ipython3",
   "version": "3.7.3"
  }
 },
 "nbformat": 4,
 "nbformat_minor": 4
}
