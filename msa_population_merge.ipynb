{
 "cells": [
  {
   "cell_type": "code",
   "execution_count": 1,
   "metadata": {},
   "outputs": [],
   "source": [
    "import numpy as np\n",
    "import pandas as pd"
   ]
  },
  {
   "cell_type": "code",
   "execution_count": 15,
   "metadata": {},
   "outputs": [],
   "source": [
    "zip_ = pd.read_csv('zip_to_msa.csv',dtype='str').drop(columns=['Unnamed: 4'])"
   ]
  },
  {
   "cell_type": "code",
   "execution_count": 4,
   "metadata": {},
   "outputs": [],
   "source": [
    "zip_.msa_name = zip_.msa_name.replace('nan', np.nan)\n",
    "pop.msa_name = pop.msa_name.replace('nan', np.nan)"
   ]
  },
  {
   "cell_type": "code",
   "execution_count": 5,
   "metadata": {},
   "outputs": [],
   "source": [
    "zip_.msa_name.dropna(inplace=True)\n",
    "pop.msa_name.dropna(inplace=True)"
   ]
  },
  {
   "cell_type": "code",
   "execution_count": 6,
   "metadata": {},
   "outputs": [],
   "source": [
    "def clean(x):\n",
    "    return ('').join(((' ').join(x.split(\"-\"))).split(\",\"))"
   ]
  },
  {
   "cell_type": "code",
   "execution_count": 7,
   "metadata": {},
   "outputs": [],
   "source": [
    "pop.msa_name = pop.msa_name.apply(lambda x: clean(x))"
   ]
  },
  {
   "cell_type": "code",
   "execution_count": 8,
   "metadata": {},
   "outputs": [],
   "source": [
    "zip_.msa_name = zip_.msa_name.apply(lambda x: clean(x))"
   ]
  },
  {
   "cell_type": "code",
   "execution_count": 9,
   "metadata": {},
   "outputs": [
    {
     "data": {
      "text/plain": [
       "0                 Boston Cambridge Quincy MA NH Metro Area\n",
       "1                 Boston Cambridge Quincy MA NH Metro Area\n",
       "2                 Boston Cambridge Quincy MA NH Metro Area\n",
       "3                 Boston Cambridge Quincy MA NH Metro Area\n",
       "4                 Boston Cambridge Quincy MA NH Metro Area\n",
       "5                 Boston Cambridge Quincy MA NH Metro Area\n",
       "6        New York Northern New Jersey Long Island NY NJ...\n",
       "7        New York Northern New Jersey Long Island NY NJ...\n",
       "8                                  PR NONMETROPOLITAN AREA\n",
       "9            Aguadilla Isabela San Sebastian PR Metro Area\n",
       "10           Aguadilla Isabela San Sebastian PR Metro Area\n",
       "11           Aguadilla Isabela San Sebastian PR Metro Area\n",
       "12           Aguadilla Isabela San Sebastian PR Metro Area\n",
       "13                                 PR NONMETROPOLITAN AREA\n",
       "14           Aguadilla Isabela San Sebastian PR Metro Area\n",
       "15                                 PR NONMETROPOLITAN AREA\n",
       "16                  San Juan Caguas Guaynabo PR Metro Area\n",
       "17                  San Juan Caguas Guaynabo PR Metro Area\n",
       "18                  San Juan Caguas Guaynabo PR Metro Area\n",
       "19                  San Juan Caguas Guaynabo PR Metro Area\n",
       "20                  San Juan Caguas Guaynabo PR Metro Area\n",
       "21                      San German Cabo Rojo PR Metro Area\n",
       "22                      San German Cabo Rojo PR Metro Area\n",
       "23                                     Yauco PR Metro Area\n",
       "24                  San Juan Caguas Guaynabo PR Metro Area\n",
       "25           Aguadilla Isabela San Sebastian PR Metro Area\n",
       "26                      San German Cabo Rojo PR Metro Area\n",
       "27                      San German Cabo Rojo PR Metro Area\n",
       "28                  San Juan Caguas Guaynabo PR Metro Area\n",
       "29                                 PR NONMETROPOLITAN AREA\n",
       "                               ...                        \n",
       "43478                              AK NONMETROPOLITAN AREA\n",
       "43479                              AK NONMETROPOLITAN AREA\n",
       "43480                              AK NONMETROPOLITAN AREA\n",
       "43481                              AK NONMETROPOLITAN AREA\n",
       "43482                              AK NONMETROPOLITAN AREA\n",
       "43483                              AK NONMETROPOLITAN AREA\n",
       "43484                              AK NONMETROPOLITAN AREA\n",
       "43485                              AK NONMETROPOLITAN AREA\n",
       "43486                              AK NONMETROPOLITAN AREA\n",
       "43487                              AK NONMETROPOLITAN AREA\n",
       "43488                              AK NONMETROPOLITAN AREA\n",
       "43489                              AK NONMETROPOLITAN AREA\n",
       "43490                              AK NONMETROPOLITAN AREA\n",
       "43491                              AK NONMETROPOLITAN AREA\n",
       "43492                              AK NONMETROPOLITAN AREA\n",
       "43493                              AK NONMETROPOLITAN AREA\n",
       "43494                              AK NONMETROPOLITAN AREA\n",
       "43495                              AK NONMETROPOLITAN AREA\n",
       "43496                              AK NONMETROPOLITAN AREA\n",
       "43497                              AK NONMETROPOLITAN AREA\n",
       "43498                              AK NONMETROPOLITAN AREA\n",
       "43499                              AK NONMETROPOLITAN AREA\n",
       "43500                              AK NONMETROPOLITAN AREA\n",
       "43501                              AK NONMETROPOLITAN AREA\n",
       "43502                              AK NONMETROPOLITAN AREA\n",
       "43503                              AK NONMETROPOLITAN AREA\n",
       "43504                              AK NONMETROPOLITAN AREA\n",
       "43505                              AK NONMETROPOLITAN AREA\n",
       "43506                              AK NONMETROPOLITAN AREA\n",
       "43507                              AK NONMETROPOLITAN AREA\n",
       "Name: msa_name, Length: 43508, dtype: object"
      ]
     },
     "execution_count": 9,
     "metadata": {},
     "output_type": "execute_result"
    }
   ],
   "source": [
    "zip_.msa_name"
   ]
  },
  {
   "cell_type": "code",
   "execution_count": 18,
   "metadata": {},
   "outputs": [],
   "source": [
    "from fuzzywuzzy import fuzz\n",
    "name = 'temp'\n",
    "temp = 0\n",
    "d = {}\n",
    "for msa_zip in list(set(zip_.msa_name)):\n",
    "    for msa_pop in list(set(pop.msa_name)):\n",
    "        ratio = fuzz.token_sort_ratio(msa_zip, msa_pop)\n",
    "        if ratio > temp:\n",
    "            temp, name = ratio, msa_pop\n",
    "    if temp >= 70:\n",
    "        d[msa_zip] = name\n",
    "        temp = 0"
   ]
  },
  {
   "cell_type": "code",
   "execution_count": 20,
   "metadata": {},
   "outputs": [],
   "source": [
    "def try_fuzz(x):\n",
    "    try:\n",
    "        return d[x]\n",
    "    except:\n",
    "        return np.nan"
   ]
  },
  {
   "cell_type": "code",
   "execution_count": 21,
   "metadata": {},
   "outputs": [],
   "source": [
    "zip_['msa_name_fuzz'] = zip_.msa_name.apply(lambda x: try_fuzz(x))"
   ]
  },
  {
   "cell_type": "code",
   "execution_count": 22,
   "metadata": {},
   "outputs": [],
   "source": [
    "merged_msa = pd.merge(left=zip_ , right=pop, how='left', left_on='msa_name_fuzz', right_on='msa_name')"
   ]
  },
  {
   "cell_type": "code",
   "execution_count": 23,
   "metadata": {},
   "outputs": [],
   "source": [
    "merged_msa.dropna(inplace=True)"
   ]
  },
  {
   "cell_type": "code",
   "execution_count": 24,
   "metadata": {},
   "outputs": [
    {
     "data": {
      "text/plain": [
       "Index(['zip_code', 'state', 'msa_num', 'msa_name_x', 'msa_name_fuzz',\n",
       "       'msa_name_y', 'pop_2018'],\n",
       "      dtype='object')"
      ]
     },
     "execution_count": 24,
     "metadata": {},
     "output_type": "execute_result"
    }
   ],
   "source": [
    "merged_msa.columns"
   ]
  },
  {
   "cell_type": "code",
   "execution_count": 30,
   "metadata": {},
   "outputs": [],
   "source": [
    "df = merged_msa[['msa_name_fuzz','msa_name_x']]"
   ]
  },
  {
   "cell_type": "code",
   "execution_count": 20,
   "metadata": {},
   "outputs": [],
   "source": [
    "merged_msa.to_csv('zipcode_population.csv')"
   ]
  },
  {
   "cell_type": "code",
   "execution_count": null,
   "metadata": {},
   "outputs": [],
   "source": []
  },
  {
   "cell_type": "code",
   "execution_count": null,
   "metadata": {},
   "outputs": [],
   "source": []
  }
 ],
 "metadata": {
  "kernelspec": {
   "display_name": "Python 3",
   "language": "python",
   "name": "python3"
  },
  "language_info": {
   "codemirror_mode": {
    "name": "ipython",
    "version": 3
   },
   "file_extension": ".py",
   "mimetype": "text/x-python",
   "name": "python",
   "nbconvert_exporter": "python",
   "pygments_lexer": "ipython3",
   "version": "3.7.3"
  }
 },
 "nbformat": 4,
 "nbformat_minor": 4
}
