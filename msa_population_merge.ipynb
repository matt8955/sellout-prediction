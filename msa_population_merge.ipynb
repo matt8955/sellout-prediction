{
 "cells": [
  {
   "cell_type": "code",
   "execution_count": 1,
   "metadata": {},
   "outputs": [],
   "source": [
    "import numpy as np\n",
    "import pandas as pd"
   ]
  },
  {
   "cell_type": "code",
   "execution_count": 2,
   "metadata": {},
   "outputs": [],
   "source": [
    "pop = pd.read_csv('msa_pop.csv', encoding = \"ISO-8859-1\")"
   ]
  },
  {
   "cell_type": "code",
   "execution_count": 3,
   "metadata": {},
   "outputs": [],
   "source": [
    "zip_ = pd.read_csv('zip_to_msa.csv',dtype='str').drop(columns=['Unnamed: 4'])"
   ]
  },
  {
   "cell_type": "code",
   "execution_count": 4,
   "metadata": {},
   "outputs": [],
   "source": [
    "zip_.msa_name = zip_.msa_name.replace('nan', np.nan)\n",
    "pop.msa_name = pop.msa_name.replace('nan', np.nan)"
   ]
  },
  {
   "cell_type": "code",
   "execution_count": 5,
   "metadata": {},
   "outputs": [],
   "source": [
    "zip_.msa_name.dropna(inplace=True)\n",
    "pop.msa_name.dropna(inplace=True)"
   ]
  },
  {
   "cell_type": "code",
   "execution_count": 6,
   "metadata": {},
   "outputs": [],
   "source": [
    "def clean(x):\n",
    "    return ('').join(((' ').join(x.split(\"-\"))).split(\",\"))"
   ]
  },
  {
   "cell_type": "code",
   "execution_count": 7,
   "metadata": {},
   "outputs": [],
   "source": [
    "pop.msa_name = pop.msa_name.apply(lambda x: clean(x))"
   ]
  },
  {
   "cell_type": "code",
   "execution_count": 8,
   "metadata": {},
   "outputs": [],
   "source": [
    "zip_.msa_name = zip_.msa_name.apply(lambda x: clean(x))"
   ]
  },
  {
   "cell_type": "code",
   "execution_count": 9,
   "metadata": {},
   "outputs": [
    {
     "data": {
      "text/plain": [
       "0        Boston Cambridge Quincy MA NH Metro Area\n",
       "1        Boston Cambridge Quincy MA NH Metro Area\n",
       "2        Boston Cambridge Quincy MA NH Metro Area\n",
       "3        Boston Cambridge Quincy MA NH Metro Area\n",
       "4        Boston Cambridge Quincy MA NH Metro Area\n",
       "                           ...                   \n",
       "43503                     AK NONMETROPOLITAN AREA\n",
       "43504                     AK NONMETROPOLITAN AREA\n",
       "43505                     AK NONMETROPOLITAN AREA\n",
       "43506                     AK NONMETROPOLITAN AREA\n",
       "43507                     AK NONMETROPOLITAN AREA\n",
       "Name: msa_name, Length: 43508, dtype: object"
      ]
     },
     "execution_count": 9,
     "metadata": {},
     "output_type": "execute_result"
    }
   ],
   "source": [
    "zip_.msa_name"
   ]
  },
  {
   "cell_type": "code",
   "execution_count": 10,
   "metadata": {},
   "outputs": [],
   "source": [
    "from fuzzywuzzy import fuzz\n",
    "name = 'temp'\n",
    "temp = 0\n",
    "d = {}\n",
    "for msa_zip in list(set(zip_.msa_name)):\n",
    "    for msa_pop in list(set(pop.msa_name)):\n",
    "        ratio = fuzz.token_sort_ratio(msa_zip, msa_pop)\n",
    "        if ratio > temp:\n",
    "            temp = ratio\n",
    "            name = msa_pop\n",
    "    if temp >= 70:\n",
    "        d[msa_zip] = name\n",
    "        temp = 0"
   ]
  },
  {
   "cell_type": "code",
   "execution_count": 11,
   "metadata": {},
   "outputs": [
    {
     "data": {
      "text/plain": [
       "'Boston Cambridge Newton MA NH Metro Area'"
      ]
     },
     "execution_count": 11,
     "metadata": {},
     "output_type": "execute_result"
    }
   ],
   "source": [
    "d['Boston Cambridge Quincy MA NH Metro Area']"
   ]
  },
  {
   "cell_type": "code",
   "execution_count": 12,
   "metadata": {},
   "outputs": [],
   "source": [
    "def try_fuzz(x):\n",
    "    try:\n",
    "        return d[x]\n",
    "    except:\n",
    "        return np.nan"
   ]
  },
  {
   "cell_type": "code",
   "execution_count": 13,
   "metadata": {},
   "outputs": [],
   "source": [
    "zip_['msa_name_fuzz'] = zip_.msa_name.apply(lambda x: try_fuzz(x))"
   ]
  },
  {
   "cell_type": "code",
   "execution_count": 14,
   "metadata": {},
   "outputs": [],
   "source": [
    "merged_msa = pd.merge(left=zip_ , right=pop, how='left', left_on='msa_name_fuzz', right_on='msa_name')"
   ]
  },
  {
   "cell_type": "code",
   "execution_count": 15,
   "metadata": {},
   "outputs": [],
   "source": [
    "merged_msa.dropna(inplace=True)"
   ]
  },
  {
   "cell_type": "code",
   "execution_count": 16,
   "metadata": {},
   "outputs": [
    {
     "data": {
      "text/plain": [
       "Index(['zip_code', 'state', 'msa_num', 'msa_name_x', 'msa_name_fuzz',\n",
       "       'msa_name_y', 'pop_2018'],\n",
       "      dtype='object')"
      ]
     },
     "execution_count": 16,
     "metadata": {},
     "output_type": "execute_result"
    }
   ],
   "source": [
    "merged_msa.columns"
   ]
  },
  {
   "cell_type": "code",
   "execution_count": 17,
   "metadata": {},
   "outputs": [
    {
     "data": {
      "text/html": [
       "<div>\n",
       "<style scoped>\n",
       "    .dataframe tbody tr th:only-of-type {\n",
       "        vertical-align: middle;\n",
       "    }\n",
       "\n",
       "    .dataframe tbody tr th {\n",
       "        vertical-align: top;\n",
       "    }\n",
       "\n",
       "    .dataframe thead th {\n",
       "        text-align: right;\n",
       "    }\n",
       "</style>\n",
       "<table border=\"1\" class=\"dataframe\">\n",
       "  <thead>\n",
       "    <tr style=\"text-align: right;\">\n",
       "      <th></th>\n",
       "      <th>msa_name_fuzz</th>\n",
       "      <th>msa_name_x</th>\n",
       "    </tr>\n",
       "  </thead>\n",
       "  <tbody>\n",
       "    <tr>\n",
       "      <td>0</td>\n",
       "      <td>Boston Cambridge Newton MA NH Metro Area</td>\n",
       "      <td>Boston Cambridge Quincy MA NH Metro Area</td>\n",
       "    </tr>\n",
       "    <tr>\n",
       "      <td>1</td>\n",
       "      <td>Boston Cambridge Newton MA NH Metro Area</td>\n",
       "      <td>Boston Cambridge Quincy MA NH Metro Area</td>\n",
       "    </tr>\n",
       "    <tr>\n",
       "      <td>2</td>\n",
       "      <td>Boston Cambridge Newton MA NH Metro Area</td>\n",
       "      <td>Boston Cambridge Quincy MA NH Metro Area</td>\n",
       "    </tr>\n",
       "    <tr>\n",
       "      <td>3</td>\n",
       "      <td>Boston Cambridge Newton MA NH Metro Area</td>\n",
       "      <td>Boston Cambridge Quincy MA NH Metro Area</td>\n",
       "    </tr>\n",
       "    <tr>\n",
       "      <td>4</td>\n",
       "      <td>Boston Cambridge Newton MA NH Metro Area</td>\n",
       "      <td>Boston Cambridge Quincy MA NH Metro Area</td>\n",
       "    </tr>\n",
       "    <tr>\n",
       "      <td>...</td>\n",
       "      <td>...</td>\n",
       "      <td>...</td>\n",
       "    </tr>\n",
       "    <tr>\n",
       "      <td>43404</td>\n",
       "      <td>Fairbanks AK Metro Area</td>\n",
       "      <td>Fairbanks AK Metro Area</td>\n",
       "    </tr>\n",
       "    <tr>\n",
       "      <td>43405</td>\n",
       "      <td>Fairbanks AK Metro Area</td>\n",
       "      <td>Fairbanks AK Metro Area</td>\n",
       "    </tr>\n",
       "    <tr>\n",
       "      <td>43411</td>\n",
       "      <td>Fairbanks AK Metro Area</td>\n",
       "      <td>Fairbanks AK Metro Area</td>\n",
       "    </tr>\n",
       "    <tr>\n",
       "      <td>43459</td>\n",
       "      <td>Fairbanks AK Metro Area</td>\n",
       "      <td>Fairbanks AK Metro Area</td>\n",
       "    </tr>\n",
       "    <tr>\n",
       "      <td>43473</td>\n",
       "      <td>Fairbanks AK Metro Area</td>\n",
       "      <td>Fairbanks AK Metro Area</td>\n",
       "    </tr>\n",
       "  </tbody>\n",
       "</table>\n",
       "<p>42105 rows × 2 columns</p>\n",
       "</div>"
      ],
      "text/plain": [
       "                                  msa_name_fuzz  \\\n",
       "0      Boston Cambridge Newton MA NH Metro Area   \n",
       "1      Boston Cambridge Newton MA NH Metro Area   \n",
       "2      Boston Cambridge Newton MA NH Metro Area   \n",
       "3      Boston Cambridge Newton MA NH Metro Area   \n",
       "4      Boston Cambridge Newton MA NH Metro Area   \n",
       "...                                         ...   \n",
       "43404                   Fairbanks AK Metro Area   \n",
       "43405                   Fairbanks AK Metro Area   \n",
       "43411                   Fairbanks AK Metro Area   \n",
       "43459                   Fairbanks AK Metro Area   \n",
       "43473                   Fairbanks AK Metro Area   \n",
       "\n",
       "                                     msa_name_x  \n",
       "0      Boston Cambridge Quincy MA NH Metro Area  \n",
       "1      Boston Cambridge Quincy MA NH Metro Area  \n",
       "2      Boston Cambridge Quincy MA NH Metro Area  \n",
       "3      Boston Cambridge Quincy MA NH Metro Area  \n",
       "4      Boston Cambridge Quincy MA NH Metro Area  \n",
       "...                                         ...  \n",
       "43404                   Fairbanks AK Metro Area  \n",
       "43405                   Fairbanks AK Metro Area  \n",
       "43411                   Fairbanks AK Metro Area  \n",
       "43459                   Fairbanks AK Metro Area  \n",
       "43473                   Fairbanks AK Metro Area  \n",
       "\n",
       "[42105 rows x 2 columns]"
      ]
     },
     "execution_count": 17,
     "metadata": {},
     "output_type": "execute_result"
    }
   ],
   "source": [
    "merged_msa[['msa_name_fuzz','msa_name_x']]"
   ]
  },
  {
   "cell_type": "code",
   "execution_count": 20,
   "metadata": {},
   "outputs": [],
   "source": [
    "merged_msa.to_csv('zipcode_population.csv')"
   ]
  },
  {
   "cell_type": "code",
   "execution_count": null,
   "metadata": {},
   "outputs": [],
   "source": []
  },
  {
   "cell_type": "code",
   "execution_count": null,
   "metadata": {},
   "outputs": [],
   "source": []
  }
 ],
 "metadata": {
  "kernelspec": {
   "display_name": "Python 3",
   "language": "python",
   "name": "python3"
  },
  "language_info": {
   "codemirror_mode": {
    "name": "ipython",
    "version": 3
   },
   "file_extension": ".py",
   "mimetype": "text/x-python",
   "name": "python",
   "nbconvert_exporter": "python",
   "pygments_lexer": "ipython3",
   "version": "3.7.4"
  }
 },
 "nbformat": 4,
 "nbformat_minor": 4
}
