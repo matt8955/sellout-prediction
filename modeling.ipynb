{
 "cells": [
  {
   "cell_type": "code",
   "execution_count": 1,
   "metadata": {},
   "outputs": [],
   "source": [
    "import numpy as np\n",
    "import pandas as pd\n",
    "from tqdm import tqdm"
   ]
  },
  {
   "cell_type": "code",
   "execution_count": 2,
   "metadata": {},
   "outputs": [],
   "source": [
    "df = pd.read_csv('ticket_data.csv').drop(columns=['Unnamed: 0'])"
   ]
  },
  {
   "cell_type": "code",
   "execution_count": 3,
   "metadata": {},
   "outputs": [],
   "source": [
    "pop = pd.read_csv('zipcode_population.csv',dtype='str').drop(columns=['Unnamed: 0'])"
   ]
  },
  {
   "cell_type": "code",
   "execution_count": 4,
   "metadata": {},
   "outputs": [
    {
     "data": {
      "text/plain": [
       "Index(['datetime_local', 'is_ga', 'id', 'popularity_sg', 'short_title',\n",
       "       'tm_date', 'tm_event', 'listing_count', 'average_price', 'median_price',\n",
       "       'lowest_price', 'headliner', 'is_ga.1', 'event_name', 'price_min',\n",
       "       'price_max', 'max_tickets', 'venue_name', 'postalCode', 'city', 'state',\n",
       "       'country', 'address', 'longitude', 'latitude', 'num_markets', 'genre',\n",
       "       'subgenre', 'event_date', 'is_presale', 'days_event', 'day_of_week',\n",
       "       'date'],\n",
       "      dtype='object')"
      ]
     },
     "execution_count": 4,
     "metadata": {},
     "output_type": "execute_result"
    }
   ],
   "source": [
    "df.columns"
   ]
  },
  {
   "cell_type": "code",
   "execution_count": 5,
   "metadata": {},
   "outputs": [
    {
     "data": {
      "text/plain": [
       "0        00210\n",
       "1        00211\n",
       "2        00212\n",
       "3        00213\n",
       "4        00214\n",
       "         ...  \n",
       "42100    99714\n",
       "42101    99716\n",
       "42102    99725\n",
       "42103    99775\n",
       "42104    99790\n",
       "Name: zip_code, Length: 42105, dtype: object"
      ]
     },
     "execution_count": 5,
     "metadata": {},
     "output_type": "execute_result"
    }
   ],
   "source": [
    "pop.zip_code"
   ]
  },
  {
   "cell_type": "code",
   "execution_count": 6,
   "metadata": {},
   "outputs": [],
   "source": [
    "merged = pd.merge(left=df,right=pop,how='left', left_on='postalCode',right_on='zip_code')"
   ]
  },
  {
   "cell_type": "code",
   "execution_count": 7,
   "metadata": {},
   "outputs": [
    {
     "data": {
      "text/plain": [
       "0       False\n",
       "1       False\n",
       "2       False\n",
       "3       False\n",
       "4       False\n",
       "        ...  \n",
       "6237    False\n",
       "6238    False\n",
       "6239    False\n",
       "6240    False\n",
       "6241    False\n",
       "Name: pop_2018, Length: 6242, dtype: bool"
      ]
     },
     "execution_count": 7,
     "metadata": {},
     "output_type": "execute_result"
    }
   ],
   "source": [
    "merged.pop_2018.isna()"
   ]
  },
  {
   "cell_type": "code",
   "execution_count": 8,
   "metadata": {},
   "outputs": [],
   "source": [
    "venues = pd.read_csv('scraping/cleaned_venues.csv')"
   ]
  },
  {
   "cell_type": "code",
   "execution_count": 9,
   "metadata": {},
   "outputs": [
    {
     "data": {
      "text/plain": [
       "0       Mercury Ballroom\n",
       "1        Madison Theater\n",
       "2       Mercury Ballroom\n",
       "3       Mercury Ballroom\n",
       "4       Mercury Ballroom\n",
       "              ...       \n",
       "6237    Mercury Ballroom\n",
       "6238       Madison Live!\n",
       "6239    Mercury Ballroom\n",
       "6240       Madison Live!\n",
       "6241       Madison Live!\n",
       "Name: venue_name, Length: 6242, dtype: object"
      ]
     },
     "execution_count": 9,
     "metadata": {},
     "output_type": "execute_result"
    }
   ],
   "source": [
    "merged.venue_name"
   ]
  },
  {
   "cell_type": "code",
   "execution_count": 10,
   "metadata": {},
   "outputs": [],
   "source": [
    "from fuzzywuzzy import fuzz\n",
    "name = 'temp'\n",
    "temp = 0\n",
    "d = {}\n",
    "for merged_venue in list(set(merged.venue_name)):\n",
    "    for cap_venue in list(set(venues.Venue)):\n",
    "        ratio = fuzz.token_sort_ratio(merged_venue, cap_venue)\n",
    "        if ratio > temp:\n",
    "            temp = ratio\n",
    "            name = cap_venue\n",
    "    if temp >= 80:\n",
    "        d[merged_venue] = name\n",
    "        temp = 0"
   ]
  },
  {
   "cell_type": "code",
   "execution_count": 11,
   "metadata": {},
   "outputs": [],
   "source": [
    "def try_fuzz(x):\n",
    "    try:\n",
    "        return d[x]\n",
    "    except:\n",
    "        return np.nan"
   ]
  },
  {
   "cell_type": "code",
   "execution_count": 12,
   "metadata": {},
   "outputs": [],
   "source": [
    "merged['venue_fuzz'] = merged.venue_name.apply(lambda x: try_fuzz(x))"
   ]
  },
  {
   "cell_type": "code",
   "execution_count": 13,
   "metadata": {},
   "outputs": [],
   "source": [
    "venue_merge = pd.merge(left=merged,right=venues,how='left', left_on='venue_fuzz',right_on='Venue')"
   ]
  },
  {
   "cell_type": "code",
   "execution_count": 14,
   "metadata": {},
   "outputs": [
    {
     "data": {
      "text/plain": [
       "3814"
      ]
     },
     "execution_count": 14,
     "metadata": {},
     "output_type": "execute_result"
    }
   ],
   "source": [
    "venue_merge.Capacity.isna().sum()"
   ]
  },
  {
   "cell_type": "code",
   "execution_count": 15,
   "metadata": {},
   "outputs": [
    {
     "data": {
      "text/plain": [
       "(6871, 44)"
      ]
     },
     "execution_count": 15,
     "metadata": {},
     "output_type": "execute_result"
    }
   ],
   "source": [
    "venue_merge.shape"
   ]
  },
  {
   "cell_type": "code",
   "execution_count": 16,
   "metadata": {},
   "outputs": [
    {
     "data": {
      "text/plain": [
       "Index(['datetime_local', 'is_ga', 'id', 'popularity_sg', 'short_title',\n",
       "       'tm_date', 'tm_event', 'listing_count', 'average_price', 'median_price',\n",
       "       'lowest_price', 'headliner', 'is_ga.1', 'event_name', 'price_min',\n",
       "       'price_max', 'max_tickets', 'venue_name', 'postalCode', 'city',\n",
       "       'state_x', 'country', 'address', 'longitude', 'latitude', 'num_markets',\n",
       "       'genre', 'subgenre', 'event_date', 'is_presale', 'days_event',\n",
       "       'day_of_week', 'date', 'zip_code', 'state_y', 'msa_num', 'msa_name_x',\n",
       "       'msa_name_fuzz', 'msa_name_y', 'pop_2018', 'venue_fuzz', 'Venue',\n",
       "       'City', 'Capacity'],\n",
       "      dtype='object')"
      ]
     },
     "execution_count": 16,
     "metadata": {},
     "output_type": "execute_result"
    }
   ],
   "source": [
    "venue_merge.columns"
   ]
  },
  {
   "cell_type": "code",
   "execution_count": 17,
   "metadata": {},
   "outputs": [],
   "source": [
    "import spotipy\n",
    "from spotipy.oauth2 import SpotifyClientCredentials\n",
    "\n",
    "client_id='38e94de386924d73b4098a6a28d45070'\n",
    "client_secret='27899e6f31894a6aa3c572268f8658e5'\n",
    "\n",
    "client_credentials_manager = SpotifyClientCredentials(client_id=client_id, client_secret=client_secret)\n",
    "spot = spotipy.Spotify(client_credentials_manager=client_credentials_manager)"
   ]
  },
  {
   "cell_type": "code",
   "execution_count": 18,
   "metadata": {},
   "outputs": [
    {
     "name": "stderr",
     "output_type": "stream",
     "text": [
      "100%|██████████| 6871/6871 [12:41<00:00,  9.02it/s]\n"
     ]
    }
   ],
   "source": [
    "popularity = []\n",
    "for artist in tqdm(venue_merge.headliner):\n",
    "    results = spot.search(q='artist:' + artist, type='artist')\n",
    "    try:\n",
    "        x = results['artists']['items'][0]['popularity']\n",
    "        popularity.append(x)\n",
    "    except:\n",
    "        popularity.append(np.nan)"
   ]
  },
  {
   "cell_type": "code",
   "execution_count": 19,
   "metadata": {},
   "outputs": [],
   "source": [
    "venue_merge['spotify_popularity'] = popularity"
   ]
  },
  {
   "cell_type": "code",
   "execution_count": 20,
   "metadata": {},
   "outputs": [
    {
     "data": {
      "text/plain": [
       "Index(['datetime_local', 'is_ga', 'id', 'popularity_sg', 'short_title',\n",
       "       'tm_date', 'tm_event', 'listing_count', 'average_price', 'median_price',\n",
       "       'lowest_price', 'headliner', 'is_ga.1', 'event_name', 'price_min',\n",
       "       'price_max', 'max_tickets', 'venue_name', 'postalCode', 'city',\n",
       "       'state_x', 'country', 'address', 'longitude', 'latitude', 'num_markets',\n",
       "       'genre', 'subgenre', 'event_date', 'is_presale', 'days_event',\n",
       "       'day_of_week', 'date', 'zip_code', 'state_y', 'msa_num', 'msa_name_x',\n",
       "       'msa_name_fuzz', 'msa_name_y', 'pop_2018', 'venue_fuzz', 'Venue',\n",
       "       'City', 'Capacity', 'spotify_popularity'],\n",
       "      dtype='object')"
      ]
     },
     "execution_count": 20,
     "metadata": {},
     "output_type": "execute_result"
    }
   ],
   "source": [
    "venue_merge.columns"
   ]
  },
  {
   "cell_type": "code",
   "execution_count": 21,
   "metadata": {},
   "outputs": [],
   "source": [
    "train_df = venue_merge[['is_ga', 'average_price', 'median_price','lowest_price',\n",
    "                        'headliner', 'price_min','price_max', 'max_tickets','longitude',\n",
    "                        'latitude', 'num_markets','is_presale', 'days_event','day_of_week', \n",
    "                        'Capacity', 'spotify_popularity']].copy()"
   ]
  },
  {
   "cell_type": "code",
   "execution_count": 22,
   "metadata": {},
   "outputs": [],
   "source": [
    "train_df.rename(columns = {'average_price':'resale_average_price','median_price':'resale_median_price',\n",
    "                           'lowest_price':'resale_lowest_price','price_min':'tm_price_min','price_max':'tm_price_max'},\n",
    "               inplace=True)"
   ]
  },
  {
   "cell_type": "code",
   "execution_count": 23,
   "metadata": {},
   "outputs": [],
   "source": [
    "train_df['tm_avg_price']= (train_df.tm_price_max+train_df.tm_price_min)/2"
   ]
  },
  {
   "cell_type": "code",
   "execution_count": 24,
   "metadata": {},
   "outputs": [],
   "source": [
    "train_df['target'] = (train_df.resale_median_price - train_df.tm_avg_price)/train_df.tm_avg_price"
   ]
  },
  {
   "cell_type": "code",
   "execution_count": 25,
   "metadata": {},
   "outputs": [
    {
     "data": {
      "text/html": [
       "<div>\n",
       "<style scoped>\n",
       "    .dataframe tbody tr th:only-of-type {\n",
       "        vertical-align: middle;\n",
       "    }\n",
       "\n",
       "    .dataframe tbody tr th {\n",
       "        vertical-align: top;\n",
       "    }\n",
       "\n",
       "    .dataframe thead th {\n",
       "        text-align: right;\n",
       "    }\n",
       "</style>\n",
       "<table border=\"1\" class=\"dataframe\">\n",
       "  <thead>\n",
       "    <tr style=\"text-align: right;\">\n",
       "      <th></th>\n",
       "      <th>is_ga</th>\n",
       "      <th>resale_average_price</th>\n",
       "      <th>resale_median_price</th>\n",
       "      <th>resale_lowest_price</th>\n",
       "      <th>headliner</th>\n",
       "      <th>tm_price_min</th>\n",
       "      <th>tm_price_max</th>\n",
       "      <th>max_tickets</th>\n",
       "      <th>longitude</th>\n",
       "      <th>latitude</th>\n",
       "      <th>num_markets</th>\n",
       "      <th>is_presale</th>\n",
       "      <th>days_event</th>\n",
       "      <th>day_of_week</th>\n",
       "      <th>Capacity</th>\n",
       "      <th>spotify_popularity</th>\n",
       "      <th>tm_avg_price</th>\n",
       "      <th>target</th>\n",
       "    </tr>\n",
       "  </thead>\n",
       "  <tbody>\n",
       "    <tr>\n",
       "      <td>0</td>\n",
       "      <td>False</td>\n",
       "      <td>140.0</td>\n",
       "      <td>77.0</td>\n",
       "      <td>41.0</td>\n",
       "      <td>Cherub</td>\n",
       "      <td>20.0</td>\n",
       "      <td>20.0</td>\n",
       "      <td>10</td>\n",
       "      <td>-85.757890</td>\n",
       "      <td>38.248514</td>\n",
       "      <td>1.0</td>\n",
       "      <td>1</td>\n",
       "      <td>70.0</td>\n",
       "      <td>5.0</td>\n",
       "      <td>NaN</td>\n",
       "      <td>58.0</td>\n",
       "      <td>20.00</td>\n",
       "      <td>2.850000</td>\n",
       "    </tr>\n",
       "    <tr>\n",
       "      <td>1</td>\n",
       "      <td>False</td>\n",
       "      <td>192.0</td>\n",
       "      <td>73.0</td>\n",
       "      <td>64.0</td>\n",
       "      <td>Gregory Alan Isakov</td>\n",
       "      <td>24.5</td>\n",
       "      <td>29.0</td>\n",
       "      <td>10</td>\n",
       "      <td>-84.509506</td>\n",
       "      <td>39.082688</td>\n",
       "      <td>1.0</td>\n",
       "      <td>1</td>\n",
       "      <td>91.0</td>\n",
       "      <td>5.0</td>\n",
       "      <td>NaN</td>\n",
       "      <td>68.0</td>\n",
       "      <td>26.75</td>\n",
       "      <td>1.728972</td>\n",
       "    </tr>\n",
       "    <tr>\n",
       "      <td>2</td>\n",
       "      <td>False</td>\n",
       "      <td>93.0</td>\n",
       "      <td>46.0</td>\n",
       "      <td>27.0</td>\n",
       "      <td>Badfish</td>\n",
       "      <td>15.0</td>\n",
       "      <td>15.0</td>\n",
       "      <td>10</td>\n",
       "      <td>-85.757890</td>\n",
       "      <td>38.248514</td>\n",
       "      <td>1.0</td>\n",
       "      <td>1</td>\n",
       "      <td>152.0</td>\n",
       "      <td>3.0</td>\n",
       "      <td>NaN</td>\n",
       "      <td>13.0</td>\n",
       "      <td>15.00</td>\n",
       "      <td>2.066667</td>\n",
       "    </tr>\n",
       "    <tr>\n",
       "      <td>3</td>\n",
       "      <td>False</td>\n",
       "      <td>38.0</td>\n",
       "      <td>28.0</td>\n",
       "      <td>20.0</td>\n",
       "      <td>The Four Horsemen</td>\n",
       "      <td>10.0</td>\n",
       "      <td>10.0</td>\n",
       "      <td>10</td>\n",
       "      <td>-85.757890</td>\n",
       "      <td>38.248514</td>\n",
       "      <td>1.0</td>\n",
       "      <td>1</td>\n",
       "      <td>70.0</td>\n",
       "      <td>5.0</td>\n",
       "      <td>NaN</td>\n",
       "      <td>24.0</td>\n",
       "      <td>10.00</td>\n",
       "      <td>1.800000</td>\n",
       "    </tr>\n",
       "    <tr>\n",
       "      <td>4</td>\n",
       "      <td>False</td>\n",
       "      <td>111.0</td>\n",
       "      <td>72.0</td>\n",
       "      <td>31.0</td>\n",
       "      <td>Dzeko</td>\n",
       "      <td>20.0</td>\n",
       "      <td>20.0</td>\n",
       "      <td>10</td>\n",
       "      <td>-85.757890</td>\n",
       "      <td>38.248514</td>\n",
       "      <td>1.0</td>\n",
       "      <td>1</td>\n",
       "      <td>109.0</td>\n",
       "      <td>1.0</td>\n",
       "      <td>NaN</td>\n",
       "      <td>71.0</td>\n",
       "      <td>20.00</td>\n",
       "      <td>2.600000</td>\n",
       "    </tr>\n",
       "    <tr>\n",
       "      <td>...</td>\n",
       "      <td>...</td>\n",
       "      <td>...</td>\n",
       "      <td>...</td>\n",
       "      <td>...</td>\n",
       "      <td>...</td>\n",
       "      <td>...</td>\n",
       "      <td>...</td>\n",
       "      <td>...</td>\n",
       "      <td>...</td>\n",
       "      <td>...</td>\n",
       "      <td>...</td>\n",
       "      <td>...</td>\n",
       "      <td>...</td>\n",
       "      <td>...</td>\n",
       "      <td>...</td>\n",
       "      <td>...</td>\n",
       "      <td>...</td>\n",
       "      <td>...</td>\n",
       "    </tr>\n",
       "    <tr>\n",
       "      <td>6866</td>\n",
       "      <td>False</td>\n",
       "      <td>75.0</td>\n",
       "      <td>58.0</td>\n",
       "      <td>29.0</td>\n",
       "      <td>The Iron Maidens</td>\n",
       "      <td>13.0</td>\n",
       "      <td>13.0</td>\n",
       "      <td>10</td>\n",
       "      <td>-85.757890</td>\n",
       "      <td>38.248514</td>\n",
       "      <td>1.0</td>\n",
       "      <td>1</td>\n",
       "      <td>154.0</td>\n",
       "      <td>5.0</td>\n",
       "      <td>NaN</td>\n",
       "      <td>NaN</td>\n",
       "      <td>13.00</td>\n",
       "      <td>3.461538</td>\n",
       "    </tr>\n",
       "    <tr>\n",
       "      <td>6867</td>\n",
       "      <td>True</td>\n",
       "      <td>44.0</td>\n",
       "      <td>39.0</td>\n",
       "      <td>38.0</td>\n",
       "      <td>Bumpin Uglies</td>\n",
       "      <td>12.0</td>\n",
       "      <td>15.0</td>\n",
       "      <td>10</td>\n",
       "      <td>-84.509719</td>\n",
       "      <td>39.082536</td>\n",
       "      <td>1.0</td>\n",
       "      <td>0</td>\n",
       "      <td>67.0</td>\n",
       "      <td>2.0</td>\n",
       "      <td>NaN</td>\n",
       "      <td>51.0</td>\n",
       "      <td>13.50</td>\n",
       "      <td>1.888889</td>\n",
       "    </tr>\n",
       "    <tr>\n",
       "      <td>6868</td>\n",
       "      <td>False</td>\n",
       "      <td>40.0</td>\n",
       "      <td>34.0</td>\n",
       "      <td>24.0</td>\n",
       "      <td>That Arena Rock Show</td>\n",
       "      <td>10.0</td>\n",
       "      <td>10.0</td>\n",
       "      <td>10</td>\n",
       "      <td>-85.757890</td>\n",
       "      <td>38.248514</td>\n",
       "      <td>1.0</td>\n",
       "      <td>1</td>\n",
       "      <td>102.0</td>\n",
       "      <td>2.0</td>\n",
       "      <td>NaN</td>\n",
       "      <td>NaN</td>\n",
       "      <td>10.00</td>\n",
       "      <td>2.400000</td>\n",
       "    </tr>\n",
       "    <tr>\n",
       "      <td>6869</td>\n",
       "      <td>True</td>\n",
       "      <td>53.0</td>\n",
       "      <td>44.0</td>\n",
       "      <td>41.0</td>\n",
       "      <td>Aqueous</td>\n",
       "      <td>15.0</td>\n",
       "      <td>18.0</td>\n",
       "      <td>10</td>\n",
       "      <td>-84.509719</td>\n",
       "      <td>39.082536</td>\n",
       "      <td>1.0</td>\n",
       "      <td>0</td>\n",
       "      <td>121.0</td>\n",
       "      <td>4.0</td>\n",
       "      <td>NaN</td>\n",
       "      <td>29.0</td>\n",
       "      <td>16.50</td>\n",
       "      <td>1.666667</td>\n",
       "    </tr>\n",
       "    <tr>\n",
       "      <td>6870</td>\n",
       "      <td>False</td>\n",
       "      <td>NaN</td>\n",
       "      <td>NaN</td>\n",
       "      <td>NaN</td>\n",
       "      <td>Blackfoot Gypsies</td>\n",
       "      <td>10.0</td>\n",
       "      <td>12.0</td>\n",
       "      <td>10</td>\n",
       "      <td>-84.509719</td>\n",
       "      <td>39.082536</td>\n",
       "      <td>1.0</td>\n",
       "      <td>0</td>\n",
       "      <td>42.0</td>\n",
       "      <td>3.0</td>\n",
       "      <td>NaN</td>\n",
       "      <td>25.0</td>\n",
       "      <td>11.00</td>\n",
       "      <td>NaN</td>\n",
       "    </tr>\n",
       "  </tbody>\n",
       "</table>\n",
       "<p>6871 rows × 18 columns</p>\n",
       "</div>"
      ],
      "text/plain": [
       "      is_ga  resale_average_price  resale_median_price  resale_lowest_price  \\\n",
       "0     False                 140.0                 77.0                 41.0   \n",
       "1     False                 192.0                 73.0                 64.0   \n",
       "2     False                  93.0                 46.0                 27.0   \n",
       "3     False                  38.0                 28.0                 20.0   \n",
       "4     False                 111.0                 72.0                 31.0   \n",
       "...     ...                   ...                  ...                  ...   \n",
       "6866  False                  75.0                 58.0                 29.0   \n",
       "6867   True                  44.0                 39.0                 38.0   \n",
       "6868  False                  40.0                 34.0                 24.0   \n",
       "6869   True                  53.0                 44.0                 41.0   \n",
       "6870  False                   NaN                  NaN                  NaN   \n",
       "\n",
       "                 headliner  tm_price_min  tm_price_max max_tickets  longitude  \\\n",
       "0                   Cherub          20.0          20.0          10 -85.757890   \n",
       "1      Gregory Alan Isakov          24.5          29.0          10 -84.509506   \n",
       "2                  Badfish          15.0          15.0          10 -85.757890   \n",
       "3        The Four Horsemen          10.0          10.0          10 -85.757890   \n",
       "4                    Dzeko          20.0          20.0          10 -85.757890   \n",
       "...                    ...           ...           ...         ...        ...   \n",
       "6866      The Iron Maidens          13.0          13.0          10 -85.757890   \n",
       "6867         Bumpin Uglies          12.0          15.0          10 -84.509719   \n",
       "6868  That Arena Rock Show          10.0          10.0          10 -85.757890   \n",
       "6869               Aqueous          15.0          18.0          10 -84.509719   \n",
       "6870     Blackfoot Gypsies          10.0          12.0          10 -84.509719   \n",
       "\n",
       "       latitude  num_markets  is_presale  days_event  day_of_week Capacity  \\\n",
       "0     38.248514          1.0           1        70.0          5.0      NaN   \n",
       "1     39.082688          1.0           1        91.0          5.0      NaN   \n",
       "2     38.248514          1.0           1       152.0          3.0      NaN   \n",
       "3     38.248514          1.0           1        70.0          5.0      NaN   \n",
       "4     38.248514          1.0           1       109.0          1.0      NaN   \n",
       "...         ...          ...         ...         ...          ...      ...   \n",
       "6866  38.248514          1.0           1       154.0          5.0      NaN   \n",
       "6867  39.082536          1.0           0        67.0          2.0      NaN   \n",
       "6868  38.248514          1.0           1       102.0          2.0      NaN   \n",
       "6869  39.082536          1.0           0       121.0          4.0      NaN   \n",
       "6870  39.082536          1.0           0        42.0          3.0      NaN   \n",
       "\n",
       "      spotify_popularity  tm_avg_price    target  \n",
       "0                   58.0         20.00  2.850000  \n",
       "1                   68.0         26.75  1.728972  \n",
       "2                   13.0         15.00  2.066667  \n",
       "3                   24.0         10.00  1.800000  \n",
       "4                   71.0         20.00  2.600000  \n",
       "...                  ...           ...       ...  \n",
       "6866                 NaN         13.00  3.461538  \n",
       "6867                51.0         13.50  1.888889  \n",
       "6868                 NaN         10.00  2.400000  \n",
       "6869                29.0         16.50  1.666667  \n",
       "6870                25.0         11.00       NaN  \n",
       "\n",
       "[6871 rows x 18 columns]"
      ]
     },
     "execution_count": 25,
     "metadata": {},
     "output_type": "execute_result"
    }
   ],
   "source": [
    "train_df"
   ]
  },
  {
   "cell_type": "code",
   "execution_count": 26,
   "metadata": {},
   "outputs": [
    {
     "data": {
      "text/plain": [
       "Index(['is_ga', 'resale_average_price', 'resale_median_price',\n",
       "       'resale_lowest_price', 'headliner', 'tm_price_min', 'tm_price_max',\n",
       "       'max_tickets', 'longitude', 'latitude', 'num_markets', 'is_presale',\n",
       "       'days_event', 'day_of_week', 'Capacity', 'spotify_popularity',\n",
       "       'tm_avg_price', 'target'],\n",
       "      dtype='object')"
      ]
     },
     "execution_count": 26,
     "metadata": {},
     "output_type": "execute_result"
    }
   ],
   "source": [
    "train_df.columns"
   ]
  },
  {
   "cell_type": "code",
   "execution_count": 27,
   "metadata": {},
   "outputs": [],
   "source": [
    "train_df.drop(columns=['resale_average_price', 'resale_median_price',\n",
    "       'resale_lowest_price','tm_price_min', 'tm_price_max'],inplace=True)"
   ]
  },
  {
   "cell_type": "code",
   "execution_count": 28,
   "metadata": {},
   "outputs": [],
   "source": [
    "train_df.drop(columns=['headliner','longitude','latitude'],inplace=True)"
   ]
  },
  {
   "cell_type": "code",
   "execution_count": 29,
   "metadata": {},
   "outputs": [],
   "source": [
    "train_df.is_ga = train_df.is_ga.astype('int')\n",
    "train_df.max_tickets.replace('6 for presales', inplace=True)\n",
    "train_df.max_tickets = train_df.max_tickets.astype('int')"
   ]
  },
  {
   "cell_type": "code",
   "execution_count": 30,
   "metadata": {},
   "outputs": [],
   "source": [
    "from tpot import TPOTClassifier, TPOTRegressor\n",
    "import xgboost"
   ]
  },
  {
   "cell_type": "code",
   "execution_count": 31,
   "metadata": {},
   "outputs": [],
   "source": [
    "train_df['bool_target'] = train_df.target.apply(lambda x: 1 if x >= 1.3 else 0)"
   ]
  },
  {
   "cell_type": "code",
   "execution_count": 32,
   "metadata": {},
   "outputs": [
    {
     "data": {
      "text/plain": [
       "0.4080919807888226"
      ]
     },
     "execution_count": 32,
     "metadata": {},
     "output_type": "execute_result"
    }
   ],
   "source": [
    "train_df.bool_target.sum()/train_df.shape[0]"
   ]
  },
  {
   "cell_type": "code",
   "execution_count": 33,
   "metadata": {},
   "outputs": [],
   "source": [
    "train_df.dropna(subset=['spotify_popularity'],inplace=True)\n",
    "train_df.dropna(subset=['num_markets'],inplace=True)\n",
    "train_df.dropna(subset=['target'],inplace=True)"
   ]
  },
  {
   "cell_type": "code",
   "execution_count": 34,
   "metadata": {},
   "outputs": [],
   "source": [
    "X = train_df.drop(columns=['bool_target','target','day_of_week','Capacity'])\n",
    "y = train_df.bool_target"
   ]
  },
  {
   "cell_type": "code",
   "execution_count": 35,
   "metadata": {},
   "outputs": [],
   "source": [
    "from sklearn.model_selection import train_test_split"
   ]
  },
  {
   "cell_type": "code",
   "execution_count": 36,
   "metadata": {},
   "outputs": [],
   "source": [
    "X_train, X_test, y_train, y_test = train_test_split(X,y)"
   ]
  },
  {
   "cell_type": "code",
   "execution_count": 37,
   "metadata": {},
   "outputs": [],
   "source": [
    "pipeline_optimizer = TPOTClassifier(generations=10, population_size=10, cv=5,\n",
    "                                    random_state=42, verbosity=2, n_jobs=-1)"
   ]
  },
  {
   "cell_type": "code",
   "execution_count": 38,
   "metadata": {},
   "outputs": [
    {
     "data": {
      "application/vnd.jupyter.widget-view+json": {
       "model_id": "4a9a7f2007d6453b9898590a77e4c508",
       "version_major": 2,
       "version_minor": 0
      },
      "text/plain": [
       "HBox(children=(IntProgress(value=0, description='Optimization Progress', max=110, style=ProgressStyle(descript…"
      ]
     },
     "metadata": {},
     "output_type": "display_data"
    },
    {
     "name": "stdout",
     "output_type": "stream",
     "text": [
      "Generation 1 - Current best internal CV score: 0.7965736751556967\n",
      "Generation 2 - Current best internal CV score: 0.7965736751556967\n",
      "Generation 3 - Current best internal CV score: 0.7965736751556967\n",
      "Generation 4 - Current best internal CV score: 0.7968012064493719\n",
      "Generation 5 - Current best internal CV score: 0.7988565186571966\n",
      "Generation 6 - Current best internal CV score: 0.8013671537836171\n",
      "Generation 7 - Current best internal CV score: 0.8013671537836171\n",
      "Generation 8 - Current best internal CV score: 0.805705320203713\n",
      "Generation 9 - Current best internal CV score: 0.805705320203713\n",
      "Generation 10 - Current best internal CV score: 0.805705320203713\n",
      "\n",
      "Best pipeline: ExtraTreesClassifier(CombineDFs(input_matrix, ExtraTreesClassifier(input_matrix, bootstrap=True, criterion=gini, max_features=0.6000000000000001, min_samples_leaf=18, min_samples_split=15, n_estimators=100)), bootstrap=False, criterion=entropy, max_features=0.6500000000000001, min_samples_leaf=3, min_samples_split=20, n_estimators=100)\n"
     ]
    },
    {
     "data": {
      "text/plain": [
       "TPOTClassifier(config_dict=None, crossover_rate=0.1, cv=5,\n",
       "               disable_update_check=False, early_stop=None, generations=10,\n",
       "               max_eval_time_mins=5, max_time_mins=None, memory=None,\n",
       "               mutation_rate=0.9, n_jobs=-1, offspring_size=None,\n",
       "               periodic_checkpoint_folder=None, population_size=10,\n",
       "               random_state=42, scoring=None, subsample=1.0, template=None,\n",
       "               use_dask=False, verbosity=2, warm_start=False)"
      ]
     },
     "execution_count": 38,
     "metadata": {},
     "output_type": "execute_result"
    }
   ],
   "source": [
    "pipeline_optimizer.fit(X_train, y_train)"
   ]
  },
  {
   "cell_type": "code",
   "execution_count": 39,
   "metadata": {},
   "outputs": [],
   "source": [
    "pipeline_optimizer.export('concert_pipeline_classifier.py')"
   ]
  },
  {
   "cell_type": "code",
   "execution_count": 43,
   "metadata": {},
   "outputs": [],
   "source": [
    "from concert_pipeline_classifier import exported_pipeline as pipeline"
   ]
  },
  {
   "cell_type": "code",
   "execution_count": 45,
   "metadata": {},
   "outputs": [
    {
     "name": "stderr",
     "output_type": "stream",
     "text": [
      "/Users/matt/.pyenv/versions/3.7.4/lib/python3.7/site-packages/sklearn/preprocessing/_function_transformer.py:97: FutureWarning: The default validate=True will be replaced by validate=False in 0.22.\n",
      "  \"validate=False in 0.22.\", FutureWarning)\n",
      "/Users/matt/.pyenv/versions/3.7.4/lib/python3.7/site-packages/sklearn/preprocessing/_function_transformer.py:97: FutureWarning: The default validate=True will be replaced by validate=False in 0.22.\n",
      "  \"validate=False in 0.22.\", FutureWarning)\n"
     ]
    },
    {
     "data": {
      "text/plain": [
       "Pipeline(memory=None,\n",
       "         steps=[('featureunion',\n",
       "                 FeatureUnion(n_jobs=None,\n",
       "                              transformer_list=[('functiontransformer',\n",
       "                                                 FunctionTransformer(accept_sparse=False,\n",
       "                                                                     check_inverse=True,\n",
       "                                                                     func=<function copy at 0x1008e6dd0>,\n",
       "                                                                     inv_kw_args=None,\n",
       "                                                                     inverse_func=None,\n",
       "                                                                     kw_args=None,\n",
       "                                                                     pass_y='deprecated',\n",
       "                                                                     validate=None)),\n",
       "                                                ('stackingestimator',\n",
       "                                                 StackingEstimator(estimator=ExtraTreesClass...\n",
       "                 ExtraTreesClassifier(bootstrap=False, class_weight=None,\n",
       "                                      criterion='entropy', max_depth=None,\n",
       "                                      max_features=0.6500000000000001,\n",
       "                                      max_leaf_nodes=None,\n",
       "                                      min_impurity_decrease=0.0,\n",
       "                                      min_impurity_split=None,\n",
       "                                      min_samples_leaf=3, min_samples_split=20,\n",
       "                                      min_weight_fraction_leaf=0.0,\n",
       "                                      n_estimators=100, n_jobs=None,\n",
       "                                      oob_score=False, random_state=None,\n",
       "                                      verbose=0, warm_start=False))],\n",
       "         verbose=False)"
      ]
     },
     "execution_count": 45,
     "metadata": {},
     "output_type": "execute_result"
    }
   ],
   "source": [
    "pipeline.fit(X_train, y_train)"
   ]
  },
  {
   "cell_type": "code",
   "execution_count": 46,
   "metadata": {},
   "outputs": [
    {
     "name": "stderr",
     "output_type": "stream",
     "text": [
      "/Users/matt/.pyenv/versions/3.7.4/lib/python3.7/site-packages/sklearn/preprocessing/_function_transformer.py:97: FutureWarning: The default validate=True will be replaced by validate=False in 0.22.\n",
      "  \"validate=False in 0.22.\", FutureWarning)\n"
     ]
    }
   ],
   "source": [
    "results = pipeline.predict(X_test)"
   ]
  },
  {
   "cell_type": "code",
   "execution_count": 47,
   "metadata": {},
   "outputs": [],
   "source": [
    "from sklearn.metrics import confusion_matrix, accuracy_score, classification_report"
   ]
  },
  {
   "cell_type": "code",
   "execution_count": 48,
   "metadata": {},
   "outputs": [
    {
     "name": "stdout",
     "output_type": "stream",
     "text": [
      "              precision    recall  f1-score   support\n",
      "\n",
      "           0       0.87      0.79      0.83       924\n",
      "           1       0.69      0.80      0.74       536\n",
      "\n",
      "    accuracy                           0.79      1460\n",
      "   macro avg       0.78      0.80      0.78      1460\n",
      "weighted avg       0.80      0.79      0.80      1460\n",
      "\n"
     ]
    }
   ],
   "source": [
    "print(classification_report(results,y_test))"
   ]
  },
  {
   "cell_type": "code",
   "execution_count": 50,
   "metadata": {},
   "outputs": [
    {
     "data": {
      "text/plain": [
       "array([[728, 196],\n",
       "       [106, 430]])"
      ]
     },
     "execution_count": 50,
     "metadata": {},
     "output_type": "execute_result"
    }
   ],
   "source": [
    "confusion_matrix(results,y_test)"
   ]
  },
  {
   "cell_type": "code",
   "execution_count": 51,
   "metadata": {},
   "outputs": [],
   "source": [
    "from xgboost import XGBClassifier"
   ]
  },
  {
   "cell_type": "code",
   "execution_count": 52,
   "metadata": {},
   "outputs": [],
   "source": [
    "xg = XGBClassifier(n_jobs=-1,max_depth=10, n_estimators=5000)"
   ]
  },
  {
   "cell_type": "code",
   "execution_count": 53,
   "metadata": {},
   "outputs": [
    {
     "data": {
      "text/plain": [
       "XGBClassifier(base_score=0.5, booster='gbtree', colsample_bylevel=1,\n",
       "              colsample_bynode=1, colsample_bytree=1, gamma=0,\n",
       "              learning_rate=0.1, max_delta_step=0, max_depth=10,\n",
       "              min_child_weight=1, missing=None, n_estimators=5000, n_jobs=-1,\n",
       "              nthread=None, objective='binary:logistic', random_state=0,\n",
       "              reg_alpha=0, reg_lambda=1, scale_pos_weight=1, seed=None,\n",
       "              silent=None, subsample=1, verbosity=1)"
      ]
     },
     "execution_count": 53,
     "metadata": {},
     "output_type": "execute_result"
    }
   ],
   "source": [
    "xg.fit(X_train,y_train)"
   ]
  },
  {
   "cell_type": "code",
   "execution_count": 56,
   "metadata": {},
   "outputs": [],
   "source": [
    "xg_pred = xg.predict(X_test)"
   ]
  },
  {
   "cell_type": "code",
   "execution_count": 57,
   "metadata": {},
   "outputs": [
    {
     "name": "stdout",
     "output_type": "stream",
     "text": [
      "              precision    recall  f1-score   support\n",
      "\n",
      "           0       0.84      0.80      0.82       878\n",
      "           1       0.72      0.77      0.75       582\n",
      "\n",
      "    accuracy                           0.79      1460\n",
      "   macro avg       0.78      0.79      0.78      1460\n",
      "weighted avg       0.79      0.79      0.79      1460\n",
      "\n"
     ]
    }
   ],
   "source": [
    "print(classification_report(xg_pred,y_test))"
   ]
  },
  {
   "cell_type": "code",
   "execution_count": 58,
   "metadata": {},
   "outputs": [
    {
     "data": {
      "text/plain": [
       "array([[703, 175],\n",
       "       [131, 451]])"
      ]
     },
     "execution_count": 58,
     "metadata": {},
     "output_type": "execute_result"
    }
   ],
   "source": [
    "confusion_matrix(xg_pred,y_test)"
   ]
  },
  {
   "cell_type": "code",
   "execution_count": 60,
   "metadata": {},
   "outputs": [
    {
     "data": {
      "text/plain": [
       "0.7904109589041096"
      ]
     },
     "execution_count": 60,
     "metadata": {},
     "output_type": "execute_result"
    }
   ],
   "source": [
    "accuracy_score(xg_pred,y_test)"
   ]
  },
  {
   "cell_type": "code",
   "execution_count": null,
   "metadata": {},
   "outputs": [],
   "source": []
  }
 ],
 "metadata": {
  "kernelspec": {
   "display_name": "Python 3",
   "language": "python",
   "name": "python3"
  },
  "language_info": {
   "codemirror_mode": {
    "name": "ipython",
    "version": 3
   },
   "file_extension": ".py",
   "mimetype": "text/x-python",
   "name": "python",
   "nbconvert_exporter": "python",
   "pygments_lexer": "ipython3",
   "version": "3.7.4"
  }
 },
 "nbformat": 4,
 "nbformat_minor": 4
}
